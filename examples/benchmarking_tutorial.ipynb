{
 "cells": [
  {
   "cell_type": "markdown",
   "id": "50e8d179",
   "metadata": {},
   "source": [
    "# Benchmarking aptamer evaluation algorithms\n",
    "Step-by-step guide for using `AptaNet` for benchmarking."
   ]
  },
  {
   "cell_type": "markdown",
   "id": "40a64683",
   "metadata": {},
   "source": [
    "## Overview\n",
    "This notebook introduces the Benchmarking class, a utility for systematically comparing machine learning estimators on a given dataset using cross-validation. It is designed to streamline model evaluation across multiple metrics and provide results in a unified, interpretable format.\n",
    "\n",
    "The output is a summary table that makes it easy to compare different models and metrics at a glance."
   ]
  },
  {
   "cell_type": "markdown",
   "id": "fef8f486",
   "metadata": {},
   "source": [
    "## Data preparation\n",
    "To train the `AptaNetPipeline` the notebook uses the dataset used to train the `AptaTrans` algorithm, this dataset can be found in `pyaptamer/datasets/data/train_li2014`."
   ]
  },
  {
   "cell_type": "code",
   "execution_count": 1,
   "id": "a2f72544",
   "metadata": {},
   "outputs": [
    {
     "name": "stderr",
     "output_type": "stream",
     "text": [
      "c:\\Users\\satvm\\miniconda3\\envs\\pyaptamer-latest\\Lib\\site-packages\\tqdm\\auto.py:21: TqdmWarning: IProgress not found. Please update jupyter and ipywidgets. See https://ipywidgets.readthedocs.io/en/stable/user_install.html\n",
      "  from .autonotebook import tqdm as notebook_tqdm\n"
     ]
    }
   ],
   "source": [
    "# Data imports\n",
    "import numpy as np\n",
    "\n",
    "from pyaptamer.datasets import load_csv_dataset"
   ]
  },
  {
   "cell_type": "code",
   "execution_count": 4,
   "id": "27e4d060",
   "metadata": {},
   "outputs": [],
   "source": [
    "# Load dataset (returns DataFrames)\n",
    "X_raw, y_raw = load_csv_dataset(\"train_li2014\", \"label\", return_X_y=True)\n",
    "\n",
    "# Build combinations in the form of (aptamer, protein)\n",
    "X = list(zip(X_raw.iloc[:, 0], X_raw.iloc[:, 1], strict=False))[:100]\n",
    "\n",
    "# Binary labels for the pairs\n",
    "y = np.where(y_raw == \"positive\", 1, 0)[:100]"
   ]
  },
  {
   "cell_type": "markdown",
   "id": "113d9522",
   "metadata": {},
   "source": [
    "## Different workflows\n",
    "Benchmarking offers 2 main workflows, both depending on how you want to use `cv` (cross validation) in your benchmarking experiment:\n",
    "1. Using normal k-fold cross-validation\n",
    "2. Using `PredefinedSplit` to create a fixed train/test split"
   ]
  },
  {
   "cell_type": "markdown",
   "id": "18b3abd2",
   "metadata": {},
   "source": [
    "### 1. Using normal k-fold cross validation for benchmarking"
   ]
  },
  {
   "cell_type": "code",
   "execution_count": 5,
   "id": "840249ec",
   "metadata": {},
   "outputs": [
    {
     "name": "stderr",
     "output_type": "stream",
     "text": [
      "c:\\Users\\satvm\\pyaptamer\\pyaptamer\\pseaac\\_features.py:199: UserWarning: Invalid amino acid(s) found in sequence. Replaced with 'N'.\n",
      "  seq = clean_protein_seq(protein_sequence)\n",
      "c:\\Users\\satvm\\miniconda3\\envs\\pyaptamer-latest\\Lib\\site-packages\\sklearn\\utils\\validation.py:1406: DataConversionWarning: A column-vector y was passed when a 1d array was expected. Please change the shape of y to (n_samples, ), for example using ravel().\n",
      "  y = column_or_1d(y, warn=True)\n",
      "c:\\Users\\satvm\\pyaptamer\\pyaptamer\\pseaac\\_features.py:199: UserWarning: Invalid amino acid(s) found in sequence. Replaced with 'N'.\n",
      "  seq = clean_protein_seq(protein_sequence)\n",
      "c:\\Users\\satvm\\pyaptamer\\pyaptamer\\pseaac\\_features.py:199: UserWarning: Invalid amino acid(s) found in sequence. Replaced with 'N'.\n",
      "  seq = clean_protein_seq(protein_sequence)\n",
      "c:\\Users\\satvm\\pyaptamer\\pyaptamer\\pseaac\\_features.py:199: UserWarning: Invalid amino acid(s) found in sequence. Replaced with 'N'.\n",
      "  seq = clean_protein_seq(protein_sequence)\n",
      "c:\\Users\\satvm\\miniconda3\\envs\\pyaptamer-latest\\Lib\\site-packages\\sklearn\\utils\\validation.py:1406: DataConversionWarning: A column-vector y was passed when a 1d array was expected. Please change the shape of y to (n_samples, ), for example using ravel().\n",
      "  y = column_or_1d(y, warn=True)\n",
      "c:\\Users\\satvm\\pyaptamer\\pyaptamer\\pseaac\\_features.py:199: UserWarning: Invalid amino acid(s) found in sequence. Replaced with 'N'.\n",
      "  seq = clean_protein_seq(protein_sequence)\n",
      "c:\\Users\\satvm\\pyaptamer\\pyaptamer\\pseaac\\_features.py:199: UserWarning: Invalid amino acid(s) found in sequence. Replaced with 'N'.\n",
      "  seq = clean_protein_seq(protein_sequence)\n",
      "c:\\Users\\satvm\\miniconda3\\envs\\pyaptamer-latest\\Lib\\site-packages\\sklearn\\utils\\validation.py:1406: DataConversionWarning: A column-vector y was passed when a 1d array was expected. Please change the shape of y to (n_samples, ), for example using ravel().\n",
      "  y = column_or_1d(y, warn=True)\n",
      "c:\\Users\\satvm\\pyaptamer\\pyaptamer\\pseaac\\_features.py:199: UserWarning: Invalid amino acid(s) found in sequence. Replaced with 'N'.\n",
      "  seq = clean_protein_seq(protein_sequence)\n",
      "c:\\Users\\satvm\\pyaptamer\\pyaptamer\\pseaac\\_features.py:199: UserWarning: Invalid amino acid(s) found in sequence. Replaced with 'N'.\n",
      "  seq = clean_protein_seq(protein_sequence)\n",
      "c:\\Users\\satvm\\pyaptamer\\pyaptamer\\pseaac\\_features.py:199: UserWarning: Invalid amino acid(s) found in sequence. Replaced with 'N'.\n",
      "  seq = clean_protein_seq(protein_sequence)\n",
      "c:\\Users\\satvm\\miniconda3\\envs\\pyaptamer-latest\\Lib\\site-packages\\sklearn\\utils\\validation.py:1406: DataConversionWarning: A column-vector y was passed when a 1d array was expected. Please change the shape of y to (n_samples, ), for example using ravel().\n",
      "  y = column_or_1d(y, warn=True)\n",
      "c:\\Users\\satvm\\pyaptamer\\pyaptamer\\pseaac\\_features.py:199: UserWarning: Invalid amino acid(s) found in sequence. Replaced with 'N'.\n",
      "  seq = clean_protein_seq(protein_sequence)\n",
      "c:\\Users\\satvm\\pyaptamer\\pyaptamer\\pseaac\\_features.py:199: UserWarning: Invalid amino acid(s) found in sequence. Replaced with 'N'.\n",
      "  seq = clean_protein_seq(protein_sequence)\n",
      "c:\\Users\\satvm\\miniconda3\\envs\\pyaptamer-latest\\Lib\\site-packages\\sklearn\\utils\\validation.py:1406: DataConversionWarning: A column-vector y was passed when a 1d array was expected. Please change the shape of y to (n_samples, ), for example using ravel().\n",
      "  y = column_or_1d(y, warn=True)\n",
      "c:\\Users\\satvm\\pyaptamer\\pyaptamer\\pseaac\\_features.py:199: UserWarning: Invalid amino acid(s) found in sequence. Replaced with 'N'.\n",
      "  seq = clean_protein_seq(protein_sequence)\n",
      "c:\\Users\\satvm\\pyaptamer\\pyaptamer\\pseaac\\_features.py:199: UserWarning: Invalid amino acid(s) found in sequence. Replaced with 'N'.\n",
      "  seq = clean_protein_seq(protein_sequence)\n"
     ]
    },
    {
     "name": "stdout",
     "output_type": "stream",
     "text": [
      "                                train  test\n",
      "estimator       metric                     \n",
      "AptaNetPipeline accuracy_score    1.0   1.0\n"
     ]
    }
   ],
   "source": [
    "from sklearn.metrics import accuracy_score\n",
    "from sklearn.model_selection import KFold\n",
    "\n",
    "from pyaptamer.aptanet import AptaNetPipeline\n",
    "from pyaptamer.benchmarking import Benchmarking\n",
    "\n",
    "# Example estimator\n",
    "clf = AptaNetPipeline(k=4)\n",
    "\n",
    "# Define a 5-fold CV strategy\n",
    "cv = KFold(n_splits=5, shuffle=True, random_state=42)\n",
    "\n",
    "# Run benchmarking with CV\n",
    "bench = Benchmarking(\n",
    "    estimators=[clf],\n",
    "    metrics=[accuracy_score],\n",
    "    X=X,\n",
    "    y=y,\n",
    "    cv=cv,\n",
    ")\n",
    "results_cv = bench.run()\n",
    "print(results_cv)"
   ]
  },
  {
   "cell_type": "markdown",
   "id": "87923ac7",
   "metadata": {},
   "source": [
    "### 2. Using PredefinedSplit for benchmarking with a fixed train/test split"
   ]
  },
  {
   "cell_type": "code",
   "execution_count": 6,
   "id": "8e504488",
   "metadata": {},
   "outputs": [
    {
     "name": "stderr",
     "output_type": "stream",
     "text": [
      "c:\\Users\\satvm\\pyaptamer\\pyaptamer\\pseaac\\_features.py:199: UserWarning: Invalid amino acid(s) found in sequence. Replaced with 'N'.\n",
      "  seq = clean_protein_seq(protein_sequence)\n",
      "c:\\Users\\satvm\\miniconda3\\envs\\pyaptamer-latest\\Lib\\site-packages\\sklearn\\utils\\validation.py:1406: DataConversionWarning: A column-vector y was passed when a 1d array was expected. Please change the shape of y to (n_samples, ), for example using ravel().\n",
      "  y = column_or_1d(y, warn=True)\n",
      "c:\\Users\\satvm\\pyaptamer\\pyaptamer\\pseaac\\_features.py:199: UserWarning: Invalid amino acid(s) found in sequence. Replaced with 'N'.\n",
      "  seq = clean_protein_seq(protein_sequence)\n"
     ]
    },
    {
     "name": "stdout",
     "output_type": "stream",
     "text": [
      "                                train  test\n",
      "estimator       metric                     \n",
      "AptaNetPipeline accuracy_score    1.0   1.0\n"
     ]
    }
   ],
   "source": [
    "from sklearn.model_selection import PredefinedSplit\n",
    "\n",
    "# Define a custom train/test split\n",
    "# Here, last 10 samples are used as test set\n",
    "test_fold = np.ones(len(y)) * -1\n",
    "test_fold[-10:] = 0\n",
    "cv = PredefinedSplit(test_fold)\n",
    "\n",
    "# Run benchmarking with fixed split\n",
    "bench_fixed = Benchmarking(\n",
    "    estimators=[clf],\n",
    "    metrics=[accuracy_score],\n",
    "    X=X,\n",
    "    y=y,\n",
    "    cv=cv,\n",
    ")\n",
    "results_fixed = bench_fixed.run()\n",
    "print(results_fixed)"
   ]
  },
  {
   "cell_type": "code",
   "execution_count": null,
   "id": "1f060c7a",
   "metadata": {},
   "outputs": [],
   "source": []
  }
 ],
 "metadata": {
  "kernelspec": {
   "display_name": "pyaptamer-latest",
   "language": "python",
   "name": "python3"
  },
  "language_info": {
   "codemirror_mode": {
    "name": "ipython",
    "version": 3
   },
   "file_extension": ".py",
   "mimetype": "text/x-python",
   "name": "python",
   "nbconvert_exporter": "python",
   "pygments_lexer": "ipython3",
   "version": "3.12.11"
  }
 },
 "nbformat": 4,
 "nbformat_minor": 5
}
