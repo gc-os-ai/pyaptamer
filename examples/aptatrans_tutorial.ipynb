{
 "cells": [
  {
   "cell_type": "code",
   "execution_count": null,
   "metadata": {},
   "outputs": [],
   "source": [
    "from sklearn.model_selection import train_test_split\n",
    "from torch.utils.data import DataLoader\n",
    "\n",
    "from pyaptamer.datasets import load_csv_dataset, load_hf_dataset\n",
    "from pyaptamer.datasets.dataclasses import MaskedDataset\n",
    "from pyaptamer.utils.preprocessing import augment_reverse\n",
    "\n",
    "# auto-reloading external modules\n",
    "%load_ext autoreload\n",
    "%autoreload 2"
   ]
  },
  {
   "cell_type": "markdown",
   "metadata": {},
   "source": [
    "## Settings"
   ]
  },
  {
   "cell_type": "code",
   "execution_count": null,
   "metadata": {},
   "outputs": [],
   "source": [
    "BATCH_SIZE = 64\n",
    "TEST_SIZE = 0.05\n",
    "RAMDOM_STATE = 42 # for reproducibility\n",
    "\n",
    "# RNA embeddings (pretraining)\n",
    "RNA_MAX_LEN = 275"
   ]
  },
  {
   "cell_type": "markdown",
   "metadata": {},
   "source": [
    "## Data"
   ]
  },
  {
   "cell_type": "markdown",
   "metadata": {},
   "source": [
    "### Load RNA data for pretraining"
   ]
  },
  {
   "cell_type": "code",
   "execution_count": null,
   "metadata": {},
   "outputs": [],
   "source": [
    "# (1.) load the RNA dataset for pretraining\n",
    "rna_dataset = load_hf_dataset(name=\"bpRNA-shin2023\", store=True)\n",
    "\n",
    "# (2.) Creaye training-test splits of (sequence, secondary structure (ss)) pairs\n",
    "x_rna_train, x_rna_test, y_rna_train, y_rna_test = train_test_split(\n",
    "    rna_dataset[\"SEQUENCE\"].tolist(), \n",
    "    rna_dataset[\"SS\"].tolist(), \n",
    "    test_size=TEST_SIZE, \n",
    "    random_state=RAMDOM_STATE,\n",
    ")\n",
    "\n",
    "# (3.) augment training data by adding reverse complements\n",
    "# e.g., (seq=\"ACG\", ss=\"SHM\") -> (seq=\"GCA\", ss=\"MHS\")\n",
    "x_rna_train, y_rna_train = augment_reverse(x_rna_train, y_rna_train)\n",
    "\n",
    "# (4.) mask the dataset for pretraining embeddings\n",
    "train_rna = MaskedDataset(\n",
    "    x=x_rna_train,\n",
    "    y=y_rna_train,\n",
    "    mask_idx=0,\n",
    "    max_len=RNA_MAX_LEN,\n",
    "    is_rna=True,\n",
    ")\n",
    "test_rna = MaskedDataset(\n",
    "    x=x_rna_test,\n",
    "    y=y_rna_test,\n",
    "    mask_idx=0,\n",
    "    max_len=RNA_MAX_LEN,\n",
    "    is_rna=True,\n",
    ")\n",
    "\n",
    "# (5.) create dataloaders\n",
    "train_rna_dataloader = DataLoader(\n",
    "    train_rna,\n",
    "    batch_size=BATCH_SIZE,\n",
    "    shuffle=True,\n",
    ")\n",
    "test_rna_dataloader = DataLoader(\n",
    "    test_rna,\n",
    "    batch_size=BATCH_SIZE,\n",
    "    shuffle=True,\n",
    ")"
   ]
  },
  {
   "cell_type": "markdown",
   "metadata": {},
   "source": [
    "### Load protein data for pretraining"
   ]
  },
  {
   "cell_type": "code",
   "execution_count": null,
   "metadata": {},
   "outputs": [],
   "source": [
    "# (1.) load the proteins' dataset for pretraining\n",
    "prot_dataset = load_hf_dataset(name=\"proteins-shin2023\", store=True)\n",
    "\n",
    "# (2.) Creaye training-test splits of (sequence, secondary structure (ss)) pairs\n",
    "x_prot_train, x_prot_test, y_prot_train, y_prot_test = train_test_split(\n",
    "    prot_dataset[\"SEQUENCE\"].tolist(), \n",
    "    prot_dataset[\"SS\"].tolist(), \n",
    "    test_size=TEST_SIZE, \n",
    "    random_state=RAMDOM_STATE,\n",
    ")\n",
    "\n",
    "\"\"\"\n",
    "# (3.) transform sequence to a numerical representation (vectors)\n",
    "\n",
    "\n",
    "# (4.) create dataloaders\n",
    "train_prot_dataloader = DataLoader(\n",
    "    train_prot,\n",
    "    batch_size=BATCH_SIZE,\n",
    "    shuffle=True,\n",
    ")\n",
    "test_prot_dataloader = DataLoader(\n",
    "    test_prot,\n",
    "    batch_size=BATCH_SIZE,\n",
    "    shuffle=True,\n",
    ")\n",
    "\"\"\"\n"
   ]
  }
 ],
 "metadata": {
  "kernelspec": {
   "display_name": "pyaptamer",
   "language": "python",
   "name": "python3"
  },
  "language_info": {
   "codemirror_mode": {
    "name": "ipython",
    "version": 3
   },
   "file_extension": ".py",
   "mimetype": "text/x-python",
   "name": "python",
   "nbconvert_exporter": "python",
   "pygments_lexer": "ipython3",
   "version": "3.12.9"
  }
 },
 "nbformat": 4,
 "nbformat_minor": 2
}
