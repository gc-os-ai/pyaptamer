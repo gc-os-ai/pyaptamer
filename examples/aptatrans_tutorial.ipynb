{
 "cells": [
  {
   "cell_type": "code",
   "execution_count": null,
   "metadata": {},
   "outputs": [],
   "source": [
    "import torch\n",
    "\n",
    "from pyaptamer.aptatrans import (\n",
    "    AptaTrans,\n",
    "    AptaTransPipeline,\n",
    "    EncoderPredictorConfig,\n",
    ")\n",
    "from pyaptamer.datasets import (\n",
    "    load_csv_dataset,\n",
    ")\n",
    "from pyaptamer.utils._base import (\n",
    "    filter_words,\n",
    ")\n",
    "\n",
    "# auto-reloading external modules\n",
    "%load_ext autoreload\n",
    "%autoreload 2"
   ]
  },
  {
   "cell_type": "markdown",
   "metadata": {},
   "source": [
    "## Settings"
   ]
  },
  {
   "cell_type": "code",
   "execution_count": null,
   "metadata": {},
   "outputs": [],
   "source": [
    "BATCH_SIZE = 64\n",
    "TEST_SIZE = 0.05\n",
    "RAMDOM_STATE = 42  # for reproducibility\n",
    "\n",
    "# embedding configurations for pretraining\n",
    "# aptamers\n",
    "N_APTA_VOCABS = 127\n",
    "N_APTA_TARGET_VOCABS = 344\n",
    "APTA_MAX_LEN = 275\n",
    "# proteins\n",
    "N_PROT_VOCABS = 715\n",
    "N_PROT_TARGET_VOCABS = 585\n",
    "PROT_MAX_LEN = 867"
   ]
  },
  {
   "cell_type": "code",
   "execution_count": null,
   "metadata": {},
   "outputs": [],
   "source": [
    "device = torch.device(\"cuda\" if torch.cuda.is_available() else \"cpu\")"
   ]
  },
  {
   "cell_type": "markdown",
   "metadata": {},
   "source": [
    "## Data"
   ]
  },
  {
   "cell_type": "markdown",
   "metadata": {},
   "source": [
    "### Load RNA data for pretraining"
   ]
  },
  {
   "cell_type": "code",
   "execution_count": null,
   "metadata": {},
   "outputs": [],
   "source": [
    "\"\"\"# (1.) load the RNA dataset for pretraining\n",
    "rna_dataset = load_hf_dataset(name=\"bpRNA-shin2023\", store=True)\n",
    "\n",
    "# (2.) Creaye training-test splits of (sequence, secondary structure (ss)) pairs\n",
    "x_rna_train, x_rna_test, y_rna_train, y_rna_test = train_test_split(\n",
    "    rna_dataset[\"SEQUENCE\"].tolist(),\n",
    "    rna_dataset[\"SS\"].tolist(),\n",
    "    test_size=TEST_SIZE,\n",
    "    random_state=RAMDOM_STATE,\n",
    ")\n",
    "\n",
    "# (3.) augment training data by adding reverse complements\n",
    "# e.g., (seq=\"ACG\", ss=\"SHM\") -> (seq=\"GCA\", ss=\"MHS\")\n",
    "x_rna_train, y_rna_train = augment_reverse(x_rna_train, y_rna_train)\n",
    "\n",
    "# (4.) mask the dataset for pretraining embeddings\n",
    "train_rna = MaskedDataset(\n",
    "    x=x_rna_train,\n",
    "    y=y_rna_train,\n",
    "    max_len=APTA_MAX_LEN,\n",
    "    mask_idx=N_APTA_VOCABS - 1,\n",
    "    is_rna=True,\n",
    ")\n",
    "test_rna = MaskedDataset(\n",
    "    x=x_rna_test,\n",
    "    y=y_rna_test,\n",
    "    max_len=APTA_MAX_LEN,\n",
    "    mask_idx=N_APTA_VOCABS - 1,\n",
    "    is_rna=True,\n",
    ")\n",
    "\n",
    "# (5.) create dataloaders\n",
    "train_rna_dataloader = DataLoader(\n",
    "    train_rna,\n",
    "    batch_size=BATCH_SIZE,\n",
    "    shuffle=True,\n",
    ")\n",
    "test_rna_dataloader = DataLoader(\n",
    "    test_rna,\n",
    "    batch_size=BATCH_SIZE,\n",
    "    shuffle=True,\n",
    ")\"\"\""
   ]
  },
  {
   "cell_type": "markdown",
   "metadata": {},
   "source": [
    "### Load protein data for pretraining"
   ]
  },
  {
   "cell_type": "code",
   "execution_count": null,
   "metadata": {},
   "outputs": [],
   "source": [
    "# (1.) load the proteins' dataset for pretraining\n",
    "# prot_dataset = load_hf_dataset(name=\"proteins-shin2023\", store=True)\n",
    "prot_words = load_csv_dataset(name=\"protein_word_freq\")  # words and their frequencies\n",
    "prot_words = prot_words.set_index(\"seq\")[\"freq\"].to_dict()\n",
    "\n",
    "# (2.) Creaye training-test splits of (sequence, secondary structure (ss)) pairs\n",
    "\"\"\"x_prot_train, x_prot_test, y_prot_train, y_prot_test = train_test_split(\n",
    "    prot_dataset[\"SEQUENCE\"].tolist(),\n",
    "    prot_dataset[\"SS\"].tolist(),\n",
    "    test_size=TEST_SIZE,\n",
    "    random_state=RAMDOM_STATE,\n",
    ")\"\"\"\n",
    "\n",
    "# (3.) transform sequences to a numerical representation (vectors)\n",
    "filtered_prot_words = filter_words(prot_words)\n",
    "\"\"\"x_prot_train, y_prot_train = seq2vec(\n",
    "    sequence_list=(x_prot_train, y_prot_train),\n",
    "    words=filtered_prot_words,\n",
    "    seq_max_len=PROT_MAX_LEN,\n",
    ")\n",
    "x_prot_test, y_prot_test = seq2vec(\n",
    "    sequence_list=(x_prot_test, y_prot_test),\n",
    "    words=filtered_prot_words,\n",
    "    seq_max_len=PROT_MAX_LEN,\n",
    ")\n",
    "\n",
    "# (4.) mask the dataset for pretraining embeddings\n",
    "train_prot = MaskedDataset(\n",
    "    x=x_prot_train,\n",
    "    y=y_prot_train,\n",
    "    max_len=PROT_MAX_LEN,\n",
    "    mask_idx=N_PROT_VOCABS - 1,\n",
    "    is_rna=True,\n",
    ")\n",
    "test_prot = MaskedDataset(\n",
    "    x=x_prot_test,\n",
    "    y=y_prot_test,\n",
    "    max_len=PROT_MAX_LEN,\n",
    "    mask_idx=N_PROT_VOCABS - 1,\n",
    "    is_rna=False,\n",
    ")\n",
    "\n",
    "# (5.) create dataloaders\n",
    "train_prot_dataloader = DataLoader(\n",
    "    train_prot,\n",
    "    batch_size=BATCH_SIZE,\n",
    "    shuffle=True,\n",
    ")\n",
    "test_prot_dataloader = DataLoader(\n",
    "    test_prot,\n",
    "    batch_size=BATCH_SIZE,\n",
    "    shuffle=True,\n",
    ")\"\"\""
   ]
  },
  {
   "cell_type": "markdown",
   "metadata": {},
   "source": [
    "### Load aptamer-protein interaction (API) dataset for fine-tuning"
   ]
  },
  {
   "cell_type": "code",
   "execution_count": null,
   "metadata": {},
   "outputs": [],
   "source": [
    "\"\"\"# (1.) load the api dataset for fine-tuning\n",
    "train_dataset = load_csv_dataset(name=\"train_li2014\")\n",
    "test_dataset = load_csv_dataset(name=\"test_li2014\")\n",
    "\n",
    "# (2.) create the API dataset\n",
    "train_dataset = APIDataset(\n",
    "    x_apta=train_dataset[\"aptamer\"].to_numpy(),\n",
    "    x_prot=train_dataset[\"protein\"].to_numpy(),\n",
    "    y=train_dataset[\"label\"].to_numpy(),\n",
    "    apta_max_len=APTA_MAX_LEN,\n",
    "    prot_max_len=PROT_MAX_LEN,\n",
    "    prot_words=filtered_prot_words,\n",
    ")\n",
    "test_dataset = APIDataset(\n",
    "    x_apta=test_dataset[\"aptamer\"].to_numpy(),\n",
    "    x_prot=test_dataset[\"protein\"].to_numpy(),\n",
    "    y=test_dataset[\"label\"].to_numpy(),\n",
    "    apta_max_len=APTA_MAX_LEN,\n",
    "    prot_max_len=PROT_MAX_LEN,\n",
    "    prot_words=filtered_prot_words,\n",
    "    split=\"test\",\n",
    ")\n",
    "\n",
    "# (3.) create dataloaders\n",
    "train_dataloader = DataLoader(\n",
    "    train_dataset,\n",
    "    batch_size=BATCH_SIZE,\n",
    "    shuffle=True,\n",
    ")\n",
    "test_dataloader = DataLoader(\n",
    "    test_dataset,\n",
    "    batch_size=BATCH_SIZE,\n",
    "    shuffle=True,\n",
    ")\"\"\""
   ]
  },
  {
   "cell_type": "markdown",
   "metadata": {},
   "source": [
    "## Model"
   ]
  },
  {
   "cell_type": "code",
   "execution_count": null,
   "metadata": {},
   "outputs": [],
   "source": [
    "apta_embedding = EncoderPredictorConfig(\n",
    "    num_embeddings=N_APTA_VOCABS,\n",
    "    target_dim=N_APTA_TARGET_VOCABS,\n",
    "    max_len=APTA_MAX_LEN,\n",
    ")\n",
    "prot_embedding = EncoderPredictorConfig(\n",
    "    num_embeddings=N_PROT_VOCABS,\n",
    "    target_dim=N_PROT_TARGET_VOCABS,\n",
    "    max_len=PROT_MAX_LEN,\n",
    ")"
   ]
  },
  {
   "cell_type": "code",
   "execution_count": null,
   "metadata": {},
   "outputs": [],
   "source": [
    "model = AptaTrans(\n",
    "    apta_embedding=apta_embedding,\n",
    "    prot_embedding=prot_embedding,\n",
    "    in_dim=128,\n",
    "    n_encoder_layers=6,\n",
    "    n_heads=8,\n",
    "    conv_layers=[3, 3, 3],\n",
    "    dropout=0.1,\n",
    ")\n",
    "model.load_pretrained_weights()"
   ]
  },
  {
   "cell_type": "markdown",
   "metadata": {},
   "source": [
    "## Pretraining"
   ]
  },
  {
   "cell_type": "code",
   "execution_count": null,
   "metadata": {},
   "outputs": [],
   "source": [
    "# TODO"
   ]
  },
  {
   "cell_type": "markdown",
   "metadata": {},
   "source": [
    "## Train"
   ]
  },
  {
   "cell_type": "code",
   "execution_count": null,
   "metadata": {},
   "outputs": [],
   "source": [
    "\"\"\"solver = AptaTransSolver(\n",
    "    model=model,\n",
    "    train_dataloader=train_dataloader,\n",
    "    test_dataloader=test_dataloader,\n",
    "    device=device,\n",
    ")\n",
    "_ = solver.train(epochs=10, show_progress=True)\"\"\""
   ]
  },
  {
   "cell_type": "markdown",
   "metadata": {},
   "source": [
    "## Recommend"
   ]
  },
  {
   "cell_type": "code",
   "execution_count": null,
   "metadata": {},
   "outputs": [],
   "source": [
    "pipeline = AptaTransPipeline(\n",
    "    device=device,\n",
    "    model=model,\n",
    "    prot_words=prot_words,\n",
    "    depth=40,  # i.e., how long the candidates will be\n",
    "    n_iterations=1000,\n",
    ")\n",
    "\n",
    "\n",
    "# specify the target protein sequence here\n",
    "target_protein = (\n",
    "    \"STEYKLVVVGADGVGKSALTIQLIQNHFVDEYDPTIEDSYRKQVVIDGETCLLDILDTAGQEEYSAM\"\n",
    "    \"RDQYMRTGEGFLCVFAINNTKSFEDIHHYREQIKRVKDSEDVPMVLVGNKCDLPSRTVDTKQAQDLARSYGIPFIETSAKTRQG\"\n",
    "    \"VDDAFYTLVREIRKHKEKMSK\"\n",
    ")\n",
    "candidates = pipeline.recommend(\n",
    "    target=target_protein,\n",
    "    n_candidates=10,\n",
    "    verbose=True,\n",
    ")"
   ]
  },
  {
   "cell_type": "code",
   "execution_count": null,
   "metadata": {},
   "outputs": [],
   "source": [
    "for idx, candidate in enumerate(candidates):\n",
    "    print(f\"[Candidate {idx}] {candidate[0]} - Score: {float(candidate[2])}\")"
   ]
  },
  {
   "cell_type": "code",
   "execution_count": null,
   "metadata": {},
   "outputs": [],
   "source": [
    "target_protein = (\n",
    "    \"STEYKLVVVGADGVGKSALTIQLIQNHFVDEYDPTIEDSYRKQVVIDGETCLLDILDTAGQEEYSAM\"\n",
    "    \"RDQYMRTGEGFLCVFAINNTKSFEDIHHYREQIKRVKDSEDVPMVLVGNKCDLPSRTVDTKQAQDLARSYGIPFIETSAKTRQG\"\n",
    "    \"VDDAFYTLVREIRKHKEKMSK\"\n",
    ")"
   ]
  }
 ],
 "metadata": {
  "kernelspec": {
   "display_name": "pyaptamer",
   "language": "python",
   "name": "python3"
  },
  "language_info": {
   "codemirror_mode": {
    "name": "ipython",
    "version": 3
   },
   "file_extension": ".py",
   "mimetype": "text/x-python",
   "name": "python",
   "nbconvert_exporter": "python",
   "pygments_lexer": "ipython3",
   "version": "3.12.9"
  }
 },
 "nbformat": 4,
 "nbformat_minor": 2
}
