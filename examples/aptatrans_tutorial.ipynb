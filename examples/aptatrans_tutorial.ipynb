{
 "cells": [
  {
   "cell_type": "code",
   "execution_count": null,
   "metadata": {},
   "outputs": [],
   "source": [
    "import lightning as L\n",
    "import torch\n",
    "from torch.utils.data import DataLoader\n",
    "\n",
    "from pyaptamer.aptatrans import (\n",
    "    AptaTrans,\n",
    "    AptaTransLightning,\n",
    "    AptaTransPipeline,\n",
    "    EncoderPredictorConfig,\n",
    ")\n",
    "from pyaptamer.datasets import (\n",
    "    load_csv_dataset,\n",
    ")\n",
    "from pyaptamer.datasets.dataclasses import APIDataset\n",
    "from pyaptamer.utils._base import (\n",
    "    filter_words,\n",
    ")\n",
    "\n",
    "# auto-reloading external modules\n",
    "%load_ext autoreload\n",
    "%autoreload 2"
   ]
  },
  {
   "cell_type": "markdown",
   "metadata": {},
   "source": [
    "## Settings"
   ]
  },
  {
   "cell_type": "code",
   "execution_count": null,
   "metadata": {},
   "outputs": [],
   "source": [
    "BATCH_SIZE = 64  # mini-batch size\n",
    "RAMDOM_STATE = 42  # for reproducibility\n",
    "\n",
    "# embedding configurations for pretraining\n",
    "# aptamers\n",
    "N_APTA_VOCABS = 127\n",
    "N_APTA_TARGET_VOCABS = 344\n",
    "APTA_MAX_LEN = 275\n",
    "# proteins\n",
    "N_PROT_VOCABS = 715\n",
    "N_PROT_TARGET_VOCABS = 585\n",
    "PROT_MAX_LEN = 867"
   ]
  },
  {
   "cell_type": "code",
   "execution_count": null,
   "metadata": {},
   "outputs": [],
   "source": [
    "device = torch.device(\"cuda\" if torch.cuda.is_available() else \"cpu\")"
   ]
  },
  {
   "cell_type": "markdown",
   "metadata": {},
   "source": [
    "## Data"
   ]
  },
  {
   "cell_type": "markdown",
   "metadata": {},
   "source": [
    "### Load frequencies of protein words"
   ]
  },
  {
   "cell_type": "code",
   "execution_count": null,
   "metadata": {},
   "outputs": [],
   "source": [
    "# (1.) load the proteins' dataset for pretraining\n",
    "prot_words = load_csv_dataset(name=\"protein_word_freq\")  # words and their frequencies\n",
    "prot_words = prot_words.set_index(\"seq\")[\"freq\"].to_dict()\n",
    "\n",
    "# (2.) transform sequences to a numerical representation (vectors) and filter the one\n",
    "# with below-average frequency\n",
    "filtered_prot_words = filter_words(prot_words)"
   ]
  },
  {
   "cell_type": "markdown",
   "metadata": {},
   "source": [
    "### Load aptamer-protein interaction (API) dataset\n",
    "Here, we load the API dataset used in the AptaTrans paper, from Li et a., 2014."
   ]
  },
  {
   "cell_type": "code",
   "execution_count": null,
   "metadata": {},
   "outputs": [],
   "source": [
    "# (1.) load the api dataset for fine-tuning\n",
    "train_dataset = load_csv_dataset(name=\"train_li2014\")\n",
    "test_dataset = load_csv_dataset(name=\"test_li2014\")\n",
    "\n",
    "# (2.) create the API dataset\n",
    "train_dataset = APIDataset(\n",
    "    x_apta=train_dataset[\"aptamer\"].to_numpy(),\n",
    "    x_prot=train_dataset[\"protein\"].to_numpy(),\n",
    "    y=train_dataset[\"label\"].to_numpy(),\n",
    "    apta_max_len=APTA_MAX_LEN,\n",
    "    prot_max_len=PROT_MAX_LEN,\n",
    "    prot_words=filtered_prot_words,\n",
    ")\n",
    "test_dataset = APIDataset(\n",
    "    x_apta=test_dataset[\"aptamer\"].to_numpy(),\n",
    "    x_prot=test_dataset[\"protein\"].to_numpy(),\n",
    "    y=test_dataset[\"label\"].to_numpy(),\n",
    "    apta_max_len=APTA_MAX_LEN,\n",
    "    prot_max_len=PROT_MAX_LEN,\n",
    "    prot_words=filtered_prot_words,\n",
    "    split=\"test\",\n",
    ")\n",
    "\n",
    "# (3.) create dataloaders\n",
    "train_dataloader = DataLoader(\n",
    "    train_dataset,\n",
    "    batch_size=BATCH_SIZE,\n",
    "    shuffle=True,\n",
    ")\n",
    "test_dataloader = DataLoader(\n",
    "    test_dataset,\n",
    "    batch_size=BATCH_SIZE,\n",
    "    shuffle=True,\n",
    ")"
   ]
  },
  {
   "cell_type": "markdown",
   "metadata": {},
   "source": [
    "## Model\n",
    "Before initializing an AptaTrans instance, we need to define the embedding configuration for both aptamers and proteins."
   ]
  },
  {
   "cell_type": "code",
   "execution_count": null,
   "metadata": {},
   "outputs": [],
   "source": [
    "apta_embedding = EncoderPredictorConfig(\n",
    "    num_embeddings=N_APTA_VOCABS,\n",
    "    target_dim=N_APTA_TARGET_VOCABS,\n",
    "    max_len=APTA_MAX_LEN,\n",
    ")\n",
    "prot_embedding = EncoderPredictorConfig(\n",
    "    num_embeddings=N_PROT_VOCABS,\n",
    "    target_dim=N_PROT_TARGET_VOCABS,\n",
    "    max_len=PROT_MAX_LEN,\n",
    ")"
   ]
  },
  {
   "cell_type": "markdown",
   "metadata": {},
   "source": [
    "Then, we may initialize an AptaTrans instance, load its pretrained weights, and wrap it in a PyTorch Lightning module for training."
   ]
  },
  {
   "cell_type": "code",
   "execution_count": null,
   "metadata": {},
   "outputs": [],
   "source": [
    "model = AptaTrans(\n",
    "    apta_embedding=apta_embedding,\n",
    "    prot_embedding=prot_embedding,\n",
    "    in_dim=128,\n",
    "    n_encoder_layers=6,\n",
    "    n_heads=8,\n",
    "    conv_layers=[3, 3, 3],\n",
    "    dropout=0.1,\n",
    ")\n",
    "model.load_pretrained_weights()  # load pretrained weights\n",
    "model_lightning = AptaTransLightning(model).to(device)  # wrap the model with Lightning"
   ]
  },
  {
   "cell_type": "markdown",
   "metadata": {},
   "source": [
    "## Training"
   ]
  },
  {
   "cell_type": "code",
   "execution_count": null,
   "metadata": {},
   "outputs": [],
   "source": [
    "trainer = L.Trainer(max_epochs=100)\n",
    "trainer.fit(model_lightning, train_dataloader)"
   ]
  },
  {
   "cell_type": "markdown",
   "metadata": {},
   "source": [
    "## Recommend"
   ]
  },
  {
   "cell_type": "code",
   "execution_count": null,
   "metadata": {},
   "outputs": [],
   "source": [
    "pipeline = AptaTransPipeline(\n",
    "    device=device,\n",
    "    model=model,\n",
    "    prot_words=prot_words,\n",
    "    depth=20,  # i.e., how long the candidates will be\n",
    "    n_iterations=10,  # number of iterations for the MCTS search\n",
    ")\n",
    "\n",
    "\n",
    "# specify the target protein sequence here\n",
    "target_protein = (\n",
    "    \"STEYKLVVVGADGVGKSALTIQLIQNHFVDEYDPTIEDSYRKQVVIDGETCLLDILDTAGQEEYSAM\"\n",
    "    \"RDQYMRTGEGFLCVFAINNTKSFEDIHHYREQIKRVKDSEDVPMVLVGNKCDLPSRTVDTKQAQDLARSYGIPFIETSAKTR\"\n",
    "    \"QGVDDAFYTLVREIRKHKEKMSK\"\n",
    ")\n",
    "candidates = pipeline.recommend(\n",
    "    target=target_protein,\n",
    "    n_candidates=10,\n",
    "    verbose=True,\n",
    ")"
   ]
  },
  {
   "cell_type": "code",
   "execution_count": null,
   "metadata": {},
   "outputs": [],
   "source": [
    "for idx, candidate in enumerate(candidates):\n",
    "    print(f\"[Candidate {idx}] {candidate[0]} - Score: {float(candidate[2])}\")"
   ]
  }
 ],
 "metadata": {
  "kernelspec": {
   "display_name": "pyaptamer",
   "language": "python",
   "name": "python3"
  },
  "language_info": {
   "codemirror_mode": {
    "name": "ipython",
    "version": 3
   },
   "file_extension": ".py",
   "mimetype": "text/x-python",
   "name": "python",
   "nbconvert_exporter": "python",
   "pygments_lexer": "ipython3",
   "version": "3.12.9"
  }
 },
 "nbformat": 4,
 "nbformat_minor": 2
}
