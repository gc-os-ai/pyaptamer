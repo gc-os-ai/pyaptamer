{
 "cells": [
  {
   "cell_type": "markdown",
   "id": "50e8d179",
   "metadata": {},
   "source": [
    "# Binding prediction using AptaNet\n",
    "Step-by-step guide for using AptaNet for binary aptamer–protein binding prediction."
   ]
  },
  {
   "cell_type": "markdown",
   "id": "40a64683",
   "metadata": {},
   "source": [
    "## Overview\n",
    "This notebook showcases the AptaNet algorithm, a deep learning method that combines sequence-derived (k-mer + PSeAAC) features with RandomForest-based feature selection, and a multi-layer perceptron to predict whether an aptamer and a protein interact (binary classification: aptamer binds/does not bind with the target protein). An overview of the classes and helper functions used in this notebook:\n",
    "\n",
    "- **pairs_to_features**: helper that converts `(aptamer_sequence, protein_sequence)` pairs into feature vectors using k-mer + PSeAAC.\n",
    "- **SkorchAptaNet**: a PyTorch MLP wrapped in Skorch for binary classification.\n",
    "- **load_1gnh_structure**: helper to load the 1GNH molecule structure from PDB file."
   ]
  },
  {
   "cell_type": "markdown",
   "id": "45c592d9",
   "metadata": {},
   "source": [
    "## Data preparation\n",
    "To train the `AptaNetMLP` the notebook uses:\n",
    "* For `X`:\n",
    "    * 5 random aptamer sequences of length>30 (to satisfy the default lambda value of 30 set in the PSeAAC algorithm).\n",
    "    * Amino acid sequences extracted from the 1GNH protein molecule.\n",
    "    \n",
    "    The aptamer sequences and the amino acid sequences form tuples `(aptamer_sequence, protein_sequence)` to form `X`.\n",
    "* For `y`:\n",
    "    * A random binary value (to indicate if the aptamer binds or not) as dummy data."
   ]
  },
  {
   "cell_type": "code",
   "execution_count": 23,
   "id": "3737da88",
   "metadata": {},
   "outputs": [],
   "source": [
    "# Data imports\n",
    "import torch\n",
    "\n",
    "from pyaptamer.datasets import load_1gnh_structure\n",
    "from pyaptamer.utils import struct_to_aaseq"
   ]
  },
  {
   "cell_type": "code",
   "execution_count": 24,
   "id": "a2f6701d",
   "metadata": {},
   "outputs": [],
   "source": [
    "aptamer_sequence = [\n",
    "    \"GGGAGGACGAAGACGACUCGAGACAGGCUAGGGAGGGA\",\n",
    "    \"AAGCGUCGGAUCUACACGUGCGAUAGCUCAGUACGCGGU\",\n",
    "    \"CGGUAUCGAGUACAGGAGUCCGACGGAUAGUCCGGAGC\",\n",
    "    \"UAGCUAGCGAACUAGGCGUAGCUUCGAGUAGCUACGGAA\",\n",
    "    \"GCUAGGACGAUCGCACGUGACCGUCAGUAGCGUAGGAGA\",\n",
    "]\n",
    "\n",
    "gnh = load_1gnh_structure()\n",
    "protein_sequence = struct_to_aaseq(gnh)\n",
    "\n",
    "# Build all combinations (aptamer, protein)\n",
    "X = [(a, p) for a in aptamer_sequence for p in protein_sequence]\n",
    "\n",
    "# Dummy binary labels for the pairs\n",
    "y = torch.randint(0, 2, (len(X),), dtype=torch.float32)"
   ]
  },
  {
   "cell_type": "markdown",
   "id": "c10ae4ea",
   "metadata": {},
   "source": [
    "## Building the pipeline\n",
    "### Dataset balancing using the Neighbourhood cleaning rule\n",
    "In the `AptaNet` paper, the authors mention using the `NeighbourhoodCleaningRule` from `imblearn` in order to balance the dataset, as in their dataset they had more negative (0) values than positives (1).\n",
    "\n",
    " To build a scikit-learn pipeline, follow these steps:\n",
    "1. Convert the input to the desired (aptamer_sequence, protein_sequence) format.\n",
    "    * OPTIONAL: As mentioned in the paper, perform under-sampling using the  \n",
    "    Neighborhood Cleaning Rule to balance the classes.\n",
    "2. Get the PSeAAC feature vectors for your converted input (using `pairs_to_features`).\n",
    "3. Select the number of features to use from the feature vector (using `RandomForestClassifier`).\n",
    "4. Define the skorch neural network (using `AptaNetMLP`).\n",
    "### Different workflows\n",
    "In this first half of the notebook we will cover 3 different workflows one can follow, in ascending order of customizability:\n",
    "\n",
    "1. A minimal workflow with no dataset balancing, while using the in-built pipeline.\n",
    "2. Using your own custom pipeline.\n",
    "3. Dataset balancing, while using your own pipeline."
   ]
  },
  {
   "cell_type": "markdown",
   "id": "5b7c1997",
   "metadata": {},
   "source": [
    "### First workflow\n",
    "A minimal workflow with no dataset balancing, while using the in-built pipeline."
   ]
  },
  {
   "cell_type": "code",
   "execution_count": 25,
   "id": "44cc1cbf",
   "metadata": {},
   "outputs": [],
   "source": [
    "# If you want to use the AptaNet pipeline, you can import it directly\n",
    "from pyaptamer.aptanet import AptaNetPipeline"
   ]
  },
  {
   "cell_type": "code",
   "execution_count": 26,
   "id": "d782bca8",
   "metadata": {},
   "outputs": [],
   "source": [
    "pipeline = AptaNetPipeline()"
   ]
  },
  {
   "cell_type": "code",
   "execution_count": 27,
   "id": "f8a0d947",
   "metadata": {},
   "outputs": [],
   "source": [
    "# Fit the pipeline on the aptamer-protein pairs\n",
    "pipeline.fit(X, y)\n",
    "\n",
    "# Predict the labels for the training data\n",
    "y_pred = pipeline.predict(X)"
   ]
  },
  {
   "cell_type": "code",
   "execution_count": 28,
   "id": "ae896e5c",
   "metadata": {},
   "outputs": [
    {
     "name": "stdout",
     "output_type": "stream",
     "text": [
      "Training Accuracy: 0.66\n"
     ]
    }
   ],
   "source": [
    "# Optional: Evaluate training accuracy\n",
    "from sklearn.metrics import accuracy_score\n",
    "\n",
    "print(\"Training Accuracy:\", accuracy_score(y, y_pred))"
   ]
  },
  {
   "cell_type": "markdown",
   "id": "b90a04f9",
   "metadata": {},
   "source": [
    "### Second Worflow\n",
    "\n",
    "Your own custom-built pipeline."
   ]
  },
  {
   "cell_type": "code",
   "execution_count": 29,
   "id": "6130027a",
   "metadata": {},
   "outputs": [],
   "source": [
    "# If you want to build your own aptamer pipeline, you should use the following imports\n",
    "from sklearn.ensemble import RandomForestClassifier\n",
    "from sklearn.feature_selection import SelectFromModel\n",
    "from sklearn.pipeline import Pipeline\n",
    "from sklearn.preprocessing import FunctionTransformer\n",
    "from skorch import NeuralNetBinaryClassifier\n",
    "\n",
    "from pyaptamer.aptanet._aptanet_nn import AptaNetMLP\n",
    "from pyaptamer.utils._aptanet_utils import pairs_to_features"
   ]
  },
  {
   "cell_type": "code",
   "execution_count": 30,
   "id": "4a2e277e",
   "metadata": {},
   "outputs": [],
   "source": [
    "feature_transformer = FunctionTransformer(\n",
    "    func=pairs_to_features,\n",
    "    validate=False,\n",
    "    # Optional arguments for pairs_to_features\n",
    "    # example: kw_args={'k': 4, 'pseaac_kwargs': {'lambda_value': 30}}\n",
    "    kw_args={},\n",
    ")\n",
    "\n",
    "selector = SelectFromModel(\n",
    "    estimator=RandomForestClassifier(\n",
    "        n_estimators=300,\n",
    "        max_depth=9,\n",
    "        random_state=None,\n",
    "    ),\n",
    "    threshold=\"mean\",\n",
    ")\n",
    "\n",
    "# Define the classifier\n",
    "net = NeuralNetBinaryClassifier(\n",
    "    module=AptaNetMLP,\n",
    "    module__input_dim=None,\n",
    "    module__hidden_dim=128,\n",
    "    module__n_hidden=7,\n",
    "    module__dropout=0.3,\n",
    "    module__output_dim=1,\n",
    "    module__use_lazy=True,\n",
    "    criterion=torch.nn.BCEWithLogitsLoss,\n",
    "    max_epochs=200,\n",
    "    lr=0.00014,\n",
    "    optimizer=torch.optim.RMSprop,\n",
    "    optimizer__alpha=0.9,\n",
    "    optimizer__eps=1e-08,\n",
    "    device=\"cuda\" if torch.cuda.is_available() else \"cpu\",\n",
    ")\n",
    "\n",
    "pipeline = Pipeline(\n",
    "    [\n",
    "        (\"features\", feature_transformer),\n",
    "        (\"selector\", selector),\n",
    "        (\"clf\", net),\n",
    "    ]\n",
    ")"
   ]
  },
  {
   "cell_type": "code",
   "execution_count": 31,
   "id": "8049a472",
   "metadata": {},
   "outputs": [
    {
     "name": "stdout",
     "output_type": "stream",
     "text": [
      "  epoch    train_loss    valid_acc    valid_loss     dur\n",
      "-------  ------------  -----------  ------------  ------\n",
      "      1        \u001b[36m0.7014\u001b[0m       \u001b[32m0.4000\u001b[0m        \u001b[35m0.7013\u001b[0m  0.0100\n",
      "      2        0.7172       0.4000        \u001b[35m0.7010\u001b[0m  0.0070\n",
      "      3        0.7092       0.4000        \u001b[35m0.7007\u001b[0m  0.0083\n",
      "      4        0.7369       0.4000        \u001b[35m0.7004\u001b[0m  0.0073\n",
      "      5        0.8060       0.4000        \u001b[35m0.7002\u001b[0m  0.0080\n",
      "      6        0.7530       0.4000        \u001b[35m0.7000\u001b[0m  0.0090\n",
      "      7        0.7535       0.4000        \u001b[35m0.6998\u001b[0m  0.0069\n",
      "      8        0.7030       0.4000        \u001b[35m0.6997\u001b[0m  0.0080\n",
      "      9        0.7212       0.4000        \u001b[35m0.6995\u001b[0m  0.0100\n",
      "     10        0.7204       0.4000        \u001b[35m0.6993\u001b[0m  0.0070\n",
      "     11        0.7931       0.4000        \u001b[35m0.6992\u001b[0m  0.0100\n",
      "     12        0.7557       0.4000        \u001b[35m0.6990\u001b[0m  0.0070\n",
      "     13        0.7547       0.4000        \u001b[35m0.6989\u001b[0m  0.0095\n",
      "     14        \u001b[36m0.6827\u001b[0m       0.4000        \u001b[35m0.6988\u001b[0m  0.0090\n",
      "     15        0.7635       0.4000        \u001b[35m0.6986\u001b[0m  0.0070\n",
      "     16        0.6947       0.4000        \u001b[35m0.6984\u001b[0m  0.0090\n",
      "     17        0.7281       0.4000        \u001b[35m0.6982\u001b[0m  0.0070\n",
      "     18        \u001b[36m0.6656\u001b[0m       0.4000        \u001b[35m0.6981\u001b[0m  0.0080\n",
      "     19        0.7343       0.4000        \u001b[35m0.6980\u001b[0m  0.0090\n",
      "     20        0.6676       0.4000        \u001b[35m0.6980\u001b[0m  0.0070\n",
      "     21        \u001b[36m0.6612\u001b[0m       0.4000        \u001b[35m0.6978\u001b[0m  0.0110\n",
      "     22        0.6795       0.4000        \u001b[35m0.6977\u001b[0m  0.0125\n",
      "     23        0.7902       0.4000        \u001b[35m0.6975\u001b[0m  0.0130\n",
      "     24        0.6788       0.4000        \u001b[35m0.6974\u001b[0m  0.0140\n",
      "     25        0.6748       0.4000        \u001b[35m0.6973\u001b[0m  0.0110\n",
      "     26        0.8062       0.4000        \u001b[35m0.6972\u001b[0m  0.0140\n",
      "     27        0.7858       0.4000        \u001b[35m0.6970\u001b[0m  0.0100\n",
      "     28        \u001b[36m0.6407\u001b[0m       0.4000        \u001b[35m0.6969\u001b[0m  0.0120\n",
      "     29        0.7525       0.4000        \u001b[35m0.6968\u001b[0m  0.0100\n",
      "     30        0.6839       0.4000        \u001b[35m0.6967\u001b[0m  0.0140\n",
      "     31        0.7599       0.4000        \u001b[35m0.6966\u001b[0m  0.0120\n",
      "     32        0.6788       0.4000        \u001b[35m0.6964\u001b[0m  0.0110\n",
      "     33        0.7405       0.4000        \u001b[35m0.6963\u001b[0m  0.0120\n",
      "     34        0.6557       0.4000        \u001b[35m0.6962\u001b[0m  0.0140\n",
      "     35        0.6642       0.4000        \u001b[35m0.6961\u001b[0m  0.0080\n",
      "     36        0.7250       0.4000        \u001b[35m0.6960\u001b[0m  0.0090\n",
      "     37        0.7352       0.4000        \u001b[35m0.6959\u001b[0m  0.0125\n",
      "     38        0.6574       0.4000        \u001b[35m0.6957\u001b[0m  0.0140\n",
      "     39        0.7039       0.4000        \u001b[35m0.6957\u001b[0m  0.0110\n",
      "     40        0.7363       0.4000        \u001b[35m0.6955\u001b[0m  0.0120\n",
      "     41        0.7320       0.4000        \u001b[35m0.6954\u001b[0m  0.0120\n",
      "     42        0.6460       0.4000        \u001b[35m0.6954\u001b[0m  0.0111\n",
      "     43        0.7238       0.4000        \u001b[35m0.6952\u001b[0m  0.0100\n",
      "     44        0.7056       0.4000        \u001b[35m0.6951\u001b[0m  0.0100\n",
      "     45        0.7308       0.4000        \u001b[35m0.6950\u001b[0m  0.0090\n",
      "     46        0.6943       0.4000        \u001b[35m0.6949\u001b[0m  0.0100\n",
      "     47        0.6967       0.4000        \u001b[35m0.6948\u001b[0m  0.0090\n",
      "     48        0.7037       0.4000        \u001b[35m0.6947\u001b[0m  0.0080\n",
      "     49        0.6856       0.4000        \u001b[35m0.6945\u001b[0m  0.0100\n",
      "     50        0.7214       0.4000        \u001b[35m0.6944\u001b[0m  0.0095\n",
      "     51        0.7208       0.4000        \u001b[35m0.6943\u001b[0m  0.0080\n",
      "     52        0.7472       0.4000        \u001b[35m0.6941\u001b[0m  0.0120\n",
      "     53        0.6458       0.4000        \u001b[35m0.6940\u001b[0m  0.0090\n",
      "     54        0.6712       0.4000        \u001b[35m0.6939\u001b[0m  0.0080\n",
      "     55        0.6520       0.4000        \u001b[35m0.6938\u001b[0m  0.0090\n",
      "     56        0.6457       0.4000        \u001b[35m0.6937\u001b[0m  0.0150\n",
      "     57        0.7176       0.4000        \u001b[35m0.6936\u001b[0m  0.0130\n",
      "     58        0.7311       0.4000        \u001b[35m0.6935\u001b[0m  0.0115\n",
      "     59        0.6533       0.4000        \u001b[35m0.6934\u001b[0m  0.0120\n",
      "     60        0.7147       0.4000        \u001b[35m0.6933\u001b[0m  0.0120\n",
      "     61        0.6481       0.4000        \u001b[35m0.6932\u001b[0m  0.0110\n",
      "     62        0.6637       \u001b[32m0.6000\u001b[0m        \u001b[35m0.6931\u001b[0m  0.0130\n",
      "     63        0.7407       0.6000        \u001b[35m0.6930\u001b[0m  0.0090\n",
      "     64        0.7463       0.6000        \u001b[35m0.6929\u001b[0m  0.0080\n",
      "     65        0.6935       0.6000        \u001b[35m0.6928\u001b[0m  0.0120\n",
      "     66        0.7780       0.6000        \u001b[35m0.6927\u001b[0m  0.0110\n",
      "     67        0.6722       0.6000        \u001b[35m0.6926\u001b[0m  0.0140\n",
      "     68        0.6925       0.6000        \u001b[35m0.6925\u001b[0m  0.0120\n",
      "     69        0.7461       0.6000        \u001b[35m0.6924\u001b[0m  0.0110\n",
      "     70        0.6924       0.6000        \u001b[35m0.6923\u001b[0m  0.0160\n",
      "     71        0.7023       0.6000        \u001b[35m0.6922\u001b[0m  0.0135\n",
      "     72        0.7131       0.6000        \u001b[35m0.6921\u001b[0m  0.0090\n",
      "     73        0.7278       0.6000        \u001b[35m0.6920\u001b[0m  0.0080\n",
      "     74        \u001b[36m0.6406\u001b[0m       0.6000        \u001b[35m0.6919\u001b[0m  0.0110\n",
      "     75        0.6965       0.6000        \u001b[35m0.6917\u001b[0m  0.0090\n",
      "     76        0.6741       0.6000        \u001b[35m0.6916\u001b[0m  0.0090\n",
      "     77        0.6467       0.6000        \u001b[35m0.6915\u001b[0m  0.0100\n",
      "     78        0.6942       0.6000        \u001b[35m0.6914\u001b[0m  0.0135\n",
      "     79        0.6943       0.6000        \u001b[35m0.6913\u001b[0m  0.0125\n",
      "     80        0.7161       0.6000        \u001b[35m0.6912\u001b[0m  0.0130\n",
      "     81        0.6987       0.6000        \u001b[35m0.6910\u001b[0m  0.0120\n",
      "     82        0.6711       0.6000        \u001b[35m0.6909\u001b[0m  0.0090\n",
      "     83        0.6730       0.6000        \u001b[35m0.6908\u001b[0m  0.0100\n",
      "     84        0.7713       0.6000        \u001b[35m0.6907\u001b[0m  0.0090\n",
      "     85        0.6663       0.6000        \u001b[35m0.6907\u001b[0m  0.0100\n",
      "     86        0.6699       0.6000        \u001b[35m0.6906\u001b[0m  0.0135\n",
      "     87        0.6987       0.6000        \u001b[35m0.6905\u001b[0m  0.0100\n",
      "     88        0.6943       0.6000        \u001b[35m0.6903\u001b[0m  0.0080\n",
      "     89        0.6718       0.6000        \u001b[35m0.6902\u001b[0m  0.0090\n",
      "     90        0.6462       0.6000        \u001b[35m0.6902\u001b[0m  0.0090\n",
      "     91        0.6819       0.6000        \u001b[35m0.6900\u001b[0m  0.0110\n",
      "     92        0.6732       0.6000        \u001b[35m0.6899\u001b[0m  0.0090\n",
      "     93        0.7386       0.6000        \u001b[35m0.6898\u001b[0m  0.0100\n",
      "     94        0.6934       0.6000        \u001b[35m0.6898\u001b[0m  0.0125\n",
      "     95        0.6948       0.6000        \u001b[35m0.6897\u001b[0m  0.0120\n",
      "     96        \u001b[36m0.6276\u001b[0m       0.6000        \u001b[35m0.6896\u001b[0m  0.0120\n",
      "     97        0.7550       0.6000        \u001b[35m0.6896\u001b[0m  0.0100\n",
      "     98        0.6680       0.6000        \u001b[35m0.6895\u001b[0m  0.0140\n",
      "     99        0.7262       0.6000        \u001b[35m0.6894\u001b[0m  0.0130\n",
      "    100        0.7556       0.6000        \u001b[35m0.6893\u001b[0m  0.0140\n",
      "    101        0.6786       0.6000        \u001b[35m0.6892\u001b[0m  0.0125\n",
      "    102        0.6697       0.6000        \u001b[35m0.6891\u001b[0m  0.0140\n",
      "    103        0.6807       0.6000        \u001b[35m0.6890\u001b[0m  0.0150\n",
      "    104        0.6794       0.6000        \u001b[35m0.6889\u001b[0m  0.0120\n",
      "    105        0.6804       0.6000        \u001b[35m0.6888\u001b[0m  0.0120\n",
      "    106        0.6564       0.6000        \u001b[35m0.6887\u001b[0m  0.0110\n",
      "    107        0.7064       0.6000        \u001b[35m0.6885\u001b[0m  0.0115\n",
      "    108        0.6793       0.6000        \u001b[35m0.6885\u001b[0m  0.0105\n",
      "    109        0.6839       0.6000        \u001b[35m0.6884\u001b[0m  0.0151\n",
      "    110        0.7263       0.6000        \u001b[35m0.6883\u001b[0m  0.0130\n",
      "    111        0.7083       0.6000        \u001b[35m0.6882\u001b[0m  0.0155\n",
      "    112        0.7022       0.6000        \u001b[35m0.6881\u001b[0m  0.0125\n",
      "    113        0.7070       0.6000        \u001b[35m0.6880\u001b[0m  0.0170\n",
      "    114        0.6777       0.6000        \u001b[35m0.6879\u001b[0m  0.0111\n",
      "    115        0.7638       0.6000        \u001b[35m0.6879\u001b[0m  0.0101\n",
      "    116        0.6926       0.6000        \u001b[35m0.6877\u001b[0m  0.0085\n",
      "    117        0.7278       0.6000        \u001b[35m0.6877\u001b[0m  0.0082\n",
      "    118        0.6613       0.6000        \u001b[35m0.6876\u001b[0m  0.0095\n",
      "    119        0.6953       0.6000        \u001b[35m0.6875\u001b[0m  0.0090\n",
      "    120        0.7332       0.6000        \u001b[35m0.6874\u001b[0m  0.0085\n",
      "    121        0.6446       0.6000        \u001b[35m0.6873\u001b[0m  0.0105\n",
      "    122        0.6727       0.6000        \u001b[35m0.6872\u001b[0m  0.0085\n",
      "    123        0.7167       0.6000        \u001b[35m0.6871\u001b[0m  0.0075\n",
      "    124        0.6327       0.6000        \u001b[35m0.6870\u001b[0m  0.0095\n",
      "    125        0.6955       0.6000        \u001b[35m0.6869\u001b[0m  0.0095\n",
      "    126        0.7221       0.6000        \u001b[35m0.6868\u001b[0m  0.0105\n",
      "    127        0.6790       0.6000        \u001b[35m0.6867\u001b[0m  0.0095\n",
      "    128        0.6918       0.6000        \u001b[35m0.6866\u001b[0m  0.0095\n",
      "    129        0.6426       0.6000        \u001b[35m0.6866\u001b[0m  0.0135\n",
      "    130        0.6857       0.6000        \u001b[35m0.6864\u001b[0m  0.0095\n",
      "    131        0.7349       0.6000        \u001b[35m0.6863\u001b[0m  0.0095\n",
      "    132        0.6544       0.6000        \u001b[35m0.6862\u001b[0m  0.0095\n",
      "    133        0.7036       0.6000        \u001b[35m0.6861\u001b[0m  0.0095\n",
      "    134        \u001b[36m0.6186\u001b[0m       0.6000        \u001b[35m0.6860\u001b[0m  0.0095\n",
      "    135        0.6603       0.6000        \u001b[35m0.6859\u001b[0m  0.0085\n",
      "    136        0.6835       0.6000        \u001b[35m0.6859\u001b[0m  0.0095\n",
      "    137        0.6836       0.6000        \u001b[35m0.6858\u001b[0m  0.0090\n",
      "    138        0.6535       0.6000        \u001b[35m0.6857\u001b[0m  0.0085\n",
      "    139        0.6679       0.6000        \u001b[35m0.6856\u001b[0m  0.0085\n",
      "    140        0.6337       0.6000        \u001b[35m0.6855\u001b[0m  0.0095\n",
      "    141        0.7562       0.6000        \u001b[35m0.6854\u001b[0m  0.0105\n",
      "    142        0.7758       0.6000        \u001b[35m0.6854\u001b[0m  0.0090\n",
      "    143        0.7776       0.6000        \u001b[35m0.6853\u001b[0m  0.0095\n",
      "    144        0.6463       0.6000        \u001b[35m0.6852\u001b[0m  0.0105\n",
      "    145        0.7586       0.6000        \u001b[35m0.6851\u001b[0m  0.0095\n",
      "    146        0.7267       0.6000        \u001b[35m0.6850\u001b[0m  0.0099\n",
      "    147        0.7449       0.6000        \u001b[35m0.6850\u001b[0m  0.0105\n",
      "    148        0.6908       0.6000        \u001b[35m0.6849\u001b[0m  0.0105\n",
      "    149        0.6849       0.6000        \u001b[35m0.6848\u001b[0m  0.0111\n",
      "    150        0.6765       0.6000        \u001b[35m0.6847\u001b[0m  0.0125\n",
      "    151        0.6680       0.6000        \u001b[35m0.6846\u001b[0m  0.0085\n",
      "    152        0.6705       0.6000        \u001b[35m0.6845\u001b[0m  0.0095\n",
      "    153        0.6845       0.6000        \u001b[35m0.6845\u001b[0m  0.0107\n",
      "    154        0.6794       0.6000        \u001b[35m0.6844\u001b[0m  0.0101\n",
      "    155        \u001b[36m0.6101\u001b[0m       0.6000        \u001b[35m0.6843\u001b[0m  0.0105\n",
      "    156        0.6628       0.6000        \u001b[35m0.6842\u001b[0m  0.0125\n",
      "    157        0.6860       0.6000        \u001b[35m0.6841\u001b[0m  0.0095\n",
      "    158        0.6767       0.6000        \u001b[35m0.6840\u001b[0m  0.0085\n",
      "    159        0.6424       0.6000        \u001b[35m0.6839\u001b[0m  0.0095\n",
      "    160        0.6382       0.6000        \u001b[35m0.6838\u001b[0m  0.0095\n",
      "    161        0.6643       0.6000        \u001b[35m0.6837\u001b[0m  0.0095\n",
      "    162        0.6921       0.6000        \u001b[35m0.6837\u001b[0m  0.0085\n",
      "    163        0.7166       0.6000        \u001b[35m0.6836\u001b[0m  0.0085\n",
      "    164        0.6812       0.6000        \u001b[35m0.6835\u001b[0m  0.0100\n",
      "    165        0.6549       0.6000        \u001b[35m0.6834\u001b[0m  0.0095\n",
      "    166        0.7132       0.6000        \u001b[35m0.6834\u001b[0m  0.0115\n",
      "    167        0.6804       0.6000        \u001b[35m0.6833\u001b[0m  0.0129\n",
      "    168        0.6678       0.6000        \u001b[35m0.6832\u001b[0m  0.0180\n",
      "    169        0.6311       0.6000        \u001b[35m0.6832\u001b[0m  0.0115\n",
      "    170        0.6738       0.6000        \u001b[35m0.6831\u001b[0m  0.0105\n",
      "    171        0.6492       0.6000        \u001b[35m0.6831\u001b[0m  0.0095\n",
      "    172        0.7355       0.6000        \u001b[35m0.6830\u001b[0m  0.0095\n",
      "    173        0.7073       0.6000        \u001b[35m0.6830\u001b[0m  0.0125\n",
      "    174        0.6243       0.6000        \u001b[35m0.6828\u001b[0m  0.0120\n",
      "    175        0.6524       0.6000        \u001b[35m0.6827\u001b[0m  0.0105\n",
      "    176        0.6879       0.6000        \u001b[35m0.6826\u001b[0m  0.0085\n",
      "    177        0.6820       0.6000        \u001b[35m0.6825\u001b[0m  0.0081\n",
      "    178        0.6515       0.6000        \u001b[35m0.6824\u001b[0m  0.0120\n",
      "    179        0.6424       0.6000        \u001b[35m0.6823\u001b[0m  0.0105\n",
      "    180        0.7270       0.6000        \u001b[35m0.6822\u001b[0m  0.0105\n",
      "    181        0.6421       0.6000        \u001b[35m0.6822\u001b[0m  0.0100\n",
      "    182        0.7142       0.6000        \u001b[35m0.6821\u001b[0m  0.0085\n",
      "    183        0.7416       0.6000        \u001b[35m0.6821\u001b[0m  0.0105\n",
      "    184        0.6650       0.6000        \u001b[35m0.6820\u001b[0m  0.0095\n",
      "    185        0.7140       0.6000        \u001b[35m0.6820\u001b[0m  0.0105\n",
      "    186        0.7011       0.6000        \u001b[35m0.6819\u001b[0m  0.0095\n",
      "    187        0.7116       0.6000        \u001b[35m0.6819\u001b[0m  0.0125\n",
      "    188        0.6729       0.6000        \u001b[35m0.6817\u001b[0m  0.0135\n",
      "    189        0.7179       0.6000        \u001b[35m0.6816\u001b[0m  0.0110\n",
      "    190        0.6807       0.6000        \u001b[35m0.6815\u001b[0m  0.0095\n",
      "    191        0.7374       0.6000        \u001b[35m0.6815\u001b[0m  0.0085\n",
      "    192        0.6248       0.6000        \u001b[35m0.6814\u001b[0m  0.0136\n",
      "    193        0.6392       0.6000        \u001b[35m0.6813\u001b[0m  0.0135\n",
      "    194        0.6593       0.6000        \u001b[35m0.6812\u001b[0m  0.0105\n",
      "    195        0.6184       0.6000        \u001b[35m0.6810\u001b[0m  0.0135\n",
      "    196        0.6417       0.6000        \u001b[35m0.6810\u001b[0m  0.0155\n",
      "    197        0.6742       0.6000        \u001b[35m0.6809\u001b[0m  0.0136\n",
      "    198        0.6401       0.6000        \u001b[35m0.6809\u001b[0m  0.0125\n",
      "    199        0.7005       0.6000        \u001b[35m0.6808\u001b[0m  0.0125\n",
      "    200        0.7282       0.6000        \u001b[35m0.6808\u001b[0m  0.0120\n"
     ]
    }
   ],
   "source": [
    "# Fit the pipeline on the aptamer-protein pairs\n",
    "pipeline.fit(X, y)\n",
    "\n",
    "# Predict the labels for the training data\n",
    "y_pred = pipeline.predict(X)"
   ]
  },
  {
   "cell_type": "code",
   "execution_count": 32,
   "id": "f00091db",
   "metadata": {},
   "outputs": [
    {
     "name": "stdout",
     "output_type": "stream",
     "text": [
      "Training Accuracy: 0.66\n"
     ]
    }
   ],
   "source": [
    "# Optional: Evaluate training accuracy\n",
    "from sklearn.metrics import accuracy_score\n",
    "\n",
    "print(\"Training Accuracy:\", accuracy_score(y, y_pred))"
   ]
  },
  {
   "cell_type": "markdown",
   "id": "37db693e",
   "metadata": {},
   "source": [
    "### Third workflow\n",
    "Dataset balancing using under-sampling, while using your own pipeline."
   ]
  },
  {
   "cell_type": "code",
   "execution_count": 33,
   "id": "523f4ce6",
   "metadata": {},
   "outputs": [],
   "source": [
    "# If you want to build your own aptamer pipeline, you should use the following imports\n",
    "from sklearn.preprocessing import FunctionTransformer\n",
    "\n",
    "from pyaptamer.aptanet import AptaNetClassifier, AptaNetPipeline\n",
    "from pyaptamer.utils._aptanet_utils import pairs_to_features"
   ]
  },
  {
   "cell_type": "code",
   "execution_count": 34,
   "id": "0cf0bed1",
   "metadata": {},
   "outputs": [],
   "source": [
    "# OPTIONAL: If you want to use the Neighborhood Cleaning Rule for under-sampling\n",
    "# NOTE: If you want to use under-sampling, you need to install imbalanced-learn\n",
    "# and use the Pipeline from imblearn\n",
    "# %pip install imblearn\n",
    "from imblearn.pipeline import Pipeline\n",
    "from imblearn.under_sampling import NeighbourhoodCleaningRule"
   ]
  },
  {
   "cell_type": "code",
   "execution_count": 35,
   "id": "13fb1669",
   "metadata": {},
   "outputs": [],
   "source": [
    "feature_transformer = FunctionTransformer(\n",
    "    func=pairs_to_features,\n",
    "    validate=False,\n",
    "    # Optional arguments for pairs_to_features\n",
    "    # example: kw_args={'k': 4, 'pseaac_kwargs': {'lambda_value': 30}}\n",
    "    kw_args={},\n",
    ")\n",
    "\n",
    "# AptaNetClassifier encapsulates the \"selector\" and \"net\" mentioned in Workflow 2\n",
    "clf = AptaNetClassifier()\n",
    "\n",
    "model = Pipeline(\n",
    "    [\n",
    "        (\"ncr\", NeighbourhoodCleaningRule()),\n",
    "        (\"clf\", clf),\n",
    "    ]\n",
    ")\n",
    "\n",
    "pipeline = AptaNetPipeline(estimator=model)"
   ]
  },
  {
   "cell_type": "code",
   "execution_count": 36,
   "id": "1ed76399",
   "metadata": {},
   "outputs": [],
   "source": [
    "# Fit the pipeline on the aptamer-protein pairs\n",
    "pipeline.fit(X, y)\n",
    "\n",
    "# Predict the labels for the training data\n",
    "y_pred = pipeline.predict(X)"
   ]
  },
  {
   "cell_type": "code",
   "execution_count": 37,
   "id": "945dc876",
   "metadata": {},
   "outputs": [
    {
     "name": "stdout",
     "output_type": "stream",
     "text": [
      "Training Accuracy: 0.66\n"
     ]
    }
   ],
   "source": [
    "# Optional: Evaluate training accuracy\n",
    "from sklearn.metrics import accuracy_score\n",
    "\n",
    "print(\"Training Accuracy:\", accuracy_score(y, y_pred))"
   ]
  },
  {
   "cell_type": "markdown",
   "id": "0947e5d2",
   "metadata": {},
   "source": [
    "# Implementing `AptaNet` for real-world use cases"
   ]
  },
  {
   "cell_type": "markdown",
   "id": "94894a1b",
   "metadata": {},
   "source": [
    "## Data preparation\n",
    "To train the `AptaNetMLP` the notebook uses the dataset used to train the `AptaTrans` algorithm, this dataset can be found in `pyaptamer/datasets/data/train_li2014`."
   ]
  },
  {
   "cell_type": "code",
   "execution_count": null,
   "id": "273e2dda",
   "metadata": {},
   "outputs": [],
   "source": [
    "# Data imports\n",
    "import numpy as np\n",
    "import pandas as pd\n",
    "\n",
    "from pyaptamer.datasets import load_csv_dataset"
   ]
  },
  {
   "cell_type": "code",
   "execution_count": 16,
   "id": "d5cb05fb",
   "metadata": {},
   "outputs": [],
   "source": [
    "df = load_csv_dataset(\"train_li2014\")\n",
    "\n",
    "df = pd.concat([df[:30], df[2300:]])\n",
    "\n",
    "X_raw, y_raw = df.iloc[:, :2], df.iloc[:, 2]\n",
    "\n",
    "# Build combinations in the form of (aptamer, protein)\n",
    "X = list(zip(X_raw.iloc[:, 0], X_raw.iloc[:, 1], strict=False))\n",
    "\n",
    "# Dummy binary labels for the pairs\n",
    "y = np.where(y_raw == \"positive\", 1, 0)"
   ]
  },
  {
   "cell_type": "code",
   "execution_count": 17,
   "id": "9194427c",
   "metadata": {},
   "outputs": [
    {
     "name": "stdout",
     "output_type": "stream",
     "text": [
      "[1 1 1 1 1 1 1 1 1 1 1 1 1 1 1 1 1 1 1 1 1 1 1 1 1 1 1 1 1 1 0 0 0 0 0 0 0\n",
      " 0 0 0 0 0 0 0 0 0 0 0 0 0]\n"
     ]
    }
   ],
   "source": [
    "print(y)"
   ]
  },
  {
   "cell_type": "markdown",
   "id": "01001dd2",
   "metadata": {},
   "source": [
    "## DIfferent Real-world examples\n",
    "In the second half of this notebook we will explore 3 real-world use cases of the algorithm. These include:\n",
    "1. Training on the entire AptaTrans dataset, and predict binding probability (`predict_proba`) between a protein and a DNA sequence.\n",
    "2. same for using DNA sequences from a `fasta` file.\n",
    "3. Using MCTS combined with a trained `AptaNet` to propose new aptamers for a new pdb file, i.e., a form of in-silico Selex."
   ]
  },
  {
   "cell_type": "code",
   "execution_count": 40,
   "id": "71f1648e",
   "metadata": {},
   "outputs": [
    {
     "name": "stderr",
     "output_type": "stream",
     "text": [
      "C:\\Users\\satvm\\pyaptamer\\pyaptamer\\pseaac\\_pseaac_aptanet.py:196: UserWarning: Invalid amino acid(s) found in sequence. Replaced with 'N'.\n",
      "  seq = clean_protein_seq(protein_sequence)\n"
     ]
    }
   ],
   "source": [
    "# Fit the pipeline on the aptamer-protein pairs from the `AptaTrans` dataset\n",
    "pipeline.fit(X, y)"
   ]
  },
  {
   "cell_type": "markdown",
   "id": "94949073",
   "metadata": {},
   "source": [
    "### First workflow\n",
    "\n",
    "Predicting binding probability (`predict_proba`) between a protein (1GNH) and a DNA sequence."
   ]
  },
  {
   "cell_type": "code",
   "execution_count": 41,
   "id": "7c5a42a3",
   "metadata": {},
   "outputs": [
    {
     "data": {
      "text/plain": [
       "array([[0.6478101, 0.3521899],\n",
       "       [0.6478101, 0.3521899],\n",
       "       [0.6478101, 0.3521899],\n",
       "       [0.6478101, 0.3521899],\n",
       "       [0.6478101, 0.3521899],\n",
       "       [0.6478101, 0.3521899],\n",
       "       [0.6478101, 0.3521899],\n",
       "       [0.6478101, 0.3521899],\n",
       "       [0.6478101, 0.3521899],\n",
       "       [0.6478101, 0.3521899]], dtype=float32)"
      ]
     },
     "execution_count": 41,
     "metadata": {},
     "output_type": "execute_result"
    }
   ],
   "source": [
    "aptamer_sequence = \"GGGAGGACGAAGACGACUCGAGACAGGCUAGGGAGGGA\"\n",
    "\n",
    "gnh = load_1gnh_structure()\n",
    "protein_sequence = struct_to_aaseq(gnh)\n",
    "\n",
    "X = [(aptamer_sequence, p) for p in protein_sequence]\n",
    "\n",
    "pipeline.predict_proba(X)"
   ]
  },
  {
   "cell_type": "markdown",
   "id": "af501b0c",
   "metadata": {},
   "source": [
    "### Second workflow\n",
    "\n",
    "Predicting binding probability (`predict_proba`) between a protein (1GNH) and DNA sequences from a `fasta` file."
   ]
  },
  {
   "cell_type": "code",
   "execution_count": 42,
   "id": "dc580069",
   "metadata": {},
   "outputs": [
    {
     "data": {
      "text/plain": [
       "array([[0.6488712 , 0.35112882],\n",
       "       [0.6487113 , 0.35128868],\n",
       "       [0.6486779 , 0.3513221 ],\n",
       "       [0.64891505, 0.35108498],\n",
       "       [0.6486777 , 0.3513223 ],\n",
       "       [0.6487113 , 0.35128868],\n",
       "       [0.64887017, 0.35112983],\n",
       "       [0.6490325 , 0.3509675 ],\n",
       "       [0.64859843, 0.3514016 ],\n",
       "       [0.648718  , 0.35128203]], dtype=float32)"
      ]
     },
     "execution_count": 42,
     "metadata": {},
     "output_type": "execute_result"
    }
   ],
   "source": [
    "from pyaptamer.utils import fasta_to_aaseq\n",
    "\n",
    "fasta = fasta_to_aaseq(\n",
    "    \"https://huggingface.co/datasets/gcos/HoloRBP4_round8_trimmed/resolve/main/HoloRBP4_round8_trimmed.fasta\"\n",
    ")\n",
    "\n",
    "X = [(aptamer_sequence, seq) for seq in fasta]\n",
    "\n",
    "pipeline.predict_proba(X[:10])"
   ]
  },
  {
   "cell_type": "markdown",
   "id": "16420bc4",
   "metadata": {},
   "source": [
    "### Third workflow\n",
    "\n",
    "Using MCTS combined with a trained `AptaNet` to propose new aptamers for a protein (1GNH), i.e., a form of in-silico Selex."
   ]
  },
  {
   "cell_type": "code",
   "execution_count": 45,
   "id": "aadff246",
   "metadata": {},
   "outputs": [
    {
     "name": "stdout",
     "output_type": "stream",
     "text": [
      "\n",
      " ----- Round: 1 -----\n",
      "##################################################\n",
      "Best subsequence: C__GC_\n",
      "Depth: 3\n",
      "##################################################\n",
      "\n",
      " ----- Round: 2 -----\n",
      "##################################################\n",
      "Best subsequence: C__GC_A_C__G\n",
      "Depth: 6\n",
      "##################################################\n",
      "\n",
      " ----- Round: 3 -----\n",
      "##################################################\n",
      "Best subsequence: C__GC_A_C__GG__U_C\n",
      "Depth: 9\n",
      "##################################################\n",
      "\n",
      " ----- Round: 4 -----\n",
      "##################################################\n",
      "Best subsequence: C__GC_A_C__GG__U_C_CC__U\n",
      "Depth: 12\n",
      "##################################################\n",
      "\n",
      " ----- Round: 5 -----\n",
      "##################################################\n",
      "Best subsequence: C__GC_A_C__GG__U_C_CC__UA__C_C\n",
      "Depth: 15\n",
      "##################################################\n",
      "\n",
      " ----- Round: 6 -----\n",
      "##################################################\n",
      "Best subsequence: C__GC_A_C__GG__U_C_CC__UA__C_C_CA__G\n",
      "Depth: 18\n",
      "##################################################\n",
      "\n",
      " ----- Round: 7 -----\n",
      "##################################################\n",
      "Best subsequence: C__GC_A_C__GG__U_C_CC__UA__C_C_CA__GG_U_\n",
      "Depth: 20\n",
      "##################################################\n"
     ]
    }
   ],
   "source": [
    "from pyaptamer.experiments import AptamerEvalAptaNet\n",
    "from pyaptamer.mcts import MCTS\n",
    "\n",
    "gnh = load_1gnh_structure()\n",
    "protein_sequence = struct_to_aaseq(gnh)\n",
    "\n",
    "# There can only be one target sequence\n",
    "eval = AptamerEvalAptaNet(pipeline=pipeline, target=protein_sequence[0])\n",
    "\n",
    "mcts = MCTS(experiment=eval)\n",
    "\n",
    "output = mcts.run(verbose=True)"
   ]
  },
  {
   "cell_type": "code",
   "execution_count": 47,
   "id": "d4397f07",
   "metadata": {},
   "outputs": [
    {
     "data": {
      "text/plain": [
       "'UGAACGCACCGGUCCUCCCG'"
      ]
     },
     "execution_count": 47,
     "metadata": {},
     "output_type": "execute_result"
    }
   ],
   "source": [
    "# Get the best sequence\n",
    "output[\"candidate\"]"
   ]
  },
  {
   "cell_type": "code",
   "execution_count": null,
   "id": "c19b2b6b",
   "metadata": {},
   "outputs": [],
   "source": []
  }
 ],
 "metadata": {
  "kernelspec": {
   "display_name": "pyaptamer-latest",
   "language": "python",
   "name": "python3"
  },
  "language_info": {
   "codemirror_mode": {
    "name": "ipython",
    "version": 3
   },
   "file_extension": ".py",
   "mimetype": "text/x-python",
   "name": "python",
   "nbconvert_exporter": "python",
   "pygments_lexer": "ipython3",
   "version": "3.12.11"
  }
 },
 "nbformat": 4,
 "nbformat_minor": 5
}
