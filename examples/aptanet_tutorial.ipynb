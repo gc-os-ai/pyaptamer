{
 "cells": [
  {
   "cell_type": "markdown",
   "id": "50e8d179",
   "metadata": {},
   "source": [
    "# Binding prediction using AptaNet\n",
    "Step-by-step guide for using AptaNet for binary aptamer–protein binding prediction."
   ]
  },
  {
   "cell_type": "markdown",
   "id": "40a64683",
   "metadata": {},
   "source": [
    "## Overview\n",
    "This notebook showcases the AptaNet algorithm, a deep learning method that combines sequence-derived (k-mer + PSeAAC) features with RandomForest-based feature selection, and a multi-layer perceptron to predict whether an aptamer and a protein interact (binary classification: aptamer binds/does not bind with the target protein). An overview of the classes and helper functions used in this notebook:\n",
    "\n",
    "- **pairs_to_features**: helper that converts `(aptamer_sequence, protein_sequence)` pairs into feature vectors using k-mer + PSeAAC.\n",
    "- **SkorchAptaNet**: a PyTorch MLP wrapped in Skorch for binary classification.\n",
    "- **load_pfoa_structure**: helper to load the PFOA molecule structure from PDB file."
   ]
  },
  {
   "cell_type": "markdown",
   "id": "45c592d9",
   "metadata": {},
   "source": [
    "## Data preparation\n",
    "To train the `AptaNetMLP` the notebook uses:\n",
    "* For `X`:\n",
    "    * 5 random aptamer sequences of length>30 (to satisfy the default lambda value of 30 set in the PSeAAC algorithm).\n",
    "    * Amino acid sequences extracted from the 1GNH protein molecule.\n",
    "    \n",
    "    The aptamer sequences and the amino acid sequences form tuples `(aptamer_sequence, protein_sequence)` to form `X`.\n",
    "* For `y`:\n",
    "    * A random binary value (to indicate if the aptamer binds or not) as dummy data."
   ]
  },
  {
   "cell_type": "code",
   "execution_count": 16,
   "id": "3737da88",
   "metadata": {},
   "outputs": [],
   "source": [
    "# Data imports\n",
    "import torch\n",
    "\n",
    "from pyaptamer.datasets import load_1gnh_structure\n",
    "from pyaptamer.utils import struct_to_aaseq"
   ]
  },
  {
   "cell_type": "code",
   "execution_count": 17,
   "id": "a2f6701d",
   "metadata": {},
   "outputs": [],
   "source": [
    "aptamer_sequence = [\n",
    "    \"GGGAGGACGAAGACGACUCGAGACAGGCUAGGGAGGGA\",\n",
    "    \"AAGCGUCGGAUCUACACGUGCGAUAGCUCAGUACGCGGU\",\n",
    "    \"CGGUAUCGAGUACAGGAGUCCGACGGAUAGUCCGGAGC\",\n",
    "    \"UAGCUAGCGAACUAGGCGUAGCUUCGAGUAGCUACGGAA\",\n",
    "    \"GCUAGGACGAUCGCACGUGACCGUCAGUAGCGUAGGAGA\",\n",
    "]\n",
    "\n",
    "gnh = load_1gnh_structure()\n",
    "protein_sequence = struct_to_aaseq(gnh, return_type=\"list\")\n",
    "\n",
    "# Build all combinations (aptamer, protein)\n",
    "X = [(a, p) for a in aptamer_sequence for p in protein_sequence]\n",
    "\n",
    "# Dummy binary labels for the pairs\n",
    "y = torch.randint(0, 2, (len(X),), dtype=torch.float32)"
   ]
  },
  {
   "cell_type": "markdown",
   "id": "c10ae4ea",
   "metadata": {},
   "source": [
    "## Building the pipeline\n",
    "### Dataset balancing using the Neighbourhood cleaning rule\n",
    "In the `AptaNet` paper, the authors mention using the `NeighbourhoodCleaningRule` from `imblearn` in order to balance the dataset, as in their dataset they had more negative (0) values than positives (1).\n",
    "\n",
    " To build a scikit-learn pipeline, follow these steps:\n",
    "1. Convert the input to the desired (aptamer_sequence, protein_sequence) format.\n",
    "    * OPTIONAL: As mentioned in the paper, perform under-sampling using the  \n",
    "    Neighborhood Cleaning Rule to balance the classes.\n",
    "2. Get the PSeAAC feature vectors for your converted input (using `pairs_to_features`).\n",
    "3. Select the number of features to use from the feature vector (using `RandomForestClassifier`).\n",
    "4. Define the skorch neural network (using `AptaNetMLP`).\n",
    "### Different workflows\n",
    "In this notebook we will cover 3 different workflows one can follow, in ascending order of customizability:\n",
    "\n",
    "1. A minimal workflow with no dataset balancing, while using the in-built pipeline.\n",
    "2. Using your own custom pipeline.\n",
    "3. Dataset balancing, while using your own pipeline."
   ]
  },
  {
   "cell_type": "markdown",
   "id": "5b7c1997",
   "metadata": {},
   "source": [
    "### First workflow\n",
    "A minimal workflow with no dataset balancing, while using the in-built pipeline."
   ]
  },
  {
   "cell_type": "code",
   "execution_count": 18,
   "id": "44cc1cbf",
   "metadata": {},
   "outputs": [],
   "source": [
    "# If you want to use the AptaNet pipeline, you can import it directly\n",
    "from pyaptamer.aptanet import AptaNetPipeline"
   ]
  },
  {
   "cell_type": "code",
   "execution_count": 19,
   "id": "d782bca8",
   "metadata": {},
   "outputs": [],
   "source": [
    "pipeline = AptaNetPipeline()"
   ]
  },
  {
   "cell_type": "code",
   "execution_count": 20,
   "id": "f8a0d947",
   "metadata": {},
   "outputs": [],
   "source": [
    "# Fit the pipeline on the aptamer-protein pairs\n",
    "pipeline.fit(X, y)\n",
    "\n",
    "# Predict the labels for the training data\n",
    "y_pred = pipeline.predict(X)"
   ]
  },
  {
   "cell_type": "code",
   "execution_count": 21,
   "id": "ae896e5c",
   "metadata": {},
   "outputs": [
    {
     "name": "stdout",
     "output_type": "stream",
     "text": [
      "Training Accuracy: 0.56\n"
     ]
    }
   ],
   "source": [
    "# Optional: Evaluate training accuracy\n",
    "from sklearn.metrics import accuracy_score\n",
    "\n",
    "print(\"Training Accuracy:\", accuracy_score(y, y_pred))"
   ]
  },
  {
   "cell_type": "markdown",
   "id": "b90a04f9",
   "metadata": {},
   "source": [
    "### Second Worflow\n",
    "\n",
    "Your own custom-built pipeline."
   ]
  },
  {
   "cell_type": "code",
   "execution_count": 22,
   "id": "6130027a",
   "metadata": {},
   "outputs": [],
   "source": [
    "# If you want to build your own aptamer pipeline, you should use the following imports\n",
    "from sklearn.ensemble import RandomForestClassifier\n",
    "from sklearn.feature_selection import SelectFromModel\n",
    "from sklearn.pipeline import Pipeline\n",
    "from sklearn.preprocessing import FunctionTransformer\n",
    "from skorch import NeuralNetBinaryClassifier\n",
    "\n",
    "from pyaptamer.aptanet._aptanet_nn import AptaNetMLP\n",
    "from pyaptamer.utils._aptanet_utils import pairs_to_features"
   ]
  },
  {
   "cell_type": "code",
   "execution_count": 23,
   "id": "4a2e277e",
   "metadata": {},
   "outputs": [],
   "source": [
    "feature_transformer = FunctionTransformer(\n",
    "    func=pairs_to_features,\n",
    "    validate=False,\n",
    "    # Optional arguments for pairs_to_features\n",
    "    # example: kw_args={'k': 4, 'pseaac_kwargs': {'lambda_value': 30}}\n",
    "    kw_args={},\n",
    ")\n",
    "\n",
    "selector = SelectFromModel(\n",
    "    estimator=RandomForestClassifier(\n",
    "        n_estimators=300,\n",
    "        max_depth=9,\n",
    "        random_state=None,\n",
    "    ),\n",
    "    threshold=\"mean\",\n",
    ")\n",
    "\n",
    "# Define the classifier\n",
    "net = NeuralNetBinaryClassifier(\n",
    "    module=AptaNetMLP,\n",
    "    module__input_dim=None,\n",
    "    module__hidden_dim=128,\n",
    "    module__n_hidden=7,\n",
    "    module__dropout=0.3,\n",
    "    module__output_dim=1,\n",
    "    module__use_lazy=True,\n",
    "    criterion=torch.nn.BCEWithLogitsLoss,\n",
    "    max_epochs=200,\n",
    "    lr=0.00014,\n",
    "    optimizer=torch.optim.RMSprop,\n",
    "    optimizer__alpha=0.9,\n",
    "    optimizer__eps=1e-08,\n",
    "    device=\"cuda\" if torch.cuda.is_available() else \"cpu\",\n",
    ")\n",
    "\n",
    "pipeline = Pipeline(\n",
    "    [\n",
    "        (\"features\", feature_transformer),\n",
    "        (\"selector\", selector),\n",
    "        (\"clf\", net),\n",
    "    ]\n",
    ")"
   ]
  },
  {
   "cell_type": "code",
   "execution_count": 24,
   "id": "8049a472",
   "metadata": {},
   "outputs": [
    {
     "name": "stdout",
     "output_type": "stream",
     "text": [
      "  epoch    train_loss    valid_acc    valid_loss     dur\n",
      "-------  ------------  -----------  ------------  ------\n",
      "      1        \u001b[36m0.7389\u001b[0m       \u001b[32m0.5000\u001b[0m        \u001b[35m0.6943\u001b[0m  0.0080\n",
      "      2        \u001b[36m0.6849\u001b[0m       0.5000        0.6943  0.0100\n",
      "      3        0.6978       0.5000        0.6944  0.0080\n",
      "      4        0.7997       0.5000        0.6944  0.0085\n",
      "      5        0.7165       0.5000        0.6944  0.0100\n",
      "      6        \u001b[36m0.6742\u001b[0m       0.5000        0.6944  0.0100\n",
      "      7        0.6840       0.5000        0.6944  0.0080\n",
      "      8        0.6933       0.5000        0.6944  0.0100\n",
      "      9        0.7004       0.5000        0.6944  0.0100\n",
      "     10        \u001b[36m0.6392\u001b[0m       0.5000        0.6945  0.0080\n",
      "     11        0.7870       0.5000        0.6945  0.0090\n",
      "     12        0.7019       0.5000        0.6945  0.0100\n",
      "     13        0.7071       0.5000        0.6945  0.0075\n",
      "     14        0.6750       0.5000        0.6945  0.0090\n",
      "     15        0.6950       0.5000        0.6945  0.0090\n",
      "     16        0.7385       0.5000        0.6946  0.0080\n",
      "     17        0.7113       0.5000        0.6946  0.0100\n",
      "     18        0.7503       0.5000        0.6946  0.0100\n",
      "     19        0.6758       0.5000        0.6946  0.0080\n",
      "     20        0.7060       0.5000        0.6946  0.0090\n",
      "     21        0.7503       0.5000        0.6946  0.0100\n",
      "     22        0.6625       0.5000        0.6946  0.0075\n",
      "     23        0.7816       0.5000        0.6947  0.0080\n",
      "     24        0.7831       0.5000        0.6947  0.0090\n",
      "     25        0.7293       0.5000        0.6947  0.0080\n",
      "     26        0.7288       0.5000        0.6947  0.0090\n",
      "     27        0.6873       0.5000        0.6947  0.0080\n",
      "     28        0.7136       0.5000        0.6948  0.0090\n",
      "     29        0.6640       0.5000        0.6948  0.0090\n",
      "     30        0.7729       0.5000        0.6948  0.0090\n",
      "     31        0.8101       0.5000        0.6948  0.0095\n",
      "     32        0.7250       0.5000        0.6948  0.0090\n",
      "     33        0.7072       0.5000        0.6948  0.0090\n",
      "     34        0.6685       0.5000        0.6948  0.0090\n",
      "     35        0.7636       0.5000        0.6948  0.0080\n",
      "     36        0.7366       0.5000        0.6949  0.0070\n",
      "     37        0.6738       0.5000        0.6949  0.0080\n",
      "     38        0.7484       0.5000        0.6949  0.0080\n",
      "     39        0.6994       0.5000        0.6949  0.0090\n",
      "     40        0.7580       0.5000        0.6949  0.0090\n",
      "     41        0.7138       0.5000        0.6949  0.0095\n",
      "     42        0.7439       0.5000        0.6949  0.0080\n",
      "     43        0.6937       0.5000        0.6949  0.0080\n",
      "     44        0.6956       0.5000        0.6950  0.0090\n",
      "     45        0.6945       0.5000        0.6950  0.0080\n",
      "     46        0.6492       0.5000        0.6950  0.0110\n",
      "     47        0.7381       0.5000        0.6950  0.0090\n",
      "     48        0.6969       0.5000        0.6950  0.0090\n",
      "     49        0.7494       0.5000        0.6951  0.0080\n",
      "     50        0.8170       0.5000        0.6951  0.0085\n",
      "     51        0.7033       0.5000        0.6951  0.0090\n",
      "     52        0.6887       0.5000        0.6951  0.0100\n",
      "     53        0.6904       0.5000        0.6951  0.0090\n",
      "     54        0.7307       0.5000        0.6951  0.0120\n",
      "     55        0.7360       0.5000        0.6951  0.0100\n",
      "     56        0.7199       0.5000        0.6952  0.0100\n",
      "     57        0.6882       0.5000        0.6952  0.0080\n",
      "     58        0.6976       0.5000        0.6952  0.0105\n",
      "     59        0.7017       0.5000        0.6952  0.0095\n",
      "     60        0.7308       0.5000        0.6952  0.0130\n",
      "     61        0.7802       0.5000        0.6952  0.0080\n",
      "     62        0.6964       0.5000        0.6952  0.0090\n",
      "     63        0.7978       0.5000        0.6952  0.0080\n",
      "     64        0.7518       0.5000        0.6953  0.0110\n",
      "     65        0.7042       0.5000        0.6953  0.0100\n",
      "     66        0.7848       0.5000        0.6953  0.0100\n",
      "     67        0.7607       0.5000        0.6953  0.0075\n",
      "     68        \u001b[36m0.5966\u001b[0m       0.5000        0.6953  0.0100\n",
      "     69        0.6654       0.5000        0.6954  0.0080\n",
      "     70        0.6640       0.5000        0.6954  0.0090\n",
      "     71        0.7065       0.5000        0.6954  0.0070\n",
      "     72        0.7146       0.5000        0.6954  0.0080\n",
      "     73        0.7031       0.5000        0.6954  0.0090\n",
      "     74        0.7497       0.5000        0.6955  0.0080\n",
      "     75        0.7572       0.5000        0.6955  0.0080\n",
      "     76        0.6668       0.5000        0.6955  0.0080\n",
      "     77        0.6794       0.5000        0.6955  0.0085\n",
      "     78        0.7388       0.5000        0.6955  0.0100\n",
      "     79        0.8184       0.5000        0.6955  0.0080\n",
      "     80        0.6838       0.5000        0.6956  0.0080\n",
      "     81        0.7512       0.5000        0.6956  0.0090\n",
      "     82        0.6810       0.5000        0.6956  0.0090\n",
      "     83        0.7466       0.5000        0.6956  0.0100\n",
      "     84        0.6469       0.5000        0.6956  0.0080\n",
      "     85        0.7406       0.5000        0.6956  0.0080\n",
      "     86        0.7212       0.5000        0.6956  0.0075\n",
      "     87        0.7291       0.5000        0.6956  0.0080\n",
      "     88        0.8055       0.5000        0.6956  0.0080\n",
      "     89        0.7109       0.5000        0.6956  0.0080\n",
      "     90        0.6939       0.5000        0.6956  0.0110\n",
      "     91        0.6878       0.5000        0.6957  0.0090\n",
      "     92        0.7362       0.5000        0.6957  0.0090\n",
      "     93        0.7717       0.5000        0.6957  0.0090\n",
      "     94        0.6630       0.5000        0.6957  0.0080\n",
      "     95        0.7305       0.5000        0.6957  0.0080\n",
      "     96        0.6895       0.5000        0.6958  0.0085\n",
      "     97        0.6909       0.5000        0.6958  0.0090\n",
      "     98        0.6850       0.5000        0.6958  0.0100\n",
      "     99        0.6747       0.5000        0.6958  0.0080\n",
      "    100        0.7179       0.5000        0.6958  0.0090\n",
      "    101        0.6979       0.5000        0.6958  0.0090\n",
      "    102        0.7258       0.5000        0.6959  0.0090\n",
      "    103        0.6777       0.5000        0.6959  0.0090\n",
      "    104        0.7406       0.5000        0.6959  0.0080\n",
      "    105        0.6800       0.5000        0.6959  0.0085\n",
      "    106        0.6064       0.5000        0.6959  0.0090\n",
      "    107        0.6614       0.5000        0.6960  0.0080\n",
      "    108        0.6893       0.5000        0.6960  0.0090\n",
      "    109        0.7182       0.5000        0.6960  0.0090\n",
      "    110        0.7237       0.5000        0.6960  0.0090\n",
      "    111        0.7133       0.5000        0.6960  0.0080\n",
      "    112        0.7233       0.5000        0.6961  0.0090\n",
      "    113        0.6845       0.5000        0.6961  0.0080\n",
      "    114        0.7005       0.5000        0.6961  0.0100\n",
      "    115        0.7744       0.5000        0.6961  0.0080\n",
      "    116        0.7313       0.5000        0.6961  0.0090\n",
      "    117        0.7093       0.5000        0.6961  0.0100\n",
      "    118        0.7050       0.5000        0.6961  0.0090\n",
      "    119        0.6872       0.5000        0.6961  0.0080\n",
      "    120        0.7325       0.5000        0.6961  0.0100\n",
      "    121        0.7311       0.5000        0.6961  0.0090\n",
      "    122        0.6581       0.5000        0.6961  0.0080\n",
      "    123        0.6708       0.5000        0.6962  0.0090\n",
      "    124        0.7303       0.5000        0.6962  0.0075\n",
      "    125        0.6764       0.5000        0.6962  0.0100\n",
      "    126        0.6498       0.5000        0.6962  0.0100\n",
      "    127        0.7920       0.5000        0.6963  0.0080\n",
      "    128        0.7001       0.5000        0.6963  0.0080\n",
      "    129        0.7138       0.5000        0.6963  0.0080\n",
      "    130        0.6739       0.5000        0.6963  0.0090\n",
      "    131        0.6856       0.5000        0.6964  0.0110\n",
      "    132        0.7109       0.5000        0.6964  0.0120\n",
      "    133        0.6666       0.5000        0.6964  0.0112\n",
      "    134        0.6844       0.5000        0.6964  0.0100\n",
      "    135        0.7479       0.5000        0.6965  0.0090\n",
      "    136        0.7535       0.5000        0.6965  0.0090\n",
      "    137        0.7371       0.5000        0.6965  0.0130\n",
      "    138        0.7162       0.5000        0.6965  0.0080\n",
      "    139        0.6465       0.5000        0.6965  0.0080\n",
      "    140        0.6866       0.5000        0.6965  0.0080\n",
      "    141        0.6876       0.5000        0.6965  0.0085\n",
      "    142        0.7142       0.5000        0.6965  0.0110\n",
      "    143        0.6195       0.5000        0.6966  0.0090\n",
      "    144        0.7973       0.5000        0.6966  0.0080\n",
      "    145        0.7526       0.5000        0.6966  0.0090\n",
      "    146        0.6992       0.5000        0.6966  0.0090\n",
      "    147        0.7120       0.5000        0.6966  0.0080\n",
      "    148        0.7290       0.5000        0.6966  0.0100\n",
      "    149        0.6965       0.5000        0.6966  0.0080\n",
      "    150        0.6802       0.5000        0.6967  0.0080\n",
      "    151        0.7724       0.5000        0.6967  0.0095\n",
      "    152        0.7462       0.5000        0.6967  0.0090\n",
      "    153        0.6814       0.5000        0.6967  0.0100\n",
      "    154        0.7594       0.5000        0.6967  0.0090\n",
      "    155        0.7645       0.5000        0.6967  0.0090\n",
      "    156        0.7315       0.5000        0.6967  0.0080\n",
      "    157        0.7204       0.5000        0.6967  0.0070\n",
      "    158        0.7387       0.5000        0.6968  0.0090\n",
      "    159        0.7009       0.5000        0.6968  0.0100\n",
      "    160        0.6825       0.5000        0.6968  0.0075\n",
      "    161        0.7147       0.5000        0.6968  0.0090\n",
      "    162        0.7286       0.5000        0.6968  0.0090\n",
      "    163        0.6897       0.5000        0.6968  0.0095\n",
      "    164        0.7705       0.5000        0.6968  0.0080\n",
      "    165        0.7396       0.5000        0.6968  0.0090\n",
      "    166        0.6748       0.5000        0.6969  0.0070\n",
      "    167        0.7197       0.5000        0.6969  0.0080\n",
      "    168        0.7140       0.5000        0.6969  0.0080\n",
      "    169        0.6765       0.5000        0.6969  0.0080\n",
      "    170        0.7395       0.5000        0.6969  0.0075\n",
      "    171        0.6749       0.5000        0.6969  0.0080\n",
      "    172        0.6750       0.5000        0.6970  0.0080\n",
      "    173        0.7641       0.5000        0.6970  0.0080\n",
      "    174        0.7050       0.5000        0.6970  0.0080\n",
      "    175        0.7036       0.5000        0.6970  0.0080\n",
      "    176        0.7025       0.5000        0.6970  0.0070\n",
      "    177        0.6995       0.5000        0.6971  0.0080\n",
      "    178        0.6874       0.5000        0.6971  0.0080\n",
      "    179        0.7661       0.5000        0.6971  0.0080\n",
      "    180        0.6492       0.5000        0.6971  0.0065\n",
      "    181        0.7031       0.5000        0.6971  0.0090\n",
      "    182        0.6940       0.5000        0.6972  0.0090\n",
      "    183        0.7384       0.5000        0.6972  0.0090\n",
      "    184        0.7708       0.5000        0.6972  0.0080\n",
      "    185        0.7650       0.5000        0.6972  0.0080\n",
      "    186        0.7480       0.5000        0.6972  0.0100\n",
      "    187        0.6863       0.5000        0.6972  0.0090\n",
      "    188        0.7168       0.5000        0.6972  0.0090\n",
      "    189        0.7242       0.5000        0.6973  0.0090\n",
      "    190        0.7256       0.5000        0.6973  0.0085\n",
      "    191        0.6899       0.5000        0.6973  0.0080\n",
      "    192        0.6999       0.5000        0.6973  0.0080\n",
      "    193        0.7602       0.5000        0.6973  0.0080\n",
      "    194        0.7220       0.5000        0.6973  0.0070\n",
      "    195        0.7483       0.5000        0.6973  0.0080\n",
      "    196        0.6721       0.5000        0.6973  0.0080\n",
      "    197        0.7257       0.5000        0.6973  0.0090\n",
      "    198        0.7099       0.5000        0.6974  0.0080\n",
      "    199        0.7028       0.5000        0.6974  0.0100\n",
      "    200        0.6394       0.5000        0.6974  0.0075\n"
     ]
    }
   ],
   "source": [
    "# Fit the pipeline on the aptamer-protein pairs\n",
    "pipeline.fit(X, y)\n",
    "\n",
    "# Predict the labels for the training data\n",
    "y_pred = pipeline.predict(X)"
   ]
  },
  {
   "cell_type": "code",
   "execution_count": 25,
   "id": "f00091db",
   "metadata": {},
   "outputs": [
    {
     "name": "stdout",
     "output_type": "stream",
     "text": [
      "Training Accuracy: 0.56\n"
     ]
    }
   ],
   "source": [
    "# Optional: Evaluate training accuracy\n",
    "from sklearn.metrics import accuracy_score\n",
    "\n",
    "print(\"Training Accuracy:\", accuracy_score(y, y_pred))"
   ]
  },
  {
   "cell_type": "markdown",
   "id": "37db693e",
   "metadata": {},
   "source": [
    "### Third workflow\n",
    "Dataset balancing using under-sampling, while using your own pipeline."
   ]
  },
  {
   "cell_type": "code",
   "execution_count": 26,
   "id": "523f4ce6",
   "metadata": {},
   "outputs": [],
   "source": [
    "# If you want to build your own aptamer pipeline, you should use the following imports\n",
    "from sklearn.preprocessing import FunctionTransformer\n",
    "from skorch import NeuralNetBinaryClassifier\n",
    "\n",
    "from pyaptamer.aptanet import AptaNetClassifier, AptaNetPipeline\n",
    "from pyaptamer.aptanet._aptanet_nn import AptaNetMLP\n",
    "from pyaptamer.utils._aptanet_utils import pairs_to_features"
   ]
  },
  {
   "cell_type": "code",
   "execution_count": 27,
   "id": "0cf0bed1",
   "metadata": {},
   "outputs": [],
   "source": [
    "# OPTIONAL: If you want to use the Neighborhood Cleaning Rule for under-sampling\n",
    "# NOTE: If you want to use under-sampling, you need to install imbalanced-learn\n",
    "# and use the Pipeline from imblearn\n",
    "# %pip install imblearn\n",
    "from imblearn.pipeline import Pipeline\n",
    "from imblearn.under_sampling import NeighbourhoodCleaningRule"
   ]
  },
  {
   "cell_type": "code",
   "execution_count": 28,
   "id": "13fb1669",
   "metadata": {},
   "outputs": [],
   "source": [
    "feature_transformer = FunctionTransformer(\n",
    "    func=pairs_to_features,\n",
    "    validate=False,\n",
    "    # Optional arguments for pairs_to_features\n",
    "    # example: kw_args={'k': 4, 'pseaac_kwargs': {'lambda_value': 30}}\n",
    "    kw_args={},\n",
    ")\n",
    "\n",
    "# AptaNetClassifier encapsulates the \"selector\" and \"net\" mentioned in Workflow 2\n",
    "clf = AptaNetClassifier()\n",
    "\n",
    "model = Pipeline(\n",
    "    [\n",
    "        (\"ncr\", NeighbourhoodCleaningRule()),\n",
    "        (\"clf\", clf),\n",
    "    ]\n",
    ")\n",
    "\n",
    "pipeline = AptaNetPipeline(classifier=model)"
   ]
  },
  {
   "cell_type": "code",
   "execution_count": 29,
   "id": "1ed76399",
   "metadata": {},
   "outputs": [],
   "source": [
    "# Fit the pipeline on the aptamer-protein pairs\n",
    "pipeline.fit(X, y)\n",
    "\n",
    "# Predict the labels for the training data\n",
    "y_pred = pipeline.predict(X)"
   ]
  },
  {
   "cell_type": "code",
   "execution_count": 30,
   "id": "945dc876",
   "metadata": {},
   "outputs": [
    {
     "name": "stdout",
     "output_type": "stream",
     "text": [
      "Training Accuracy: 0.44\n"
     ]
    }
   ],
   "source": [
    "# Optional: Evaluate training accuracy\n",
    "from sklearn.metrics import accuracy_score\n",
    "\n",
    "print(\"Training Accuracy:\", accuracy_score(y, y_pred))"
   ]
  }
 ],
 "metadata": {
  "kernelspec": {
   "display_name": "pyaptamer-latest",
   "language": "python",
   "name": "python3"
  },
  "language_info": {
   "codemirror_mode": {
    "name": "ipython",
    "version": 3
   },
   "file_extension": ".py",
   "mimetype": "text/x-python",
   "name": "python",
   "nbconvert_exporter": "python",
   "pygments_lexer": "ipython3",
   "version": "3.12.11"
  }
 },
 "nbformat": 4,
 "nbformat_minor": 5
}
