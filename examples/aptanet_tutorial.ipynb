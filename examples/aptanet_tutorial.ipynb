{
 "cells": [
  {
   "cell_type": "markdown",
   "id": "50e8d179",
   "metadata": {},
   "source": [
    "# AptaNet Tutorial\n",
    "Step-by-step guide to using AptaNet for binary aptamer–protein binding prediction."
   ]
  },
  {
   "cell_type": "markdown",
   "id": "40a64683",
   "metadata": {},
   "source": [
    "## Overview\n",
    "- **pairs_to_features**: converts `(aptamer_seq, protein_seq)` pairs into feature vectors using k-mer + PSeAAC.\n",
    "- **FeatureSelector**: a Random Forest-based transformer that selects important features.\n",
    "- **SkorchAptaNet**: a PyTorch MLP wrapped in Skorch for binary classification with a configurable threshold.\n",
    "- **load_pfoa_structure**: helper to load PFOA molecule structure from PDB file."
   ]
  },
  {
   "cell_type": "markdown",
   "id": "b53a5052",
   "metadata": {},
   "source": [
    "## Imports\n",
    "Import the core functions and classes—you don’t need to redefine them."
   ]
  },
  {
   "cell_type": "code",
   "execution_count": null,
   "id": "15eabec8",
   "metadata": {},
   "outputs": [],
   "source": [
    "import torch\n",
    "import torch.optim as optim\n",
    "from sklearn.pipeline import Pipeline\n",
    "\n",
    "from pyaptamer.aptanet import FeatureSelector, SkorchAptaNet\n",
    "from pyaptamer.utils._aptanet_utils import load_pfoa_structure, pairs_to_features"
   ]
  },
  {
   "cell_type": "markdown",
   "id": "cd459190",
   "metadata": {},
   "source": [
    "## Pipeline\n",
    "Build a scikit-learn pipeline combining feature extraction, selection, and classification. If you already have a `pipe` defined in your project, you can import and use that instead."
   ]
  },
  {
   "cell_type": "code",
   "execution_count": null,
   "id": "13fb1669",
   "metadata": {},
   "outputs": [],
   "source": [
    "# Define the classifier\n",
    "net = SkorchAptaNet(\n",
    "    module__hidden_dim=128,\n",
    "    module__n_hidden=7,\n",
    "    module__dropout=0.3,\n",
    "    max_epochs=200,\n",
    "    lr=1.4e-4,\n",
    "    batch_size=310,\n",
    "    optimizer=optim.RMSprop,\n",
    "    device=\"cuda\" if torch.cuda.is_available() else \"cpu\",\n",
    "    threshold=0.5,\n",
    "    verbose=1,\n",
    ")\n",
    "\n",
    "# Option 1: build a new pipeline here\n",
    "pipe = Pipeline(\n",
    "    [\n",
    "        (\"features\", pairs_to_features),\n",
    "        (\"selector\", FeatureSelector()),\n",
    "        (\"clf\", net),\n",
    "    ]\n",
    ")\n",
    "\n",
    "# Option 2: import the pre-defined pipeline"
   ]
  },
  {
   "cell_type": "markdown",
   "id": "5ee2f75d",
   "metadata": {},
   "source": [
    "## Loading PFOA Structure\n",
    "Use the provided loader to get the PFOA structure for visualization or custom feature work:"
   ]
  },
  {
   "cell_type": "code",
   "execution_count": null,
   "id": "447b782f",
   "metadata": {},
   "outputs": [],
   "source": [
    "structure = load_pfoa_structure()\n",
    "structure"
   ]
  },
  {
   "cell_type": "markdown",
   "id": "9effcbd1",
   "metadata": {},
   "source": [
    "## Usage Example\n",
    "Once you have your dataset:\n",
    "```python\n",
    "# X: list of (aptamer_seq, protein_seq)\n",
    "# y: binary labels (0/1)\n",
    "pipe.fit(X, y)\n",
    "preds = pipe.predict(X)\n",
    "probs = pipe.predict_proba(X)[:, 1]\n",
    "print(classification_report(y, preds))\n",
    "print('ROC AUC:', roc_auc_score(y, probs))\n",
    "```"
   ]
  },
  {
   "cell_type": "markdown",
   "id": "9eb76d53",
   "metadata": {},
   "source": []
  }
 ],
 "metadata": {
  "kernelspec": {
   "display_name": "pyaptamer",
   "language": "python",
   "name": "python3"
  },
  "language_info": {
   "name": "python",
   "version": "3.12.11"
  }
 },
 "nbformat": 4,
 "nbformat_minor": 5
}
