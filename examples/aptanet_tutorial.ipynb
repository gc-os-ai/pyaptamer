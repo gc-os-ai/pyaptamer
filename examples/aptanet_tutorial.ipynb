{
 "cells": [
  {
   "cell_type": "markdown",
   "id": "50e8d179",
   "metadata": {},
   "source": [
    "# Binding prediction using AptaNet\n",
    "Step-by-step guide for using AptaNet for binary aptamer–protein binding prediction."
   ]
  },
  {
   "cell_type": "markdown",
   "id": "40a64683",
   "metadata": {},
   "source": [
    "## Overview\n",
    "This notebook showcases the AptaNet algorithm, a deep learning method that combines sequence-derived (k-mer + PSeAAC) features with RandomForest-based feature selection, and a multi-layer perceptron to predict whether an aptamer and a protein interact (binary classification: aptamer binds/does not bind with the target protein). An overview of the classes and helper functions used in this notebook:\n",
    "\n",
    "- **pairs_to_features**: helper that converts `(aptamer_sequence, protein_sequence)` pairs into feature vectors using k-mer + PSeAAC.\n",
    "- **SkorchAptaNet**: a PyTorch MLP wrapped in Skorch for binary classification.\n",
    "- **load_1gnh_structure**: helper to load the 1GNH molecule structure from PDB file."
   ]
  },
  {
   "cell_type": "markdown",
   "id": "45c592d9",
   "metadata": {},
   "source": [
    "## Data preparation\n",
    "To train the `AptaNetMLP` the notebook uses:\n",
    "* For `X`:\n",
    "    * 5 random aptamer sequences of length>30 (to satisfy the default lambda value of 30 set in the PSeAAC algorithm).\n",
    "    * Amino acid sequences extracted from the 1GNH protein molecule.\n",
    "    \n",
    "    The aptamer sequences and the amino acid sequences form tuples `(aptamer_sequence, protein_sequence)` to form `X`.\n",
    "* For `y`:\n",
    "    * A random binary value (to indicate if the aptamer binds or not) as dummy data."
   ]
  },
  {
   "cell_type": "code",
   "execution_count": null,
   "id": "3737da88",
   "metadata": {},
   "outputs": [],
   "source": [
    "# Data imports\n",
    "import torch\n",
    "\n",
    "from pyaptamer.datasets import load_1gnh_structure\n",
    "from pyaptamer.utils import struct_to_aaseq"
   ]
  },
  {
   "cell_type": "code",
   "execution_count": 24,
   "id": "a2f6701d",
   "metadata": {},
   "outputs": [],
   "source": [
    "aptamer_sequence = [\n",
    "    \"GGGAGGACGAAGACGACUCGAGACAGGCUAGGGAGGGA\",\n",
    "    \"AAGCGUCGGAUCUACACGUGCGAUAGCUCAGUACGCGGU\",\n",
    "    \"CGGUAUCGAGUACAGGAGUCCGACGGAUAGUCCGGAGC\",\n",
    "    \"UAGCUAGCGAACUAGGCGUAGCUUCGAGUAGCUACGGAA\",\n",
    "    \"GCUAGGACGAUCGCACGUGACCGUCAGUAGCGUAGGAGA\",\n",
    "]\n",
    "\n",
    "gnh = load_1gnh_structure()\n",
    "protein_sequence = struct_to_aaseq(gnh)\n",
    "\n",
    "# Build all combinations (aptamer, protein)\n",
    "X = [(a, p) for a in aptamer_sequence for p in protein_sequence]\n",
    "\n",
    "# Dummy binary labels for the pairs\n",
    "y = torch.randint(0, 2, (len(X),), dtype=torch.float32)"
   ]
  },
  {
   "cell_type": "markdown",
   "id": "c10ae4ea",
   "metadata": {},
   "source": [
    "## Building the pipeline\n",
    "### Dataset balancing using the Neighbourhood cleaning rule\n",
    "In the `AptaNet` paper, the authors mention using the `NeighbourhoodCleaningRule` from `imblearn` in order to balance the dataset, as in their dataset they had more negative (0) values than positives (1).\n",
    "\n",
    " To build a scikit-learn pipeline, follow these steps:\n",
    "1. Convert the input to the desired (aptamer_sequence, protein_sequence) format.\n",
    "    * OPTIONAL: As mentioned in the paper, perform under-sampling using the  \n",
    "    Neighborhood Cleaning Rule to balance the classes.\n",
    "2. Get the PSeAAC feature vectors for your converted input (using `pairs_to_features`).\n",
    "3. Select the number of features to use from the feature vector (using `RandomForestClassifier`).\n",
    "4. Define the skorch neural network (using `AptaNetMLP`).\n",
    "### Different workflows\n",
    "In this first half of the notebook we will cover 3 different workflows one can follow, in ascending order of customizability:\n",
    "\n",
    "1. A minimal workflow with no dataset balancing, while using the in-built pipeline.\n",
    "2. Using your own custom pipeline.\n",
    "3. Dataset balancing, while using your own pipeline."
   ]
  },
  {
   "cell_type": "markdown",
   "id": "5b7c1997",
   "metadata": {},
   "source": [
    "### First workflow\n",
    "A minimal workflow with no dataset balancing, while using the in-built pipeline."
   ]
  },
  {
   "cell_type": "code",
   "execution_count": 25,
   "id": "44cc1cbf",
   "metadata": {},
   "outputs": [],
   "source": [
    "# If you want to use the AptaNet pipeline, you can import it directly\n",
    "from pyaptamer.aptanet import AptaNetPipeline"
   ]
  },
  {
   "cell_type": "code",
   "execution_count": 26,
   "id": "d782bca8",
   "metadata": {},
   "outputs": [],
   "source": [
    "pipeline = AptaNetPipeline()"
   ]
  },
  {
   "cell_type": "code",
   "execution_count": 27,
   "id": "f8a0d947",
   "metadata": {},
   "outputs": [],
   "source": [
    "# Fit the pipeline on the aptamer-protein pairs\n",
    "pipeline.fit(X, y)\n",
    "\n",
    "# Predict the labels for the training data\n",
    "y_pred = pipeline.predict(X)"
   ]
  },
  {
   "cell_type": "code",
   "execution_count": 28,
   "id": "ae896e5c",
   "metadata": {},
   "outputs": [
    {
     "name": "stdout",
     "output_type": "stream",
     "text": [
      "Training Accuracy: 0.5\n"
     ]
    }
   ],
   "source": [
    "# Optional: Evaluate training accuracy\n",
    "from sklearn.metrics import accuracy_score\n",
    "\n",
    "print(\"Training Accuracy:\", accuracy_score(y, y_pred))"
   ]
  },
  {
   "cell_type": "markdown",
   "id": "b90a04f9",
   "metadata": {},
   "source": [
    "### Second Worflow\n",
    "\n",
    "Your own custom-built pipeline."
   ]
  },
  {
   "cell_type": "code",
   "execution_count": 29,
   "id": "6130027a",
   "metadata": {},
   "outputs": [],
   "source": [
    "# If you want to build your own aptamer pipeline, you should use the following imports\n",
    "from sklearn.ensemble import RandomForestClassifier\n",
    "from sklearn.feature_selection import SelectFromModel\n",
    "from sklearn.pipeline import Pipeline\n",
    "from sklearn.preprocessing import FunctionTransformer\n",
    "from skorch import NeuralNetBinaryClassifier\n",
    "\n",
    "from pyaptamer.aptanet._aptanet_nn import AptaNetMLP\n",
    "from pyaptamer.utils._aptanet_utils import pairs_to_features"
   ]
  },
  {
   "cell_type": "code",
   "execution_count": 30,
   "id": "4a2e277e",
   "metadata": {},
   "outputs": [],
   "source": [
    "feature_transformer = FunctionTransformer(\n",
    "    func=pairs_to_features,\n",
    "    validate=False,\n",
    "    # Optional arguments for pairs_to_features\n",
    "    # example: kw_args={'k': 4, 'pseaac_kwargs': {'lambda_value': 30}}\n",
    "    kw_args={},\n",
    ")\n",
    "\n",
    "selector = SelectFromModel(\n",
    "    estimator=RandomForestClassifier(\n",
    "        n_estimators=300,\n",
    "        max_depth=9,\n",
    "        random_state=None,\n",
    "    ),\n",
    "    threshold=\"mean\",\n",
    ")\n",
    "\n",
    "# Define the classifier\n",
    "net = NeuralNetBinaryClassifier(\n",
    "    module=AptaNetMLP,\n",
    "    module__input_dim=None,\n",
    "    module__hidden_dim=128,\n",
    "    module__n_hidden=7,\n",
    "    module__dropout=0.3,\n",
    "    module__output_dim=1,\n",
    "    module__use_lazy=True,\n",
    "    criterion=torch.nn.BCEWithLogitsLoss,\n",
    "    max_epochs=200,\n",
    "    lr=0.00014,\n",
    "    optimizer=torch.optim.RMSprop,\n",
    "    optimizer__alpha=0.9,\n",
    "    optimizer__eps=1e-08,\n",
    "    device=\"cuda\" if torch.cuda.is_available() else \"cpu\",\n",
    ")\n",
    "\n",
    "pipeline = Pipeline(\n",
    "    [\n",
    "        (\"features\", feature_transformer),\n",
    "        (\"selector\", selector),\n",
    "        (\"clf\", net),\n",
    "    ]\n",
    ")"
   ]
  },
  {
   "cell_type": "code",
   "execution_count": 31,
   "id": "8049a472",
   "metadata": {},
   "outputs": [
    {
     "name": "stdout",
     "output_type": "stream",
     "text": [
      "  epoch    train_loss    valid_acc    valid_loss     dur\n",
      "-------  ------------  -----------  ------------  ------\n",
      "      1        \u001b[36m0.7124\u001b[0m       \u001b[32m0.5000\u001b[0m        \u001b[35m0.6932\u001b[0m  0.0000\n",
      "      2        0.7718       0.5000        \u001b[35m0.6931\u001b[0m  0.0183\n",
      "      3        0.7418       0.5000        0.6932  0.0000\n",
      "      4        0.7457       0.5000        0.6932  0.0015\n",
      "      5        \u001b[36m0.6692\u001b[0m       0.5000        0.6932  0.0156\n",
      "      6        0.7629       0.5000        0.6932  0.0055\n",
      "      7        \u001b[36m0.6646\u001b[0m       0.5000        0.6932  0.0103\n",
      "      8        \u001b[36m0.6563\u001b[0m       0.5000        0.6932  0.0160\n",
      "      9        0.7416       0.5000        0.6932  0.0000\n",
      "     10        0.7760       0.5000        0.6932  0.0233\n",
      "     11        0.7097       0.5000        0.6932  0.0089\n",
      "     12        0.7042       0.5000        0.6932  0.0000\n",
      "     13        0.6652       0.5000        0.6932  0.0157\n",
      "     14        0.7385       0.5000        0.6932  0.0157\n",
      "     15        0.6904       0.5000        0.6932  0.0073\n",
      "     16        0.6981       0.5000        0.6932  0.0000\n",
      "     17        0.7084       0.5000        0.6932  0.0259\n",
      "     18        0.7127       0.5000        0.6932  0.0090\n",
      "     19        0.7004       0.5000        0.6932  0.0080\n",
      "     20        0.7170       0.5000        0.6932  0.0100\n",
      "     21        0.7081       0.5000        0.6932  0.0000\n",
      "     22        0.7721       0.5000        0.6932  0.0153\n",
      "     23        0.7170       0.5000        0.6932  0.0164\n",
      "     24        0.6860       0.5000        0.6932  0.0000\n",
      "     25        0.7591       0.5000        0.6932  0.0153\n",
      "     26        0.7140       0.5000        0.6932  0.0159\n",
      "     27        0.7714       0.5000        0.6932  0.0000\n",
      "     28        0.7270       0.5000        0.6932  0.0157\n",
      "     29        0.7576       0.5000        0.6932  0.0000\n",
      "     30        0.7109       0.5000        0.6932  0.0000\n",
      "     31        0.6878       0.5000        0.6932  0.0187\n",
      "     32        0.7276       0.5000        0.6932  0.0048\n",
      "     33        0.7479       0.5000        0.6932  0.0056\n",
      "     34        0.7099       0.5000        0.6932  0.0069\n",
      "     35        0.7303       0.5000        0.6932  0.0094\n",
      "     36        0.7735       0.5000        0.6932  0.0070\n",
      "     37        0.6968       0.5000        0.6932  0.0097\n",
      "     38        0.7954       0.5000        0.6932  0.0000\n",
      "     39        0.7416       0.5000        0.6932  0.0069\n",
      "     40        0.7073       0.5000        0.6932  0.0096\n",
      "     41        0.6988       0.5000        0.6932  0.0040\n",
      "     42        0.7714       0.5000        0.6932  0.0167\n",
      "     43        0.8306       0.5000        0.6932  0.0097\n",
      "     44        0.7615       0.5000        0.6932  0.0069\n",
      "     45        0.7281       0.5000        0.6932  0.0098\n",
      "     46        0.6736       0.5000        0.6932  0.0100\n",
      "     47        0.7212       0.5000        0.6932  0.0102\n",
      "     48        0.7662       0.5000        0.6932  0.0102\n",
      "     49        0.7400       0.5000        0.6932  0.0087\n",
      "     50        0.7299       0.5000        0.6932  0.0103\n",
      "     51        0.7679       0.5000        0.6932  0.0104\n",
      "     52        0.6970       0.5000        0.6932  0.0101\n",
      "     53        0.7020       0.5000        0.6932  0.0102\n",
      "     54        0.7430       0.5000        0.6932  0.0101\n",
      "     55        0.7276       0.5000        0.6932  0.0101\n",
      "     56        0.7778       0.5000        0.6932  0.0101\n",
      "     57        0.7282       0.5000        0.6932  0.0101\n",
      "     58        0.7034       0.5000        0.6932  0.0101\n",
      "     59        0.7393       0.5000        0.6932  0.0101\n",
      "     60        \u001b[36m0.6536\u001b[0m       0.5000        0.6932  0.0000\n",
      "     61        0.6998       0.5000        0.6932  0.0000\n",
      "     62        0.7130       0.5000        0.6932  0.0000\n",
      "     63        0.7415       0.5000        0.6932  0.0080\n",
      "     64        0.7378       0.5000        0.6932  0.0000\n",
      "     65        0.7432       0.5000        0.6932  0.0000\n",
      "     66        0.7214       0.5000        0.6932  0.0142\n",
      "     67        0.7433       0.5000        0.6932  0.0119\n",
      "     68        0.7462       0.5000        0.6932  0.0080\n",
      "     69        0.7288       0.5000        0.6932  0.0070\n",
      "     70        0.6972       0.5000        0.6932  0.0070\n",
      "     71        0.7435       0.5000        0.6932  0.0090\n",
      "     72        0.7203       0.5000        0.6932  0.0060\n",
      "     73        0.6829       0.5000        0.6932  0.0102\n",
      "     74        0.6830       0.5000        0.6932  0.0100\n",
      "     75        0.7551       0.5000        0.6932  0.0000\n",
      "     76        0.6839       0.5000        0.6932  0.0000\n",
      "     77        0.7007       0.5000        0.6932  0.0101\n",
      "     78        0.7044       0.5000        0.6932  0.0150\n",
      "     79        0.6802       0.5000        0.6932  0.0033\n",
      "     80        0.6973       0.5000        0.6932  0.0101\n",
      "     81        0.7132       0.5000        0.6932  0.0101\n",
      "     82        0.6837       0.5000        0.6932  0.0000\n",
      "     83        0.6893       0.5000        0.6932  0.0000\n",
      "     84        0.8015       0.5000        0.6932  0.0164\n",
      "     85        0.7044       0.5000        0.6932  0.0101\n",
      "     86        0.7347       0.5000        0.6932  0.0000\n",
      "     87        0.7788       0.5000        0.6932  0.0000\n",
      "     88        0.7782       0.5000        0.6932  0.0102\n",
      "     89        0.7199       0.5000        0.6932  0.0100\n",
      "     90        0.6865       0.5000        0.6932  0.0100\n",
      "     91        0.7007       0.5000        0.6932  0.0101\n",
      "     92        0.6807       0.5000        0.6932  0.0101\n",
      "     93        0.8126       0.5000        0.6932  0.0100\n",
      "     94        0.6929       0.5000        0.6932  0.0000\n",
      "     95        0.7848       0.5000        0.6932  0.0000\n",
      "     96        0.7029       0.5000        0.6932  0.0101\n",
      "     97        0.7574       0.5000        0.6932  0.0061\n",
      "     98        0.6883       0.5000        0.6932  0.0102\n",
      "     99        0.7645       0.5000        0.6932  0.0105\n",
      "    100        0.7573       0.5000        0.6932  0.0000\n",
      "    101        0.6767       0.5000        0.6932  0.0000\n",
      "    102        0.7206       0.5000        0.6932  0.0148\n",
      "    103        0.6831       0.5000        0.6932  0.0097\n",
      "    104        0.7701       0.5000        0.6932  0.0073\n",
      "    105        0.6618       0.5000        0.6932  0.0098\n",
      "    106        0.6943       0.5000        0.6932  0.0132\n",
      "    107        0.6842       0.5000        0.6932  0.0069\n",
      "    108        0.6736       0.5000        0.6932  0.0100\n",
      "    109        0.6835       0.5000        0.6932  0.0095\n",
      "    110        0.6757       0.5000        0.6932  0.0100\n",
      "    111        0.7037       0.5000        0.6932  0.0000\n",
      "    112        0.6965       0.5000        0.6932  0.0000\n",
      "    113        0.7118       0.5000        0.6932  0.0000\n",
      "    114        0.6855       0.5000        0.6932  0.0100\n",
      "    115        0.7188       0.5000        0.6932  0.0101\n",
      "    116        \u001b[36m0.6405\u001b[0m       0.5000        0.6932  0.0100\n",
      "    117        0.6990       0.5000        0.6932  0.0129\n",
      "    118        0.6729       0.5000        0.6932  0.0071\n",
      "    119        0.7040       0.5000        0.6932  0.0102\n",
      "    120        0.7039       0.5000        0.6932  0.0100\n",
      "    121        0.7355       0.5000        0.6932  0.0105\n",
      "    122        0.7436       0.5000        0.6932  0.0100\n",
      "    123        0.7191       0.5000        0.6932  0.0100\n",
      "    124        0.7960       0.5000        0.6932  0.0080\n",
      "    125        0.7048       0.5000        0.6932  0.0000\n",
      "    126        0.7525       0.5000        0.6932  0.0063\n",
      "    127        0.6918       0.5000        0.6932  0.0100\n",
      "    128        0.7516       0.5000        0.6932  0.0100\n",
      "    129        0.7247       0.5000        0.6932  0.0000\n",
      "    130        0.7426       0.5000        0.6932  0.0000\n",
      "    131        0.7155       0.5000        0.6932  0.0102\n",
      "    132        0.6927       0.5000        0.6932  0.0101\n",
      "    133        0.6933       0.5000        0.6932  0.0104\n",
      "    134        0.7564       0.5000        0.6932  0.0100\n",
      "    135        0.6871       0.5000        0.6932  0.0100\n",
      "    136        0.7367       0.5000        0.6932  0.0000\n",
      "    137        0.7126       0.5000        0.6932  0.0054\n",
      "    138        0.7099       0.5000        0.6932  0.0051\n",
      "    139        0.7465       0.5000        0.6932  0.0101\n",
      "    140        0.7655       0.5000        0.6932  0.0100\n",
      "    141        0.7661       0.5000        0.6932  0.0103\n",
      "    142        0.7138       0.5000        0.6932  0.0103\n",
      "    143        0.7313       0.5000        0.6932  0.0104\n",
      "    144        0.7297       0.5000        0.6932  0.0000\n",
      "    145        0.7158       0.5000        0.6932  0.0040\n",
      "    146        0.6972       0.5000        0.6932  0.0062\n",
      "    147        0.6802       0.5000        0.6932  0.0000\n",
      "    148        0.7066       0.5000        0.6932  0.0133\n",
      "    149        0.7500       0.5000        0.6932  0.0083\n",
      "    150        0.6706       0.5000        0.6932  0.0100\n",
      "    151        0.7610       0.5000        0.6932  0.0104\n",
      "    152        0.7357       0.5000        0.6932  0.0100\n",
      "    153        0.6651       0.5000        0.6932  0.0103\n",
      "    154        0.7535       0.5000        0.6932  0.0102\n",
      "    155        0.7553       0.5000        0.6932  0.0000\n",
      "    156        0.6667       0.5000        0.6932  0.0055\n",
      "    157        0.6965       0.5000        0.6932  0.0101\n",
      "    158        0.7244       0.5000        0.6932  0.0101\n",
      "    159        0.7125       0.5000        0.6932  0.0049\n",
      "    160        0.7316       0.5000        0.6932  0.0018\n",
      "    161        0.6968       0.5000        0.6932  0.0104\n",
      "    162        0.7120       0.5000        0.6932  0.0000\n",
      "    163        0.6534       0.5000        0.6932  0.0060\n",
      "    164        0.7077       0.5000        0.6932  0.0099\n",
      "    165        0.7696       0.5000        0.6932  0.0103\n",
      "    166        0.7177       0.5000        0.6932  0.0000\n",
      "    167        0.7683       0.5000        0.6932  0.0102\n",
      "    168        0.7311       0.5000        0.6932  0.0103\n",
      "    169        0.7011       0.5000        0.6932  0.0100\n",
      "    170        0.7396       0.5000        0.6932  0.0040\n",
      "    171        0.7254       0.5000        0.6932  0.0004\n",
      "    172        0.7089       0.5000        0.6932  0.0096\n",
      "    173        0.7380       0.5000        0.6932  0.0105\n",
      "    174        0.7168       0.5000        0.6932  0.0159\n",
      "    175        0.7188       0.5000        0.6932  0.0080\n",
      "    176        0.6771       0.5000        0.6932  0.0070\n",
      "    177        0.6980       0.5000        0.6932  0.0070\n",
      "    178        0.7309       0.5000        0.6932  0.0070\n",
      "    179        0.7093       0.5000        0.6932  0.0010\n",
      "    180        0.6477       0.5000        0.6932  0.0102\n",
      "    181        0.7111       0.5000        0.6932  0.0047\n",
      "    182        0.7303       0.5000        0.6932  0.0103\n",
      "    183        0.7148       0.5000        0.6932  0.0000\n",
      "    184        0.6889       0.5000        0.6932  0.0000\n",
      "    185        0.7116       0.5000        0.6932  0.0058\n",
      "    186        0.6412       0.5000        0.6932  0.0100\n",
      "    187        0.7062       0.5000        0.6932  0.0103\n",
      "    188        0.6630       0.5000        0.6932  0.0000\n",
      "    189        0.7280       0.5000        0.6932  0.0000\n",
      "    190        0.7270       0.5000        0.6932  0.0102\n",
      "    191        0.6982       0.5000        0.6932  0.0104\n",
      "    192        0.7022       0.5000        0.6932  0.0101\n",
      "    193        0.7384       0.5000        0.6932  0.0100\n",
      "    194        0.7151       0.5000        0.6932  0.0102\n",
      "    195        0.7248       0.5000        0.6932  0.0000\n",
      "    196        0.7214       0.5000        0.6932  0.0105\n",
      "    197        0.7440       0.5000        0.6932  0.0100\n",
      "    198        0.7631       0.5000        0.6932  0.0100\n",
      "    199        0.7035       0.5000        0.6932  0.0000\n",
      "    200        0.6887       0.5000        0.6932  0.0000\n"
     ]
    }
   ],
   "source": [
    "# Fit the pipeline on the aptamer-protein pairs\n",
    "pipeline.fit(X, y)\n",
    "\n",
    "# Predict the labels for the training data\n",
    "y_pred = pipeline.predict(X)"
   ]
  },
  {
   "cell_type": "code",
   "execution_count": 32,
   "id": "f00091db",
   "metadata": {},
   "outputs": [
    {
     "name": "stdout",
     "output_type": "stream",
     "text": [
      "Training Accuracy: 0.5\n"
     ]
    }
   ],
   "source": [
    "# Optional: Evaluate training accuracy\n",
    "from sklearn.metrics import accuracy_score\n",
    "\n",
    "print(\"Training Accuracy:\", accuracy_score(y, y_pred))"
   ]
  },
  {
   "cell_type": "markdown",
   "id": "37db693e",
   "metadata": {},
   "source": [
    "### Third workflow\n",
    "Dataset balancing using under-sampling, while using your own pipeline."
   ]
  },
  {
   "cell_type": "code",
   "execution_count": 33,
   "id": "523f4ce6",
   "metadata": {},
   "outputs": [],
   "source": [
    "# If you want to build your own aptamer pipeline, you should use the following imports\n",
    "from sklearn.preprocessing import FunctionTransformer\n",
    "\n",
    "from pyaptamer.aptanet import AptaNetClassifier, AptaNetPipeline\n",
    "from pyaptamer.utils._aptanet_utils import pairs_to_features"
   ]
  },
  {
   "cell_type": "code",
   "execution_count": 34,
   "id": "0cf0bed1",
   "metadata": {},
   "outputs": [],
   "source": [
    "# OPTIONAL: If you want to use the Neighborhood Cleaning Rule for under-sampling\n",
    "# NOTE: If you want to use under-sampling, you need to install imbalanced-learn\n",
    "# and use the Pipeline from imblearn\n",
    "# %pip install imblearn\n",
    "from imblearn.pipeline import Pipeline\n",
    "from imblearn.under_sampling import NeighbourhoodCleaningRule"
   ]
  },
  {
   "cell_type": "code",
   "execution_count": 35,
   "id": "13fb1669",
   "metadata": {},
   "outputs": [],
   "source": [
    "feature_transformer = FunctionTransformer(\n",
    "    func=pairs_to_features,\n",
    "    validate=False,\n",
    "    # Optional arguments for pairs_to_features\n",
    "    # example: kw_args={'k': 4, 'pseaac_kwargs': {'lambda_value': 30}}\n",
    "    kw_args={},\n",
    ")\n",
    "\n",
    "# AptaNetClassifier encapsulates the \"selector\" and \"net\" mentioned in Workflow 2\n",
    "clf = AptaNetClassifier()\n",
    "\n",
    "model = Pipeline(\n",
    "    [\n",
    "        (\"ncr\", NeighbourhoodCleaningRule()),\n",
    "        (\"clf\", clf),\n",
    "    ]\n",
    ")\n",
    "\n",
    "pipeline = AptaNetPipeline(estimator=model)"
   ]
  },
  {
   "cell_type": "code",
   "execution_count": 36,
   "id": "1ed76399",
   "metadata": {},
   "outputs": [],
   "source": [
    "# Fit the pipeline on the aptamer-protein pairs\n",
    "pipeline.fit(X, y)\n",
    "\n",
    "# Predict the labels for the training data\n",
    "y_pred = pipeline.predict(X)"
   ]
  },
  {
   "cell_type": "code",
   "execution_count": 37,
   "id": "945dc876",
   "metadata": {},
   "outputs": [
    {
     "name": "stdout",
     "output_type": "stream",
     "text": [
      "Training Accuracy: 0.5\n"
     ]
    }
   ],
   "source": [
    "# Optional: Evaluate training accuracy\n",
    "from sklearn.metrics import accuracy_score\n",
    "\n",
    "print(\"Training Accuracy:\", accuracy_score(y, y_pred))"
   ]
  },
  {
   "cell_type": "markdown",
   "id": "0947e5d2",
   "metadata": {},
   "source": [
    "# Implementing `AptaNet` for real-world use cases"
   ]
  },
  {
   "cell_type": "markdown",
   "id": "94894a1b",
   "metadata": {},
   "source": [
    "## Data preparation\n",
    "To train the `AptaNetMLP` the notebook uses the dataset used to train the `AptaTrans` algorithm, this dataset can be found in `pyaptamer/datasets/data/train_li2014`."
   ]
  },
  {
   "cell_type": "code",
   "execution_count": 38,
   "id": "273e2dda",
   "metadata": {},
   "outputs": [],
   "source": [
    "# Data imports\n",
    "import numpy as np\n",
    "\n",
    "from pyaptamer.datasets import load_csv_dataset"
   ]
  },
  {
   "cell_type": "code",
   "execution_count": null,
   "id": "d5cb05fb",
   "metadata": {},
   "outputs": [],
   "source": [
    "X_raw, y_raw = load_csv_dataset(\"train_li2014\")\n",
    "\n",
    "# Build combinations in the form of (aptamer, protein)\n",
    "X = list(zip(X_raw.iloc[:, 0], X_raw.iloc[:, 1], strict=False))\n",
    "\n",
    "# Dummy binary labels for the pairs\n",
    "y = np.where(y_raw == \"positive\", 1, 0)"
   ]
  },
  {
   "cell_type": "markdown",
   "id": "01001dd2",
   "metadata": {},
   "source": [
    "## DIfferent Real-world examples\n",
    "In the second half of this notebook we will explore 3 real-world use cases of the algorithm. These include:\n",
    "1. Training on the entire AptaTrans dataset, and predict binding probability (`predict_proba`) between a protein and a DNA sequence.\n",
    "2. same for using DNA sequences from a `fasta` file.\n",
    "3. Using MCTS combined with a trained `AptaNet` to propose new aptamers for a new pdb file, i.e., a form of in-silico Selex."
   ]
  },
  {
   "cell_type": "code",
   "execution_count": 40,
   "id": "71f1648e",
   "metadata": {},
   "outputs": [
    {
     "name": "stderr",
     "output_type": "stream",
     "text": [
      "C:\\Users\\satvm\\pyaptamer\\pyaptamer\\pseaac\\_features.py:199: UserWarning: Invalid amino acid(s) found in sequence. Replaced with 'N'.\n",
      "  seq = clean_protein_seq(protein_sequence)\n"
     ]
    }
   ],
   "source": [
    "# Fit the pipeline on the aptamer-protein pairs from the `AptaTrans` dataset\n",
    "pipeline.fit(X, y)"
   ]
  },
  {
   "cell_type": "markdown",
   "id": "94949073",
   "metadata": {},
   "source": [
    "### First workflow\n",
    "\n",
    "Predicting binding probability (`predict_proba`) between a protein (1GNH) and a DNA sequence."
   ]
  },
  {
   "cell_type": "code",
   "execution_count": 41,
   "id": "7c5a42a3",
   "metadata": {},
   "outputs": [
    {
     "data": {
      "text/plain": [
       "array([[0.64597833, 0.3540217 ],\n",
       "       [0.64597833, 0.3540217 ],\n",
       "       [0.64597833, 0.3540217 ],\n",
       "       [0.64597833, 0.3540217 ],\n",
       "       [0.64597833, 0.3540217 ],\n",
       "       [0.64597833, 0.3540217 ],\n",
       "       [0.64597833, 0.3540217 ],\n",
       "       [0.64597833, 0.3540217 ],\n",
       "       [0.64597833, 0.3540217 ],\n",
       "       [0.64597833, 0.3540217 ]], dtype=float32)"
      ]
     },
     "execution_count": 41,
     "metadata": {},
     "output_type": "execute_result"
    }
   ],
   "source": [
    "aptamer_sequence = \"GGGAGGACGAAGACGACUCGAGACAGGCUAGGGAGGGA\"\n",
    "\n",
    "gnh = load_1gnh_structure()\n",
    "protein_sequence = struct_to_aaseq(gnh)\n",
    "\n",
    "X = [(aptamer_sequence, p) for p in protein_sequence]\n",
    "\n",
    "pipeline.predict_proba(X)"
   ]
  },
  {
   "cell_type": "markdown",
   "id": "af501b0c",
   "metadata": {},
   "source": [
    "### Second workflow\n",
    "\n",
    "Predicting binding probability (`predict_proba`) between a protein (1GNH) and DNA sequences from a `fasta` file."
   ]
  },
  {
   "cell_type": "code",
   "execution_count": 42,
   "id": "dc580069",
   "metadata": {},
   "outputs": [
    {
     "data": {
      "text/plain": [
       "array([[0.6472134 , 0.3527866 ],\n",
       "       [0.64710045, 0.35289952],\n",
       "       [0.6470602 , 0.35293978],\n",
       "       [0.6473025 , 0.35269746],\n",
       "       [0.6470673 , 0.35293266],\n",
       "       [0.64710045, 0.35289952],\n",
       "       [0.647261  , 0.352739  ],\n",
       "       [0.64732355, 0.35267645],\n",
       "       [0.64700234, 0.35299766],\n",
       "       [0.647082  , 0.35291803]], dtype=float32)"
      ]
     },
     "execution_count": 42,
     "metadata": {},
     "output_type": "execute_result"
    }
   ],
   "source": [
    "from pyaptamer.utils import fasta_to_aaseq\n",
    "\n",
    "fasta = fasta_to_aaseq(\n",
    "    \"https://huggingface.co/datasets/gcos/HoloRBP4_round8_trimmed/resolve/main/HoloRBP4_round8_trimmed.fasta\"\n",
    ")\n",
    "\n",
    "X = [(aptamer_sequence, seq) for seq in fasta]\n",
    "\n",
    "pipeline.predict_proba(X[:10])"
   ]
  },
  {
   "cell_type": "markdown",
   "id": "16420bc4",
   "metadata": {},
   "source": [
    "### Third workflow\n",
    "\n",
    "Using MCTS combined with a trained `AptaNet` to propose new aptamers for a protein (1GNH), i.e., a form of in-silico Selex."
   ]
  },
  {
   "cell_type": "code",
   "execution_count": 43,
   "id": "aadff246",
   "metadata": {},
   "outputs": [
    {
     "name": "stdout",
     "output_type": "stream",
     "text": [
      "\n",
      " ----- Round: 1 -----\n",
      "##################################################\n",
      "Best subsequence: C_U__A\n",
      "Depth: 3\n",
      "##################################################\n",
      "\n",
      " ----- Round: 2 -----\n",
      "##################################################\n",
      "Best subsequence: C_U__A_C_U_C\n",
      "Depth: 6\n",
      "##################################################\n",
      "\n",
      " ----- Round: 3 -----\n",
      "##################################################\n",
      "Best subsequence: C_U__A_C_U_C_C_G_U\n",
      "Depth: 9\n",
      "##################################################\n",
      "\n",
      " ----- Round: 4 -----\n",
      "##################################################\n",
      "Best subsequence: C_U__A_C_U_C_C_G_U_CA_G_\n",
      "Depth: 12\n",
      "##################################################\n",
      "\n",
      " ----- Round: 5 -----\n",
      "##################################################\n",
      "Best subsequence: C_U__A_C_U_C_C_G_U_CA_G_C_U_U_\n",
      "Depth: 15\n",
      "##################################################\n",
      "\n",
      " ----- Round: 6 -----\n",
      "##################################################\n",
      "Best subsequence: C_U__A_C_U_C_C_G_U_CA_G_C_U_U__C_AG_\n",
      "Depth: 18\n",
      "##################################################\n",
      "\n",
      " ----- Round: 7 -----\n",
      "##################################################\n",
      "Best subsequence: C_U__A_C_U_C_C_G_U_CA_G_C_U_U__C_AG__C_G\n",
      "Depth: 20\n",
      "##################################################\n"
     ]
    },
    {
     "data": {
      "text/plain": [
       "{'candidate': 'G',\n",
       " 'sequence': 'C_U__A_C_U_C_C_G_U_CA_G_C_U_U__C_AG__C_G',\n",
       " 'score': tensor([0.3545])}"
      ]
     },
     "execution_count": 43,
     "metadata": {},
     "output_type": "execute_result"
    }
   ],
   "source": [
    "from pyaptamer.experiments import AptamerEvalAptaNet\n",
    "from pyaptamer.mcts import MCTS\n",
    "\n",
    "gnh = load_1gnh_structure()\n",
    "protein_sequence = struct_to_aaseq(gnh)\n",
    "\n",
    "# There can only be one target sequence\n",
    "eval = AptamerEvalAptaNet(pipeline=pipeline, target=protein_sequence[0])\n",
    "\n",
    "mcts = MCTS(experiment=eval)\n",
    "\n",
    "mcts.run(verbose=True)"
   ]
  },
  {
   "cell_type": "code",
   "execution_count": 45,
   "id": "d4397f07",
   "metadata": {},
   "outputs": [
    {
     "data": {
      "text/plain": [
       "'GUUCGAUCACUCCGUCCACG'"
      ]
     },
     "execution_count": 45,
     "metadata": {},
     "output_type": "execute_result"
    }
   ],
   "source": [
    "# Reconstructing the best sequence\n",
    "eval.reconstruct(\"C_U__A_C_U_C_C_G_U_CA_G_C_U_U__C_AG__C_G\")"
   ]
  },
  {
   "cell_type": "code",
   "execution_count": null,
   "id": "c19b2b6b",
   "metadata": {},
   "outputs": [],
   "source": []
  }
 ],
 "metadata": {
  "kernelspec": {
   "display_name": "pyaptamer-latest",
   "language": "python",
   "name": "python3"
  },
  "language_info": {
   "codemirror_mode": {
    "name": "ipython",
    "version": 3
   },
   "file_extension": ".py",
   "mimetype": "text/x-python",
   "name": "python",
   "nbconvert_exporter": "python",
   "pygments_lexer": "ipython3",
   "version": "3.12.11"
  }
 },
 "nbformat": 4,
 "nbformat_minor": 5
}
