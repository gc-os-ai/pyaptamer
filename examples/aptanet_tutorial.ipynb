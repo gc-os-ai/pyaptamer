{
 "cells": [
  {
   "cell_type": "markdown",
   "id": "50e8d179",
   "metadata": {},
   "source": [
    "# Binding prediction using AptaNet\n",
    "Step-by-step guide for using AptaNet for binary aptamer–protein binding prediction."
   ]
  },
  {
   "cell_type": "markdown",
   "id": "40a64683",
   "metadata": {},
   "source": [
    "## Overview\n",
    "This notebook showcases the AptaNet algorithm, a deep learning method that combines sequence-derived (k-mer + PSeAAC) features with RandomForest-based feature selection, and a multi-layer perceptron to predict whether an aptamer and a protein interact (binary classification: aptamer binds/does not bind with the target protein). An overview of the classes and helper functions used in this notebook:\n",
    "\n",
    "- **pairs_to_features**: helper that converts `(aptamer_sequence, protein_sequence)` pairs into feature vectors using k-mer + PSeAAC.\n",
    "- **SkorchAptaNet**: a PyTorch MLP wrapped in Skorch for binary classification.\n",
    "- **load_pfoa_structure**: helper to load the PFOA molecule structure from PDB file."
   ]
  },
  {
   "cell_type": "markdown",
   "id": "45c592d9",
   "metadata": {},
   "source": [
    "## Data preparation\n",
    "To train the `AptaNetMLP` the notebook uses:\n",
    "* For `X`:\n",
    "    * 5 random aptamer sequences of length>30 (to satisfy the default lambda value of 30 set in the PSeAAC algorithm).\n",
    "    * Amino acid sequences extracted from the 1GNH protein molecule.\n",
    "    \n",
    "    The aptamer sequences and the amino acid sequences form tuples `(aptamer_sequence, protein_sequence)` to form `X`.\n",
    "* For `y`:\n",
    "    * A random binary value (to indicate if the aptamer binds or not) as dummy data."
   ]
  },
  {
   "cell_type": "code",
   "execution_count": 1,
   "id": "3737da88",
   "metadata": {},
   "outputs": [],
   "source": [
    "# Data imports\n",
    "import torch\n",
    "\n",
    "from pyaptamer.datasets import load_1gnh_structure\n",
    "from pyaptamer.utils.struct_to_aaseq import struct_to_aaseq"
   ]
  },
  {
   "cell_type": "code",
   "execution_count": 2,
   "id": "a2f6701d",
   "metadata": {},
   "outputs": [],
   "source": [
    "aptamer_sequence = [\n",
    "    \"GGGAGGACGAAGACGACUCGAGACAGGCUAGGGAGGGA\",\n",
    "    \"AAGCGUCGGAUCUACACGUGCGAUAGCUCAGUACGCGGU\",\n",
    "    \"CGGUAUCGAGUACAGGAGUCCGACGGAUAGUCCGGAGC\",\n",
    "    \"UAGCUAGCGAACUAGGCGUAGCUUCGAGUAGCUACGGAA\",\n",
    "    \"GCUAGGACGAUCGCACGUGACCGUCAGUAGCGUAGGAGA\",\n",
    "]\n",
    "\n",
    "gnh = load_1gnh_structure()\n",
    "protein_sequence = struct_to_aaseq(gnh)\n",
    "\n",
    "# Build all combinations (aptamer, protein)\n",
    "X = [(a, p) for a in aptamer_sequence for p in protein_sequence]\n",
    "\n",
    "# Dummy binary labels for the pairs\n",
    "y = torch.randint(0, 2, (len(X),), dtype=torch.float32)"
   ]
  },
  {
   "cell_type": "markdown",
   "id": "c10ae4ea",
   "metadata": {},
   "source": [
    "## Building the pipeline\n",
    "### Dataset balancing using the Neighbourhood cleaning rule\n",
    "In the `AptaNet` paper, the authors mention using the `NeighbourhoodCleaningRule` from `imblearn` in order to balance the dataset, as in their dataset they had more negative (0) values than positives (1).\n",
    "\n",
    " To build a scikit-learn pipeline, follow these steps:\n",
    "1. Convert the input to the desired (aptamer_sequence, protein_sequence) format.\n",
    "    * OPTIONAL: As mentioned in the paper, perform under-sampling using the  \n",
    "    Neighborhood Cleaning Rule to balance the classes.\n",
    "2. Get the PSeAAC feature vectors for your converted input (using `pairs_to_features`).\n",
    "3. Select the number of features to use from the feature vector (using `RandomForestClassifier`).\n",
    "4. Define the skorch neural network (using `AptaNetMLP`).\n",
    "### Different workflows\n",
    "In this notebook we will cover 3 different workflows one can follow, in ascending order of customizability:\n",
    "\n",
    "1. A minimal workflow with no dataset balancing, while using the in-built pipeline.\n",
    "2. Using your own custom pipeline.\n",
    "3. Dataset balancing, while using your own pipeline."
   ]
  },
  {
   "cell_type": "markdown",
   "id": "5b7c1997",
   "metadata": {},
   "source": [
    "### First workflow\n",
    "A minimal workflow with no dataset balancing, while using the in-built pipeline."
   ]
  },
  {
   "cell_type": "code",
   "execution_count": 3,
   "id": "44cc1cbf",
   "metadata": {},
   "outputs": [],
   "source": [
    "# If you want to use the AptaNet pipeline, you can import it directly\n",
    "from pyaptamer.aptanet import AptaNetPipeline"
   ]
  },
  {
   "cell_type": "code",
   "execution_count": 4,
   "id": "d782bca8",
   "metadata": {},
   "outputs": [],
   "source": [
    "pipeline = AptaNetPipeline()"
   ]
  },
  {
   "cell_type": "code",
   "execution_count": 5,
   "id": "f8a0d947",
   "metadata": {},
   "outputs": [],
   "source": [
    "# Fit the pipeline on the aptamer-protein pairs\n",
    "pipeline.fit(X, y)\n",
    "\n",
    "# Predict the labels for the training data\n",
    "y_pred = pipeline.predict(X)"
   ]
  },
  {
   "cell_type": "code",
   "execution_count": 6,
   "id": "ae896e5c",
   "metadata": {},
   "outputs": [
    {
     "name": "stdout",
     "output_type": "stream",
     "text": [
      "Training Accuracy: 0.52\n"
     ]
    }
   ],
   "source": [
    "# Optional: Evaluate training accuracy\n",
    "from sklearn.metrics import accuracy_score\n",
    "\n",
    "print(\"Training Accuracy:\", accuracy_score(y, y_pred))"
   ]
  },
  {
   "cell_type": "markdown",
   "id": "b90a04f9",
   "metadata": {},
   "source": [
    "### Second Worflow\n",
    "\n",
    "Your own custom-built pipeline."
   ]
  },
  {
   "cell_type": "code",
   "execution_count": 7,
   "id": "6130027a",
   "metadata": {},
   "outputs": [],
   "source": [
    "# If you want to build your own aptamer pipeline, you should use the following imports\n",
    "from sklearn.ensemble import RandomForestClassifier\n",
    "from sklearn.feature_selection import SelectFromModel\n",
    "from sklearn.pipeline import Pipeline\n",
    "from sklearn.preprocessing import FunctionTransformer\n",
    "from skorch import NeuralNetBinaryClassifier\n",
    "\n",
    "from pyaptamer.aptanet._aptanet_nn import AptaNetMLP\n",
    "from pyaptamer.utils._aptanet_utils import pairs_to_features"
   ]
  },
  {
   "cell_type": "code",
   "execution_count": 8,
   "id": "4a2e277e",
   "metadata": {},
   "outputs": [],
   "source": [
    "feature_transformer = FunctionTransformer(\n",
    "    func=pairs_to_features,\n",
    "    validate=False,\n",
    "    # Optional arguments for pairs_to_features\n",
    "    # example: kw_args={'k': 4, 'pseaac_kwargs': {'lambda_value': 30}}\n",
    "    kw_args={},\n",
    ")\n",
    "\n",
    "selector = SelectFromModel(\n",
    "    estimator=RandomForestClassifier(\n",
    "        n_estimators=300,\n",
    "        max_depth=9,\n",
    "        random_state=None,\n",
    "    ),\n",
    "    threshold=\"mean\",\n",
    ")\n",
    "\n",
    "# Define the classifier\n",
    "net = NeuralNetBinaryClassifier(\n",
    "    module=AptaNetMLP,\n",
    "    module__input_dim=None,\n",
    "    module__hidden_dim=128,\n",
    "    module__n_hidden=7,\n",
    "    module__dropout=0.3,\n",
    "    module__output_dim=1,\n",
    "    module__use_lazy=True,\n",
    "    criterion=torch.nn.BCEWithLogitsLoss,\n",
    "    max_epochs=200,\n",
    "    lr=0.00014,\n",
    "    optimizer=torch.optim.RMSprop,\n",
    "    optimizer__alpha=0.9,\n",
    "    optimizer__eps=1e-08,\n",
    "    device=\"cuda\" if torch.cuda.is_available() else \"cpu\",\n",
    ")\n",
    "\n",
    "pipeline = Pipeline(\n",
    "    [\n",
    "        (\"features\", feature_transformer),\n",
    "        (\"selector\", selector),\n",
    "        (\"clf\", net),\n",
    "    ]\n",
    ")"
   ]
  },
  {
   "cell_type": "code",
   "execution_count": 9,
   "id": "8049a472",
   "metadata": {},
   "outputs": [
    {
     "name": "stdout",
     "output_type": "stream",
     "text": [
      "  epoch    train_loss    valid_acc    valid_loss     dur\n",
      "-------  ------------  -----------  ------------  ------\n",
      "      1        \u001b[36m0.7970\u001b[0m       \u001b[32m0.6000\u001b[0m        \u001b[35m0.6926\u001b[0m  0.0103\n",
      "      2        \u001b[36m0.7352\u001b[0m       0.6000        \u001b[35m0.6925\u001b[0m  0.0100\n",
      "      3        0.7554       0.6000        \u001b[35m0.6925\u001b[0m  0.0116\n",
      "      4        \u001b[36m0.7191\u001b[0m       0.6000        \u001b[35m0.6924\u001b[0m  0.0040\n",
      "      5        \u001b[36m0.6778\u001b[0m       0.6000        \u001b[35m0.6924\u001b[0m  0.0088\n",
      "      6        0.7272       0.6000        \u001b[35m0.6924\u001b[0m  0.0103\n",
      "      7        0.7604       0.6000        \u001b[35m0.6923\u001b[0m  0.0083\n",
      "      8        0.7301       0.6000        0.6923  0.0114\n",
      "      9        \u001b[36m0.6450\u001b[0m       0.6000        \u001b[35m0.6923\u001b[0m  0.0087\n",
      "     10        0.7091       0.6000        \u001b[35m0.6922\u001b[0m  0.0054\n",
      "     11        0.7306       0.6000        \u001b[35m0.6921\u001b[0m  0.0033\n",
      "     12        0.6665       0.6000        \u001b[35m0.6921\u001b[0m  0.0020\n",
      "     13        0.7009       0.6000        \u001b[35m0.6921\u001b[0m  0.0092\n",
      "     14        0.6479       0.6000        \u001b[35m0.6920\u001b[0m  0.0099\n",
      "     15        0.7146       0.6000        \u001b[35m0.6920\u001b[0m  0.0092\n",
      "     16        0.6946       0.6000        \u001b[35m0.6920\u001b[0m  0.0108\n",
      "     17        0.7610       0.6000        \u001b[35m0.6920\u001b[0m  0.0086\n",
      "     18        0.6549       0.6000        \u001b[35m0.6919\u001b[0m  0.0088\n",
      "     19        0.6875       0.6000        \u001b[35m0.6919\u001b[0m  0.0090\n",
      "     20        0.7252       0.6000        \u001b[35m0.6919\u001b[0m  0.0078\n",
      "     21        0.6788       0.6000        \u001b[35m0.6919\u001b[0m  0.0066\n",
      "     22        0.7564       0.6000        \u001b[35m0.6918\u001b[0m  0.0105\n",
      "     23        0.6584       0.6000        \u001b[35m0.6918\u001b[0m  0.0071\n",
      "     24        0.7111       0.6000        \u001b[35m0.6918\u001b[0m  0.0101\n",
      "     25        0.7012       0.6000        0.6918  0.0120\n",
      "     26        0.7459       0.6000        \u001b[35m0.6918\u001b[0m  0.0098\n",
      "     27        0.6779       0.6000        \u001b[35m0.6917\u001b[0m  0.0100\n",
      "     28        0.7570       0.6000        \u001b[35m0.6917\u001b[0m  0.0081\n",
      "     29        0.7347       0.6000        \u001b[35m0.6916\u001b[0m  0.0157\n",
      "     30        0.6992       0.6000        \u001b[35m0.6916\u001b[0m  0.0125\n",
      "     31        0.6691       0.6000        \u001b[35m0.6916\u001b[0m  0.0078\n",
      "     32        0.7255       0.6000        \u001b[35m0.6916\u001b[0m  0.0102\n",
      "     33        0.7239       0.6000        0.6916  0.0087\n",
      "     34        \u001b[36m0.6303\u001b[0m       0.6000        \u001b[35m0.6916\u001b[0m  0.0113\n",
      "     35        0.7202       0.6000        \u001b[35m0.6915\u001b[0m  0.0080\n",
      "     36        0.7762       0.6000        \u001b[35m0.6915\u001b[0m  0.0053\n",
      "     37        0.6967       0.6000        \u001b[35m0.6915\u001b[0m  0.0034\n",
      "     38        0.7258       0.6000        \u001b[35m0.6914\u001b[0m  0.0104\n",
      "     39        0.6662       0.6000        0.6914  0.0072\n",
      "     40        0.7036       0.6000        \u001b[35m0.6914\u001b[0m  0.0114\n",
      "     41        0.7433       0.6000        \u001b[35m0.6913\u001b[0m  0.0139\n",
      "     42        0.7611       0.6000        0.6913  0.0030\n",
      "     43        0.7592       0.6000        \u001b[35m0.6913\u001b[0m  0.0010\n",
      "     44        0.6562       0.6000        \u001b[35m0.6913\u001b[0m  0.0102\n",
      "     45        0.7774       0.6000        \u001b[35m0.6913\u001b[0m  0.0113\n",
      "     46        0.7099       0.6000        \u001b[35m0.6912\u001b[0m  0.0087\n",
      "     47        0.6659       0.6000        0.6913  0.0109\n",
      "     48        0.6971       0.6000        \u001b[35m0.6912\u001b[0m  0.0092\n",
      "     49        0.7619       0.6000        0.6912  0.0147\n",
      "     50        0.7337       0.6000        0.6913  0.0075\n",
      "     51        0.7761       0.6000        \u001b[35m0.6912\u001b[0m  0.0058\n",
      "     52        0.6710       0.6000        \u001b[35m0.6912\u001b[0m  0.0089\n",
      "     53        0.7175       0.6000        \u001b[35m0.6912\u001b[0m  0.0088\n",
      "     54        0.7386       0.6000        \u001b[35m0.6912\u001b[0m  0.0100\n",
      "     55        0.7196       0.6000        \u001b[35m0.6911\u001b[0m  0.0114\n",
      "     56        0.7335       0.6000        \u001b[35m0.6911\u001b[0m  0.0116\n",
      "     57        0.7802       0.6000        \u001b[35m0.6911\u001b[0m  0.0063\n",
      "     58        0.7470       0.6000        \u001b[35m0.6910\u001b[0m  0.0095\n",
      "     59        0.7770       0.6000        \u001b[35m0.6909\u001b[0m  0.0141\n",
      "     60        0.7163       0.6000        0.6909  0.0129\n",
      "     61        0.7091       0.6000        0.6910  0.0098\n",
      "     62        0.7159       0.6000        0.6910  0.0088\n",
      "     63        0.7054       0.6000        \u001b[35m0.6909\u001b[0m  0.0081\n",
      "     64        0.8052       0.6000        \u001b[35m0.6909\u001b[0m  0.0083\n",
      "     65        0.7024       0.6000        \u001b[35m0.6909\u001b[0m  0.0060\n",
      "     66        0.7243       0.6000        \u001b[35m0.6908\u001b[0m  0.0081\n",
      "     67        0.7886       0.6000        \u001b[35m0.6908\u001b[0m  0.0103\n",
      "     68        0.6947       0.6000        \u001b[35m0.6907\u001b[0m  0.0122\n",
      "     69        0.7336       0.6000        \u001b[35m0.6907\u001b[0m  0.0096\n",
      "     70        0.7275       0.6000        \u001b[35m0.6907\u001b[0m  0.0101\n",
      "     71        0.7465       0.6000        \u001b[35m0.6907\u001b[0m  0.0088\n",
      "     72        0.6594       0.6000        \u001b[35m0.6906\u001b[0m  0.0103\n",
      "     73        0.7359       0.6000        0.6907  0.0089\n",
      "     74        0.7617       0.6000        0.6907  0.0108\n",
      "     75        0.6641       0.6000        0.6907  0.0112\n",
      "     76        0.7188       0.6000        0.6907  0.0088\n",
      "     77        0.7336       0.6000        0.6906  0.0092\n",
      "     78        0.7376       0.6000        \u001b[35m0.6906\u001b[0m  0.0091\n",
      "     79        0.7164       0.6000        \u001b[35m0.6906\u001b[0m  0.0032\n",
      "     80        0.7287       0.6000        \u001b[35m0.6905\u001b[0m  0.0123\n",
      "     81        0.7482       0.6000        \u001b[35m0.6905\u001b[0m  0.0089\n",
      "     82        0.6681       0.6000        \u001b[35m0.6905\u001b[0m  0.0111\n",
      "     83        0.6967       0.6000        \u001b[35m0.6905\u001b[0m  0.0097\n",
      "     84        0.6953       0.6000        \u001b[35m0.6904\u001b[0m  0.0122\n",
      "     85        0.7452       0.6000        \u001b[35m0.6904\u001b[0m  0.0083\n",
      "     86        0.6983       0.6000        \u001b[35m0.6904\u001b[0m  0.0022\n",
      "     87        0.7397       0.6000        \u001b[35m0.6904\u001b[0m  0.0090\n",
      "     88        0.7597       0.6000        \u001b[35m0.6903\u001b[0m  0.0091\n",
      "     89        0.6838       0.6000        \u001b[35m0.6903\u001b[0m  0.0087\n",
      "     90        0.6806       0.6000        \u001b[35m0.6903\u001b[0m  0.0101\n",
      "     91        0.7036       0.6000        \u001b[35m0.6903\u001b[0m  0.0089\n",
      "     92        0.7098       0.6000        0.6903  0.0077\n",
      "     93        0.7487       0.6000        0.6903  0.0064\n",
      "     94        0.7552       0.6000        0.6903  0.0076\n",
      "     95        0.7266       0.6000        \u001b[35m0.6903\u001b[0m  0.0100\n",
      "     96        0.6995       0.6000        \u001b[35m0.6902\u001b[0m  0.0113\n",
      "     97        0.7305       0.6000        \u001b[35m0.6902\u001b[0m  0.0092\n",
      "     98        \u001b[36m0.6301\u001b[0m       0.6000        0.6902  0.0061\n",
      "     99        0.7448       0.6000        \u001b[35m0.6902\u001b[0m  0.0100\n",
      "    100        0.6986       0.6000        \u001b[35m0.6902\u001b[0m  0.0101\n",
      "    101        0.7085       0.6000        \u001b[35m0.6901\u001b[0m  0.0086\n",
      "    102        0.6801       0.6000        \u001b[35m0.6901\u001b[0m  0.0144\n",
      "    103        0.7074       0.6000        0.6901  0.0112\n",
      "    104        0.6804       0.6000        \u001b[35m0.6901\u001b[0m  0.0098\n",
      "    105        0.7220       0.6000        \u001b[35m0.6901\u001b[0m  0.0111\n",
      "    106        0.6975       0.6000        \u001b[35m0.6900\u001b[0m  0.0113\n",
      "    107        0.7251       0.6000        0.6901  0.0111\n",
      "    108        0.6882       0.6000        0.6901  0.0082\n",
      "    109        0.7266       0.6000        0.6901  0.0091\n",
      "    110        0.6743       0.6000        \u001b[35m0.6900\u001b[0m  0.0101\n",
      "    111        0.7607       0.6000        \u001b[35m0.6900\u001b[0m  0.0120\n",
      "    112        0.6937       0.6000        0.6901  0.0103\n",
      "    113        0.7424       0.6000        0.6901  0.0111\n",
      "    114        0.6869       0.6000        0.6901  0.0099\n",
      "    115        0.6630       0.6000        0.6900  0.0123\n",
      "    116        0.7121       0.6000        0.6900  0.0101\n",
      "    117        0.7584       0.6000        \u001b[35m0.6900\u001b[0m  0.0082\n",
      "    118        0.7046       0.6000        \u001b[35m0.6900\u001b[0m  0.0110\n",
      "    119        0.6672       0.6000        \u001b[35m0.6899\u001b[0m  0.0114\n",
      "    120        0.6993       0.6000        \u001b[35m0.6899\u001b[0m  0.0111\n",
      "    121        0.6861       0.6000        0.6899  0.0089\n",
      "    122        0.6793       0.6000        \u001b[35m0.6899\u001b[0m  0.0097\n",
      "    123        0.6954       0.6000        \u001b[35m0.6898\u001b[0m  0.0070\n",
      "    124        0.7540       0.6000        \u001b[35m0.6898\u001b[0m  0.0090\n",
      "    125        0.7529       0.6000        \u001b[35m0.6897\u001b[0m  0.0154\n",
      "    126        0.6938       0.6000        \u001b[35m0.6897\u001b[0m  0.0110\n",
      "    127        0.7490       0.6000        \u001b[35m0.6897\u001b[0m  0.0088\n",
      "    128        0.7854       0.6000        \u001b[35m0.6897\u001b[0m  0.0069\n",
      "    129        0.6940       0.6000        0.6897  0.0118\n",
      "    130        0.7508       0.6000        \u001b[35m0.6897\u001b[0m  0.0081\n",
      "    131        0.7021       0.6000        \u001b[35m0.6896\u001b[0m  0.0091\n",
      "    132        0.6732       0.6000        \u001b[35m0.6896\u001b[0m  0.0112\n",
      "    133        0.7538       0.6000        \u001b[35m0.6895\u001b[0m  0.0050\n",
      "    134        0.6907       0.6000        \u001b[35m0.6895\u001b[0m  0.0118\n",
      "    135        0.6806       0.6000        0.6895  0.0073\n",
      "    136        0.7033       0.6000        \u001b[35m0.6895\u001b[0m  0.0102\n",
      "    137        0.7265       0.6000        0.6895  0.0077\n",
      "    138        0.7158       0.6000        0.6895  0.0117\n",
      "    139        0.7042       0.6000        0.6895  0.0115\n",
      "    140        0.7339       0.6000        0.6895  0.0050\n",
      "    141        0.7251       0.6000        \u001b[35m0.6895\u001b[0m  0.0091\n",
      "    142        0.7236       0.6000        \u001b[35m0.6895\u001b[0m  0.0084\n",
      "    143        0.6983       0.6000        \u001b[35m0.6895\u001b[0m  0.0095\n",
      "    144        0.6982       0.6000        0.6895  0.0062\n",
      "    145        0.7487       0.6000        \u001b[35m0.6894\u001b[0m  0.0070\n",
      "    146        0.6760       0.6000        \u001b[35m0.6894\u001b[0m  0.0090\n",
      "    147        0.7015       0.6000        \u001b[35m0.6893\u001b[0m  0.0067\n",
      "    148        0.7066       0.6000        \u001b[35m0.6893\u001b[0m  0.0120\n",
      "    149        0.7110       0.6000        0.6893  0.0101\n",
      "    150        0.7058       0.6000        \u001b[35m0.6893\u001b[0m  0.0090\n",
      "    151        0.7472       0.6000        0.6893  0.0088\n",
      "    152        0.6924       0.6000        0.6893  0.0036\n",
      "    153        0.6826       0.6000        0.6893  0.0111\n",
      "    154        0.6943       0.6000        0.6893  0.0045\n",
      "    155        0.6891       0.6000        0.6894  0.0058\n",
      "    156        0.7368       0.6000        0.6894  0.0051\n",
      "    157        0.7019       0.6000        0.6893  0.0022\n",
      "    158        0.7189       0.6000        \u001b[35m0.6893\u001b[0m  0.0100\n",
      "    159        0.7398       0.6000        \u001b[35m0.6892\u001b[0m  0.0086\n",
      "    160        0.6562       0.6000        \u001b[35m0.6892\u001b[0m  0.0101\n",
      "    161        0.6943       0.6000        0.6892  0.0085\n",
      "    162        0.7480       0.6000        0.6892  0.0071\n",
      "    163        0.7385       0.6000        0.6892  0.0084\n",
      "    164        0.6653       0.6000        \u001b[35m0.6892\u001b[0m  0.0112\n",
      "    165        0.7568       0.6000        \u001b[35m0.6892\u001b[0m  0.0131\n",
      "    166        0.7396       0.6000        \u001b[35m0.6891\u001b[0m  0.0060\n",
      "    167        0.7500       0.6000        \u001b[35m0.6891\u001b[0m  0.0093\n",
      "    168        0.7668       0.6000        \u001b[35m0.6891\u001b[0m  0.0089\n",
      "    169        0.7010       0.6000        0.6891  0.0097\n",
      "    170        0.6669       0.6000        \u001b[35m0.6890\u001b[0m  0.0103\n",
      "    171        0.7375       0.6000        \u001b[35m0.6890\u001b[0m  0.0131\n",
      "    172        0.6823       0.6000        \u001b[35m0.6890\u001b[0m  0.0117\n",
      "    173        0.7636       0.6000        \u001b[35m0.6890\u001b[0m  0.0056\n",
      "    174        0.7330       0.6000        0.6890  0.0097\n",
      "    175        0.7412       0.6000        0.6890  0.0112\n",
      "    176        0.7621       0.6000        0.6890  0.0070\n",
      "    177        0.7270       0.6000        0.6890  0.0068\n",
      "    178        0.7355       0.6000        \u001b[35m0.6890\u001b[0m  0.0141\n",
      "    179        0.7026       0.6000        \u001b[35m0.6889\u001b[0m  0.0089\n",
      "    180        0.7380       0.6000        0.6889  0.0092\n",
      "    181        0.6353       0.6000        \u001b[35m0.6889\u001b[0m  0.0102\n",
      "    182        0.7188       0.6000        \u001b[35m0.6889\u001b[0m  0.0106\n",
      "    183        0.7276       0.6000        \u001b[35m0.6889\u001b[0m  0.0094\n",
      "    184        0.7170       0.6000        \u001b[35m0.6889\u001b[0m  0.0126\n",
      "    185        0.6968       0.6000        \u001b[35m0.6888\u001b[0m  0.0100\n",
      "    186        \u001b[36m0.6298\u001b[0m       0.6000        \u001b[35m0.6888\u001b[0m  0.0075\n",
      "    187        0.7328       0.6000        0.6889  0.0158\n",
      "    188        0.7338       0.6000        0.6889  0.0000\n",
      "    189        0.7152       0.6000        0.6889  0.0098\n",
      "    190        0.6842       0.6000        0.6889  0.0135\n",
      "    191        0.8312       0.6000        0.6889  0.0052\n",
      "    192        0.7860       0.6000        \u001b[35m0.6888\u001b[0m  0.0114\n",
      "    193        0.6937       0.6000        0.6889  0.0143\n",
      "    194        0.7057       0.6000        \u001b[35m0.6888\u001b[0m  0.0090\n",
      "    195        0.7130       0.6000        0.6889  0.0087\n",
      "    196        0.7294       0.6000        0.6888  0.0069\n",
      "    197        0.7201       0.6000        \u001b[35m0.6888\u001b[0m  0.0085\n",
      "    198        0.7177       0.6000        \u001b[35m0.6888\u001b[0m  0.0070\n",
      "    199        0.7452       0.6000        \u001b[35m0.6888\u001b[0m  0.0051\n",
      "    200        0.6949       0.6000        0.6888  0.0098\n"
     ]
    }
   ],
   "source": [
    "# Fit the pipeline on the aptamer-protein pairs\n",
    "pipeline.fit(X, y)\n",
    "\n",
    "# Predict the labels for the training data\n",
    "y_pred = pipeline.predict(X)"
   ]
  },
  {
   "cell_type": "code",
   "execution_count": 10,
   "id": "f00091db",
   "metadata": {},
   "outputs": [
    {
     "name": "stdout",
     "output_type": "stream",
     "text": [
      "Training Accuracy: 0.52\n"
     ]
    }
   ],
   "source": [
    "# Optional: Evaluate training accuracy\n",
    "from sklearn.metrics import accuracy_score\n",
    "\n",
    "print(\"Training Accuracy:\", accuracy_score(y, y_pred))"
   ]
  },
  {
   "cell_type": "markdown",
   "id": "37db693e",
   "metadata": {},
   "source": [
    "### Third workflow\n",
    "Dataset balancing using under-sampling, while using your own pipeline."
   ]
  },
  {
   "cell_type": "code",
   "execution_count": 11,
   "id": "523f4ce6",
   "metadata": {},
   "outputs": [],
   "source": [
    "# If you want to build your own aptamer pipeline, you should use the following imports\n",
    "from sklearn.preprocessing import FunctionTransformer\n",
    "\n",
    "from pyaptamer.aptanet import AptaNetClassifier, AptaNetPipeline\n",
    "from pyaptamer.utils._aptanet_utils import pairs_to_features"
   ]
  },
  {
   "cell_type": "code",
   "execution_count": 12,
   "id": "0cf0bed1",
   "metadata": {},
   "outputs": [],
   "source": [
    "# OPTIONAL: If you want to use the Neighborhood Cleaning Rule for under-sampling\n",
    "# NOTE: If you want to use under-sampling, you need to install imbalanced-learn\n",
    "# and use the Pipeline from imblearn\n",
    "# %pip install imblearn\n",
    "from imblearn.pipeline import Pipeline\n",
    "from imblearn.under_sampling import NeighbourhoodCleaningRule"
   ]
  },
  {
   "cell_type": "code",
   "execution_count": 13,
   "id": "13fb1669",
   "metadata": {},
   "outputs": [],
   "source": [
    "feature_transformer = FunctionTransformer(\n",
    "    func=pairs_to_features,\n",
    "    validate=False,\n",
    "    # Optional arguments for pairs_to_features\n",
    "    # example: kw_args={'k': 4, 'pseaac_kwargs': {'lambda_value': 30}}\n",
    "    kw_args={},\n",
    ")\n",
    "\n",
    "# AptaNetClassifier encapsulates the \"selector\" and \"net\" mentioned in Workflow 2\n",
    "clf = AptaNetClassifier()\n",
    "\n",
    "model = Pipeline(\n",
    "    [\n",
    "        (\"ncr\", NeighbourhoodCleaningRule()),\n",
    "        (\"clf\", clf),\n",
    "    ]\n",
    ")\n",
    "\n",
    "pipeline = AptaNetPipeline(classifier=model)"
   ]
  },
  {
   "cell_type": "code",
   "execution_count": 14,
   "id": "1ed76399",
   "metadata": {},
   "outputs": [],
   "source": [
    "# Fit the pipeline on the aptamer-protein pairs\n",
    "pipeline.fit(X, y)\n",
    "\n",
    "# Predict the labels for the training data\n",
    "y_pred = pipeline.predict(X)"
   ]
  },
  {
   "cell_type": "code",
   "execution_count": 15,
   "id": "945dc876",
   "metadata": {},
   "outputs": [
    {
     "name": "stdout",
     "output_type": "stream",
     "text": [
      "Training Accuracy: 0.48\n"
     ]
    }
   ],
   "source": [
    "# Optional: Evaluate training accuracy\n",
    "from sklearn.metrics import accuracy_score\n",
    "\n",
    "print(\"Training Accuracy:\", accuracy_score(y, y_pred))"
   ]
  },
  {
   "cell_type": "markdown",
   "id": "0947e5d2",
   "metadata": {},
   "source": [
    "# Additions"
   ]
  },
  {
   "cell_type": "markdown",
   "id": "94894a1b",
   "metadata": {},
   "source": [
    "## Data preparation\n",
    "To train the `AptaNetMLP` the notebook uses the dataset used to train the `AptaTrans` algorithm, this dataset can be found in `pyaptamer/datasets/data/train_li2014`."
   ]
  },
  {
   "cell_type": "code",
   "execution_count": 16,
   "id": "273e2dda",
   "metadata": {},
   "outputs": [],
   "source": [
    "# Data imports\n",
    "import numpy as np\n",
    "\n",
    "from pyaptamer.datasets import load_csv_dataset"
   ]
  },
  {
   "cell_type": "code",
   "execution_count": 17,
   "id": "d5cb05fb",
   "metadata": {},
   "outputs": [],
   "source": [
    "X_raw, y_raw = load_csv_dataset(\"train_li2014\", \"label\", return_X_y=True)\n",
    "\n",
    "# Build combinations in the form of (aptamer, protein)\n",
    "X = list(zip(X_raw[:, 0], X_raw[:, 1], strict=False))\n",
    "\n",
    "# Dummy binary labels for the pairs\n",
    "y = np.where(y_raw == \"positive\", 1, 0)"
   ]
  },
  {
   "cell_type": "code",
   "execution_count": 18,
   "id": "71f1648e",
   "metadata": {},
   "outputs": [
    {
     "name": "stderr",
     "output_type": "stream",
     "text": [
      "C:\\Users\\satvm\\pyaptamer\\pyaptamer\\pseaac\\_features.py:199: UserWarning: Invalid amino acid(s) found in sequence. Replaced with 'N'.\n",
      "  seq = clean_protein_seq(protein_sequence)\n"
     ]
    }
   ],
   "source": [
    "# Fit the pipeline on the aptamer-protein pairs from the `AptaTrans` dataset\n",
    "pipeline.fit(X, y)"
   ]
  },
  {
   "cell_type": "code",
   "execution_count": 19,
   "id": "7c5a42a3",
   "metadata": {},
   "outputs": [
    {
     "data": {
      "text/plain": [
       "array([[0.6849918 , 0.31500822],\n",
       "       [0.6849918 , 0.31500822],\n",
       "       [0.6849918 , 0.31500822],\n",
       "       [0.6849918 , 0.31500822],\n",
       "       [0.6849918 , 0.31500822],\n",
       "       [0.6849918 , 0.31500822],\n",
       "       [0.6849918 , 0.31500822],\n",
       "       [0.6849918 , 0.31500822],\n",
       "       [0.6849918 , 0.31500822],\n",
       "       [0.6849918 , 0.31500822]], dtype=float32)"
      ]
     },
     "execution_count": 19,
     "metadata": {},
     "output_type": "execute_result"
    }
   ],
   "source": [
    "aptamer_sequence = \"GGGAGGACGAAGACGACUCGAGACAGGCUAGGGAGGGA\"\n",
    "\n",
    "gnh = load_1gnh_structure()\n",
    "protein_sequence = struct_to_aaseq(gnh)\n",
    "\n",
    "X = [(aptamer_sequence, p) for p in protein_sequence]\n",
    "\n",
    "pipeline.predict_proba(X)"
   ]
  },
  {
   "cell_type": "markdown",
   "id": "16420bc4",
   "metadata": {},
   "source": [
    "# 3"
   ]
  },
  {
   "cell_type": "code",
   "execution_count": 20,
   "id": "aadff246",
   "metadata": {},
   "outputs": [],
   "source": []
  }
 ],
 "metadata": {
  "kernelspec": {
   "display_name": "pyaptamer-latest",
   "language": "python",
   "name": "python3"
  },
  "language_info": {
   "codemirror_mode": {
    "name": "ipython",
    "version": 3
   },
   "file_extension": ".py",
   "mimetype": "text/x-python",
   "name": "python",
   "nbconvert_exporter": "python",
   "pygments_lexer": "ipython3",
   "version": "3.12.11"
  }
 },
 "nbformat": 4,
 "nbformat_minor": 5
}
