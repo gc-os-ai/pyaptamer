{
 "cells": [
  {
   "cell_type": "code",
   "execution_count": 1,
   "id": "44825503",
   "metadata": {},
   "outputs": [],
   "source": [
    "from pyaptamer.benchmarking import Benchmarking\n",
    "from pyaptamer.benchmarking.preprocessors.aptanet import AptaNetPreprocessor\n",
    "from pyaptamer.datasets import load_csv_dataset"
   ]
  },
  {
   "cell_type": "code",
   "execution_count": 2,
   "id": "af9807c2",
   "metadata": {},
   "outputs": [
    {
     "name": "stdout",
     "output_type": "stream",
     "text": [
      "                                                aptamer  \\\n",
      "0                    UCGGAGGUGGUUCAGCUCUGCAUCGACAGUUGGC   \n",
      "1        CGGGGTGTTGTCCTGTGCTCTCCGGAGAGCACAGGACAACACCCCG   \n",
      "2     GCTGCAGTTGCACTGAATTCGCCTCTCGCCTCCGTACACTTAGTCG...   \n",
      "3                   TATTTGCCCTTGCAGGCCGCAGGAGTGCTAGCAGT   \n",
      "4              UCUCUGGGCUCUUAGGAGAACGGAUAGGAGUGUGCUCGCU   \n",
      "...                                                 ...   \n",
      "2315           CGAUACAGCACUGAUUGCGGUCGAGGUAGCUUGAUGGGCC   \n",
      "2316                      GATGTGGGTGTAGTTGGAGGGTAAACGTT   \n",
      "2317                     ACATGTGATGATATATCGTGTCTCGTGATA   \n",
      "2318  GGGAGAGGAGGGAGAUAGAUAUCAAGAUAAAAACGCCGGCGUAGCG...   \n",
      "2319  CTTCTGCCCGCCTCCTTCCAGAGTAGCCAAGCGGAGAGTATTTTTG...   \n",
      "\n",
      "                                                protein     label  \n",
      "0     MDSTNYISKLFEYAQRQGQISDIKFEEVGTDGPDHLKTFTLRVVIK...  positive  \n",
      "1     MDELFPLIFPAEPAQASGPYVEIIEQPKQRGMRFRYKCEGRSAGSI...  positive  \n",
      "2     MDEVGAQVAAPMFIHQSLGRKRDLYYPMSNRLVQSQPQRRDEWNSK...  positive  \n",
      "3     PISPIDTVPVKLKPGMDGPKVKQWPLTEEKIKALTEICNEMEKEGK...  positive  \n",
      "4     LQENFLPQPRQQHHGTLVLHYRPHREEAGMQHPCLWPGSSHCSDDS...  positive  \n",
      "...                                                 ...       ...  \n",
      "2315  MANLGYWLLALFVTMWTDVGLCKKRPKPGGWNTGGSRYPGQGSPGG...  negative  \n",
      "2316  MVKSHIGSWILVLFVAMWSDVGLCKKRPKPGGGWNTGGSRYPGQGS...  negative  \n",
      "2317  MKKRKVLIPLMALSTILVSSTGNLEVIQAEVKQENRLLNESESSSQ...  negative  \n",
      "2318  MASNFTQFVLVDNGGTGDVTVAPSNFANGVAEWISSNSRSQAYKVT...  negative  \n",
      "2319  MTPGKTSLVSLLLLLSLEAIVKAGITIPRNPGCPNSEDKNFPRTVM...  negative  \n",
      "\n",
      "[2320 rows x 3 columns]\n"
     ]
    }
   ],
   "source": [
    "print(load_csv_dataset(\"train_li2014\"))"
   ]
  },
  {
   "cell_type": "code",
   "execution_count": 4,
   "id": "f41a9480",
   "metadata": {},
   "outputs": [],
   "source": [
    "# --- imports\n",
    "from sklearn.metrics import accuracy_score, f1_score\n",
    "\n",
    "# AptaNetPipeline import (cover common locations)\n",
    "from pyaptamer.aptanet import AptaNetPipeline\n",
    "from pyaptamer.datasets import load_csv_dataset\n",
    "\n",
    "# --- load raw dataset (aptamer/protein/y)\n",
    "df = load_csv_dataset(\"train_li2014\")\n",
    "\n",
    "# --- preprocessor\n",
    "pre = AptaNetPreprocessor()\n",
    "\n",
    "# --- AptaNet model/pipeline (use defaults; tweak if you like)\n",
    "clf = AptaNetPipeline()"
   ]
  },
  {
   "cell_type": "code",
   "execution_count": 5,
   "id": "644f0222",
   "metadata": {},
   "outputs": [
    {
     "data": {
      "text/html": [
       "<div>\n",
       "<style scoped>\n",
       "    .dataframe tbody tr th:only-of-type {\n",
       "        vertical-align: middle;\n",
       "    }\n",
       "\n",
       "    .dataframe tbody tr th {\n",
       "        vertical-align: top;\n",
       "    }\n",
       "\n",
       "    .dataframe thead th {\n",
       "        text-align: right;\n",
       "    }\n",
       "</style>\n",
       "<table border=\"1\" class=\"dataframe\">\n",
       "  <thead>\n",
       "    <tr style=\"text-align: right;\">\n",
       "      <th></th>\n",
       "      <th>aptamer</th>\n",
       "      <th>protein</th>\n",
       "      <th>label</th>\n",
       "    </tr>\n",
       "  </thead>\n",
       "  <tbody>\n",
       "    <tr>\n",
       "      <th>0</th>\n",
       "      <td>UCGGAGGUGGUUCAGCUCUGCAUCGACAGUUGGC</td>\n",
       "      <td>MDSTNYISKLFEYAQRQGQISDIKFEEVGTDGPDHLKTFTLRVVIK...</td>\n",
       "      <td>positive</td>\n",
       "    </tr>\n",
       "    <tr>\n",
       "      <th>1</th>\n",
       "      <td>CGGGGTGTTGTCCTGTGCTCTCCGGAGAGCACAGGACAACACCCCG</td>\n",
       "      <td>MDELFPLIFPAEPAQASGPYVEIIEQPKQRGMRFRYKCEGRSAGSI...</td>\n",
       "      <td>positive</td>\n",
       "    </tr>\n",
       "    <tr>\n",
       "      <th>2</th>\n",
       "      <td>GCTGCAGTTGCACTGAATTCGCCTCTCGCCTCCGTACACTTAGTCG...</td>\n",
       "      <td>MDEVGAQVAAPMFIHQSLGRKRDLYYPMSNRLVQSQPQRRDEWNSK...</td>\n",
       "      <td>positive</td>\n",
       "    </tr>\n",
       "    <tr>\n",
       "      <th>3</th>\n",
       "      <td>TATTTGCCCTTGCAGGCCGCAGGAGTGCTAGCAGT</td>\n",
       "      <td>PISPIDTVPVKLKPGMDGPKVKQWPLTEEKIKALTEICNEMEKEGK...</td>\n",
       "      <td>positive</td>\n",
       "    </tr>\n",
       "    <tr>\n",
       "      <th>4</th>\n",
       "      <td>UCUCUGGGCUCUUAGGAGAACGGAUAGGAGUGUGCUCGCU</td>\n",
       "      <td>LQENFLPQPRQQHHGTLVLHYRPHREEAGMQHPCLWPGSSHCSDDS...</td>\n",
       "      <td>positive</td>\n",
       "    </tr>\n",
       "  </tbody>\n",
       "</table>\n",
       "</div>"
      ],
      "text/plain": [
       "                                             aptamer  \\\n",
       "0                 UCGGAGGUGGUUCAGCUCUGCAUCGACAGUUGGC   \n",
       "1     CGGGGTGTTGTCCTGTGCTCTCCGGAGAGCACAGGACAACACCCCG   \n",
       "2  GCTGCAGTTGCACTGAATTCGCCTCTCGCCTCCGTACACTTAGTCG...   \n",
       "3                TATTTGCCCTTGCAGGCCGCAGGAGTGCTAGCAGT   \n",
       "4           UCUCUGGGCUCUUAGGAGAACGGAUAGGAGUGUGCUCGCU   \n",
       "\n",
       "                                             protein     label  \n",
       "0  MDSTNYISKLFEYAQRQGQISDIKFEEVGTDGPDHLKTFTLRVVIK...  positive  \n",
       "1  MDELFPLIFPAEPAQASGPYVEIIEQPKQRGMRFRYKCEGRSAGSI...  positive  \n",
       "2  MDEVGAQVAAPMFIHQSLGRKRDLYYPMSNRLVQSQPQRRDEWNSK...  positive  \n",
       "3  PISPIDTVPVKLKPGMDGPKVKQWPLTEEKIKALTEICNEMEKEGK...  positive  \n",
       "4  LQENFLPQPRQQHHGTLVLHYRPHREEAGMQHPCLWPGSSHCSDDS...  positive  "
      ]
     },
     "execution_count": 5,
     "metadata": {},
     "output_type": "execute_result"
    }
   ],
   "source": [
    "df.head()"
   ]
  },
  {
   "cell_type": "code",
   "execution_count": 6,
   "id": "b9eb8099",
   "metadata": {},
   "outputs": [
    {
     "data": {
      "text/html": [
       "<div>\n",
       "<style scoped>\n",
       "    .dataframe tbody tr th:only-of-type {\n",
       "        vertical-align: middle;\n",
       "    }\n",
       "\n",
       "    .dataframe tbody tr th {\n",
       "        vertical-align: top;\n",
       "    }\n",
       "\n",
       "    .dataframe thead th {\n",
       "        text-align: right;\n",
       "    }\n",
       "</style>\n",
       "<table border=\"1\" class=\"dataframe\">\n",
       "  <thead>\n",
       "    <tr style=\"text-align: right;\">\n",
       "      <th></th>\n",
       "      <th>aptamer</th>\n",
       "      <th>protein</th>\n",
       "      <th>y</th>\n",
       "    </tr>\n",
       "  </thead>\n",
       "  <tbody>\n",
       "    <tr>\n",
       "      <th>0</th>\n",
       "      <td>UCGGAGGUGGUUCAGCUCUGCAUCGACAGUUGGC</td>\n",
       "      <td>MDSTNYISKLFEYAQRQGQISDIKFEEVGTDGPDHLKTFTLRVVIK...</td>\n",
       "      <td>1</td>\n",
       "    </tr>\n",
       "    <tr>\n",
       "      <th>1</th>\n",
       "      <td>CGGGGTGTTGTCCTGTGCTCTCCGGAGAGCACAGGACAACACCCCG</td>\n",
       "      <td>MDELFPLIFPAEPAQASGPYVEIIEQPKQRGMRFRYKCEGRSAGSI...</td>\n",
       "      <td>1</td>\n",
       "    </tr>\n",
       "    <tr>\n",
       "      <th>2</th>\n",
       "      <td>GCTGCAGTTGCACTGAATTCGCCTCTCGCCTCCGTACACTTAGTCG...</td>\n",
       "      <td>MDEVGAQVAAPMFIHQSLGRKRDLYYPMSNRLVQSQPQRRDEWNSK...</td>\n",
       "      <td>1</td>\n",
       "    </tr>\n",
       "    <tr>\n",
       "      <th>3</th>\n",
       "      <td>TATTTGCCCTTGCAGGCCGCAGGAGTGCTAGCAGT</td>\n",
       "      <td>PISPIDTVPVKLKPGMDGPKVKQWPLTEEKIKALTEICNEMEKEGK...</td>\n",
       "      <td>1</td>\n",
       "    </tr>\n",
       "    <tr>\n",
       "      <th>4</th>\n",
       "      <td>UCUCUGGGCUCUUAGGAGAACGGAUAGGAGUGUGCUCGCU</td>\n",
       "      <td>LQENFLPQPRQQHHGTLVLHYRPHREEAGMQHPCLWPGSSHCSDDS...</td>\n",
       "      <td>1</td>\n",
       "    </tr>\n",
       "  </tbody>\n",
       "</table>\n",
       "</div>"
      ],
      "text/plain": [
       "                                             aptamer  \\\n",
       "0                 UCGGAGGUGGUUCAGCUCUGCAUCGACAGUUGGC   \n",
       "1     CGGGGTGTTGTCCTGTGCTCTCCGGAGAGCACAGGACAACACCCCG   \n",
       "2  GCTGCAGTTGCACTGAATTCGCCTCTCGCCTCCGTACACTTAGTCG...   \n",
       "3                TATTTGCCCTTGCAGGCCGCAGGAGTGCTAGCAGT   \n",
       "4           UCUCUGGGCUCUUAGGAGAACGGAUAGGAGUGUGCUCGCU   \n",
       "\n",
       "                                             protein  y  \n",
       "0  MDSTNYISKLFEYAQRQGQISDIKFEEVGTDGPDHLKTFTLRVVIK...  1  \n",
       "1  MDELFPLIFPAEPAQASGPYVEIIEQPKQRGMRFRYKCEGRSAGSI...  1  \n",
       "2  MDEVGAQVAAPMFIHQSLGRKRDLYYPMSNRLVQSQPQRRDEWNSK...  1  \n",
       "3  PISPIDTVPVKLKPGMDGPKVKQWPLTEEKIKALTEICNEMEKEGK...  1  \n",
       "4  LQENFLPQPRQQHHGTLVLHYRPHREEAGMQHPCLWPGSSHCSDDS...  1  "
      ]
     },
     "execution_count": 6,
     "metadata": {},
     "output_type": "execute_result"
    }
   ],
   "source": [
    "df = df.rename(columns={\"label\": \"y\"})\n",
    "\n",
    "# 2. Map values\n",
    "df[\"y\"] = df[\"y\"].map({\"negative\": 0, \"positive\": 1})\n",
    "\n",
    "df.head()"
   ]
  },
  {
   "cell_type": "code",
   "execution_count": 7,
   "id": "6169daa2",
   "metadata": {},
   "outputs": [
    {
     "ename": "TypeError",
     "evalue": "Cannot clone object '<pyaptamer.aptanet._pipeline.AptaNetPipeline object at 0x000002482E0CB710>' (type <class 'pyaptamer.aptanet._pipeline.AptaNetPipeline'>): it does not seem to be a scikit-learn estimator as it does not implement a 'get_params' method.",
     "output_type": "error",
     "traceback": [
      "\u001b[31m---------------------------------------------------------------------------\u001b[39m",
      "\u001b[31mTypeError\u001b[39m                                 Traceback (most recent call last)",
      "\u001b[36mCell\u001b[39m\u001b[36m \u001b[39m\u001b[32mIn[7]\u001b[39m\u001b[32m, line 14\u001b[39m\n\u001b[32m      2\u001b[39m bench = Benchmarking(\n\u001b[32m      3\u001b[39m     estimators=[clf],\n\u001b[32m      4\u001b[39m     evaluators=[accuracy_score, f1_score],\n\u001b[32m   (...)\u001b[39m\u001b[32m     10\u001b[39m     random_state=\u001b[32m1337\u001b[39m,\n\u001b[32m     11\u001b[39m )\n\u001b[32m     13\u001b[39m \u001b[38;5;66;03m# --- run\u001b[39;00m\n\u001b[32m---> \u001b[39m\u001b[32m14\u001b[39m results = \u001b[43mbench\u001b[49m\u001b[43m.\u001b[49m\u001b[43mrun\u001b[49m\u001b[43m(\u001b[49m\u001b[43m)\u001b[49m\n\u001b[32m     16\u001b[39m \u001b[38;5;66;03m# results is: { \"AptaNetPipeline\": <pd.DataFrame metrics> }\u001b[39;00m\n\u001b[32m     17\u001b[39m results\n",
      "\u001b[36mFile \u001b[39m\u001b[32mc:\\Users\\satvm\\pyaptamer\\pyaptamer\\benchmarking\\_base.py:213\u001b[39m, in \u001b[36mrun\u001b[39m\u001b[34m(self)\u001b[39m\n\u001b[32m    209\u001b[39m         train_df_blocks.append(df)\n\u001b[32m    211\u001b[39m     dfs[estimator] = pd.concat(train_df_blocks)\n\u001b[32m--> \u001b[39m\u001b[32m213\u001b[39m \u001b[38;5;28;01mfor\u001b[39;00m est, df \u001b[38;5;129;01min\u001b[39;00m dfs.items():\n\u001b[32m    214\u001b[39m     \u001b[38;5;28mprint\u001b[39m(\u001b[33mf\u001b[39m\u001b[33m\"\u001b[39m\u001b[38;5;130;01m\\n\u001b[39;00m\u001b[33m=== \u001b[39m\u001b[38;5;132;01m{\u001b[39;00mest\u001b[38;5;132;01m}\u001b[39;00m\u001b[33m ===\u001b[39m\u001b[33m\"\u001b[39m)\n\u001b[32m    215\u001b[39m     \u001b[38;5;28mprint\u001b[39m(df)\n",
      "\u001b[36mFile \u001b[39m\u001b[32mc:\\Users\\satvm\\miniconda3\\envs\\pyaptamer-latest\\Lib\\site-packages\\sklearn\\base.py:95\u001b[39m, in \u001b[36mclone\u001b[39m\u001b[34m(estimator, safe)\u001b[39m\n\u001b[32m     93\u001b[39m \u001b[38;5;28;01mif\u001b[39;00m \u001b[38;5;28mhasattr\u001b[39m(estimator, \u001b[33m\"\u001b[39m\u001b[33m__sklearn_clone__\u001b[39m\u001b[33m\"\u001b[39m) \u001b[38;5;129;01mand\u001b[39;00m \u001b[38;5;129;01mnot\u001b[39;00m inspect.isclass(estimator):\n\u001b[32m     94\u001b[39m     \u001b[38;5;28;01mreturn\u001b[39;00m estimator.__sklearn_clone__()\n\u001b[32m---> \u001b[39m\u001b[32m95\u001b[39m \u001b[38;5;28;01mreturn\u001b[39;00m \u001b[43m_clone_parametrized\u001b[49m\u001b[43m(\u001b[49m\u001b[43mestimator\u001b[49m\u001b[43m,\u001b[49m\u001b[43m \u001b[49m\u001b[43msafe\u001b[49m\u001b[43m=\u001b[49m\u001b[43msafe\u001b[49m\u001b[43m)\u001b[49m\n",
      "\u001b[36mFile \u001b[39m\u001b[32mc:\\Users\\satvm\\miniconda3\\envs\\pyaptamer-latest\\Lib\\site-packages\\sklearn\\base.py:117\u001b[39m, in \u001b[36m_clone_parametrized\u001b[39m\u001b[34m(estimator, safe)\u001b[39m\n\u001b[32m    111\u001b[39m             \u001b[38;5;28;01mraise\u001b[39;00m \u001b[38;5;167;01mTypeError\u001b[39;00m(\n\u001b[32m    112\u001b[39m                 \u001b[33m\"\u001b[39m\u001b[33mCannot clone object. \u001b[39m\u001b[33m\"\u001b[39m\n\u001b[32m    113\u001b[39m                 \u001b[33m\"\u001b[39m\u001b[33mYou should provide an instance of \u001b[39m\u001b[33m\"\u001b[39m\n\u001b[32m    114\u001b[39m                 \u001b[33m\"\u001b[39m\u001b[33mscikit-learn estimator instead of a class.\u001b[39m\u001b[33m\"\u001b[39m\n\u001b[32m    115\u001b[39m             )\n\u001b[32m    116\u001b[39m         \u001b[38;5;28;01melse\u001b[39;00m:\n\u001b[32m--> \u001b[39m\u001b[32m117\u001b[39m             \u001b[38;5;28;01mraise\u001b[39;00m \u001b[38;5;167;01mTypeError\u001b[39;00m(\n\u001b[32m    118\u001b[39m                 \u001b[33m\"\u001b[39m\u001b[33mCannot clone object \u001b[39m\u001b[33m'\u001b[39m\u001b[38;5;132;01m%s\u001b[39;00m\u001b[33m'\u001b[39m\u001b[33m (type \u001b[39m\u001b[38;5;132;01m%s\u001b[39;00m\u001b[33m): \u001b[39m\u001b[33m\"\u001b[39m\n\u001b[32m    119\u001b[39m                 \u001b[33m\"\u001b[39m\u001b[33mit does not seem to be a scikit-learn \u001b[39m\u001b[33m\"\u001b[39m\n\u001b[32m    120\u001b[39m                 \u001b[33m\"\u001b[39m\u001b[33mestimator as it does not implement a \u001b[39m\u001b[33m\"\u001b[39m\n\u001b[32m    121\u001b[39m                 \u001b[33m\"\u001b[39m\u001b[33m'\u001b[39m\u001b[33mget_params\u001b[39m\u001b[33m'\u001b[39m\u001b[33m method.\u001b[39m\u001b[33m\"\u001b[39m % (\u001b[38;5;28mrepr\u001b[39m(estimator), \u001b[38;5;28mtype\u001b[39m(estimator))\n\u001b[32m    122\u001b[39m             )\n\u001b[32m    124\u001b[39m klass = estimator.\u001b[34m__class__\u001b[39m\n\u001b[32m    125\u001b[39m new_object_params = estimator.get_params(deep=\u001b[38;5;28;01mFalse\u001b[39;00m)\n",
      "\u001b[31mTypeError\u001b[39m: Cannot clone object '<pyaptamer.aptanet._pipeline.AptaNetPipeline object at 0x000002482E0CB710>' (type <class 'pyaptamer.aptanet._pipeline.AptaNetPipeline'>): it does not seem to be a scikit-learn estimator as it does not implement a 'get_params' method."
     ]
    }
   ],
   "source": [
    "# --- set up the benchmark (auto split + stratify)\n",
    "bench = Benchmarking(\n",
    "    estimators=[clf],\n",
    "    evaluators=[accuracy_score, f1_score],\n",
    "    task=\"classification\",\n",
    "    preprocessor=pre,\n",
    "    datasets=df,  # can also be [df1, df2] or {\"my_ds\": df}\n",
    "    test_size=0.25,\n",
    "    stratify=True,\n",
    "    random_state=1337,\n",
    ")\n",
    "\n",
    "# --- run\n",
    "results = bench.run()\n",
    "\n",
    "# results is: { \"AptaNetPipeline\": <pd.DataFrame metrics> }\n",
    "results"
   ]
  },
  {
   "cell_type": "code",
   "execution_count": null,
   "id": "146556ba",
   "metadata": {},
   "outputs": [],
   "source": []
  }
 ],
 "metadata": {
  "kernelspec": {
   "display_name": "pyaptamer-latest",
   "language": "python",
   "name": "python3"
  },
  "language_info": {
   "codemirror_mode": {
    "name": "ipython",
    "version": 3
   },
   "file_extension": ".py",
   "mimetype": "text/x-python",
   "name": "python",
   "nbconvert_exporter": "python",
   "pygments_lexer": "ipython3",
   "version": "3.12.11"
  }
 },
 "nbformat": 4,
 "nbformat_minor": 5
}
