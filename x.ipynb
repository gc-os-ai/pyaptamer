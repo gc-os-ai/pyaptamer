{
 "cells": [
  {
   "cell_type": "code",
   "execution_count": 1,
   "id": "44825503",
   "metadata": {},
   "outputs": [],
   "source": [
    "from pyaptamer.benchmarking import Benchmarking\n",
    "from pyaptamer.benchmarking.preprocessors.aptanet import AptaNetPreprocessor\n",
    "from pyaptamer.datasets import load_csv_dataset"
   ]
  },
  {
   "cell_type": "code",
   "execution_count": 2,
   "id": "af9807c2",
   "metadata": {},
   "outputs": [
    {
     "name": "stdout",
     "output_type": "stream",
     "text": [
      "                                                aptamer  \\\n",
      "0                    UCGGAGGUGGUUCAGCUCUGCAUCGACAGUUGGC   \n",
      "1        CGGGGTGTTGTCCTGTGCTCTCCGGAGAGCACAGGACAACACCCCG   \n",
      "2     GCTGCAGTTGCACTGAATTCGCCTCTCGCCTCCGTACACTTAGTCG...   \n",
      "3                   TATTTGCCCTTGCAGGCCGCAGGAGTGCTAGCAGT   \n",
      "4              UCUCUGGGCUCUUAGGAGAACGGAUAGGAGUGUGCUCGCU   \n",
      "...                                                 ...   \n",
      "2315           CGAUACAGCACUGAUUGCGGUCGAGGUAGCUUGAUGGGCC   \n",
      "2316                      GATGTGGGTGTAGTTGGAGGGTAAACGTT   \n",
      "2317                     ACATGTGATGATATATCGTGTCTCGTGATA   \n",
      "2318  GGGAGAGGAGGGAGAUAGAUAUCAAGAUAAAAACGCCGGCGUAGCG...   \n",
      "2319  CTTCTGCCCGCCTCCTTCCAGAGTAGCCAAGCGGAGAGTATTTTTG...   \n",
      "\n",
      "                                                protein     label  \n",
      "0     MDSTNYISKLFEYAQRQGQISDIKFEEVGTDGPDHLKTFTLRVVIK...  positive  \n",
      "1     MDELFPLIFPAEPAQASGPYVEIIEQPKQRGMRFRYKCEGRSAGSI...  positive  \n",
      "2     MDEVGAQVAAPMFIHQSLGRKRDLYYPMSNRLVQSQPQRRDEWNSK...  positive  \n",
      "3     PISPIDTVPVKLKPGMDGPKVKQWPLTEEKIKALTEICNEMEKEGK...  positive  \n",
      "4     LQENFLPQPRQQHHGTLVLHYRPHREEAGMQHPCLWPGSSHCSDDS...  positive  \n",
      "...                                                 ...       ...  \n",
      "2315  MANLGYWLLALFVTMWTDVGLCKKRPKPGGWNTGGSRYPGQGSPGG...  negative  \n",
      "2316  MVKSHIGSWILVLFVAMWSDVGLCKKRPKPGGGWNTGGSRYPGQGS...  negative  \n",
      "2317  MKKRKVLIPLMALSTILVSSTGNLEVIQAEVKQENRLLNESESSSQ...  negative  \n",
      "2318  MASNFTQFVLVDNGGTGDVTVAPSNFANGVAEWISSNSRSQAYKVT...  negative  \n",
      "2319  MTPGKTSLVSLLLLLSLEAIVKAGITIPRNPGCPNSEDKNFPRTVM...  negative  \n",
      "\n",
      "[2320 rows x 3 columns]\n"
     ]
    }
   ],
   "source": [
    "print(load_csv_dataset(\"train_li2014\"))"
   ]
  },
  {
   "cell_type": "code",
   "execution_count": 3,
   "id": "f41a9480",
   "metadata": {},
   "outputs": [],
   "source": [
    "# --- imports\n",
    "from sklearn.metrics import accuracy_score, f1_score\n",
    "\n",
    "# AptaNetPipeline import (cover common locations)\n",
    "from pyaptamer.aptanet import AptaNetPipeline\n",
    "from pyaptamer.datasets import load_csv_dataset\n",
    "\n",
    "# --- load raw dataset (aptamer/protein/y)\n",
    "df = load_csv_dataset(\"train_li2014\")\n",
    "\n",
    "# --- preprocessor\n",
    "pre = AptaNetPreprocessor()\n",
    "\n",
    "# --- AptaNet model/pipeline (use defaults; tweak if you like)\n",
    "clf = AptaNetPipeline()"
   ]
  },
  {
   "cell_type": "code",
   "execution_count": 4,
   "id": "644f0222",
   "metadata": {},
   "outputs": [
    {
     "data": {
      "text/html": [
       "<div>\n",
       "<style scoped>\n",
       "    .dataframe tbody tr th:only-of-type {\n",
       "        vertical-align: middle;\n",
       "    }\n",
       "\n",
       "    .dataframe tbody tr th {\n",
       "        vertical-align: top;\n",
       "    }\n",
       "\n",
       "    .dataframe thead th {\n",
       "        text-align: right;\n",
       "    }\n",
       "</style>\n",
       "<table border=\"1\" class=\"dataframe\">\n",
       "  <thead>\n",
       "    <tr style=\"text-align: right;\">\n",
       "      <th></th>\n",
       "      <th>aptamer</th>\n",
       "      <th>protein</th>\n",
       "      <th>label</th>\n",
       "    </tr>\n",
       "  </thead>\n",
       "  <tbody>\n",
       "    <tr>\n",
       "      <th>0</th>\n",
       "      <td>UCGGAGGUGGUUCAGCUCUGCAUCGACAGUUGGC</td>\n",
       "      <td>MDSTNYISKLFEYAQRQGQISDIKFEEVGTDGPDHLKTFTLRVVIK...</td>\n",
       "      <td>positive</td>\n",
       "    </tr>\n",
       "    <tr>\n",
       "      <th>1</th>\n",
       "      <td>CGGGGTGTTGTCCTGTGCTCTCCGGAGAGCACAGGACAACACCCCG</td>\n",
       "      <td>MDELFPLIFPAEPAQASGPYVEIIEQPKQRGMRFRYKCEGRSAGSI...</td>\n",
       "      <td>positive</td>\n",
       "    </tr>\n",
       "    <tr>\n",
       "      <th>2</th>\n",
       "      <td>GCTGCAGTTGCACTGAATTCGCCTCTCGCCTCCGTACACTTAGTCG...</td>\n",
       "      <td>MDEVGAQVAAPMFIHQSLGRKRDLYYPMSNRLVQSQPQRRDEWNSK...</td>\n",
       "      <td>positive</td>\n",
       "    </tr>\n",
       "    <tr>\n",
       "      <th>3</th>\n",
       "      <td>TATTTGCCCTTGCAGGCCGCAGGAGTGCTAGCAGT</td>\n",
       "      <td>PISPIDTVPVKLKPGMDGPKVKQWPLTEEKIKALTEICNEMEKEGK...</td>\n",
       "      <td>positive</td>\n",
       "    </tr>\n",
       "    <tr>\n",
       "      <th>4</th>\n",
       "      <td>UCUCUGGGCUCUUAGGAGAACGGAUAGGAGUGUGCUCGCU</td>\n",
       "      <td>LQENFLPQPRQQHHGTLVLHYRPHREEAGMQHPCLWPGSSHCSDDS...</td>\n",
       "      <td>positive</td>\n",
       "    </tr>\n",
       "  </tbody>\n",
       "</table>\n",
       "</div>"
      ],
      "text/plain": [
       "                                             aptamer  \\\n",
       "0                 UCGGAGGUGGUUCAGCUCUGCAUCGACAGUUGGC   \n",
       "1     CGGGGTGTTGTCCTGTGCTCTCCGGAGAGCACAGGACAACACCCCG   \n",
       "2  GCTGCAGTTGCACTGAATTCGCCTCTCGCCTCCGTACACTTAGTCG...   \n",
       "3                TATTTGCCCTTGCAGGCCGCAGGAGTGCTAGCAGT   \n",
       "4           UCUCUGGGCUCUUAGGAGAACGGAUAGGAGUGUGCUCGCU   \n",
       "\n",
       "                                             protein     label  \n",
       "0  MDSTNYISKLFEYAQRQGQISDIKFEEVGTDGPDHLKTFTLRVVIK...  positive  \n",
       "1  MDELFPLIFPAEPAQASGPYVEIIEQPKQRGMRFRYKCEGRSAGSI...  positive  \n",
       "2  MDEVGAQVAAPMFIHQSLGRKRDLYYPMSNRLVQSQPQRRDEWNSK...  positive  \n",
       "3  PISPIDTVPVKLKPGMDGPKVKQWPLTEEKIKALTEICNEMEKEGK...  positive  \n",
       "4  LQENFLPQPRQQHHGTLVLHYRPHREEAGMQHPCLWPGSSHCSDDS...  positive  "
      ]
     },
     "execution_count": 4,
     "metadata": {},
     "output_type": "execute_result"
    }
   ],
   "source": [
    "df.head()"
   ]
  },
  {
   "cell_type": "code",
   "execution_count": 5,
   "id": "b9eb8099",
   "metadata": {},
   "outputs": [
    {
     "data": {
      "text/html": [
       "<div>\n",
       "<style scoped>\n",
       "    .dataframe tbody tr th:only-of-type {\n",
       "        vertical-align: middle;\n",
       "    }\n",
       "\n",
       "    .dataframe tbody tr th {\n",
       "        vertical-align: top;\n",
       "    }\n",
       "\n",
       "    .dataframe thead th {\n",
       "        text-align: right;\n",
       "    }\n",
       "</style>\n",
       "<table border=\"1\" class=\"dataframe\">\n",
       "  <thead>\n",
       "    <tr style=\"text-align: right;\">\n",
       "      <th></th>\n",
       "      <th>aptamer</th>\n",
       "      <th>protein</th>\n",
       "      <th>y</th>\n",
       "    </tr>\n",
       "  </thead>\n",
       "  <tbody>\n",
       "    <tr>\n",
       "      <th>0</th>\n",
       "      <td>UCGGAGGUGGUUCAGCUCUGCAUCGACAGUUGGC</td>\n",
       "      <td>MDSTNYISKLFEYAQRQGQISDIKFEEVGTDGPDHLKTFTLRVVIK...</td>\n",
       "      <td>1</td>\n",
       "    </tr>\n",
       "    <tr>\n",
       "      <th>1</th>\n",
       "      <td>CGGGGTGTTGTCCTGTGCTCTCCGGAGAGCACAGGACAACACCCCG</td>\n",
       "      <td>MDELFPLIFPAEPAQASGPYVEIIEQPKQRGMRFRYKCEGRSAGSI...</td>\n",
       "      <td>1</td>\n",
       "    </tr>\n",
       "    <tr>\n",
       "      <th>2</th>\n",
       "      <td>GCTGCAGTTGCACTGAATTCGCCTCTCGCCTCCGTACACTTAGTCG...</td>\n",
       "      <td>MDEVGAQVAAPMFIHQSLGRKRDLYYPMSNRLVQSQPQRRDEWNSK...</td>\n",
       "      <td>1</td>\n",
       "    </tr>\n",
       "    <tr>\n",
       "      <th>3</th>\n",
       "      <td>TATTTGCCCTTGCAGGCCGCAGGAGTGCTAGCAGT</td>\n",
       "      <td>PISPIDTVPVKLKPGMDGPKVKQWPLTEEKIKALTEICNEMEKEGK...</td>\n",
       "      <td>1</td>\n",
       "    </tr>\n",
       "    <tr>\n",
       "      <th>4</th>\n",
       "      <td>UCUCUGGGCUCUUAGGAGAACGGAUAGGAGUGUGCUCGCU</td>\n",
       "      <td>LQENFLPQPRQQHHGTLVLHYRPHREEAGMQHPCLWPGSSHCSDDS...</td>\n",
       "      <td>1</td>\n",
       "    </tr>\n",
       "  </tbody>\n",
       "</table>\n",
       "</div>"
      ],
      "text/plain": [
       "                                             aptamer  \\\n",
       "0                 UCGGAGGUGGUUCAGCUCUGCAUCGACAGUUGGC   \n",
       "1     CGGGGTGTTGTCCTGTGCTCTCCGGAGAGCACAGGACAACACCCCG   \n",
       "2  GCTGCAGTTGCACTGAATTCGCCTCTCGCCTCCGTACACTTAGTCG...   \n",
       "3                TATTTGCCCTTGCAGGCCGCAGGAGTGCTAGCAGT   \n",
       "4           UCUCUGGGCUCUUAGGAGAACGGAUAGGAGUGUGCUCGCU   \n",
       "\n",
       "                                             protein  y  \n",
       "0  MDSTNYISKLFEYAQRQGQISDIKFEEVGTDGPDHLKTFTLRVVIK...  1  \n",
       "1  MDELFPLIFPAEPAQASGPYVEIIEQPKQRGMRFRYKCEGRSAGSI...  1  \n",
       "2  MDEVGAQVAAPMFIHQSLGRKRDLYYPMSNRLVQSQPQRRDEWNSK...  1  \n",
       "3  PISPIDTVPVKLKPGMDGPKVKQWPLTEEKIKALTEICNEMEKEGK...  1  \n",
       "4  LQENFLPQPRQQHHGTLVLHYRPHREEAGMQHPCLWPGSSHCSDDS...  1  "
      ]
     },
     "execution_count": 5,
     "metadata": {},
     "output_type": "execute_result"
    }
   ],
   "source": [
    "df = df.rename(columns={\"label\": \"y\"})\n",
    "\n",
    "# 2. Map values\n",
    "df[\"y\"] = df[\"y\"].map({\"negative\": 0, \"positive\": 1})\n",
    "\n",
    "df.head()"
   ]
  },
  {
   "cell_type": "code",
   "execution_count": null,
   "id": "6169daa2",
   "metadata": {},
   "outputs": [
    {
     "name": "stderr",
     "output_type": "stream",
     "text": [
      "c:\\Users\\satvm\\pyaptamer\\pyaptamer\\pseaac\\_features.py:229: UserWarning: Invalid amino acid(s) found in sequence. Replaced with 'N'.\n",
      "  protein_sequence = clean_protein_seq(protein_sequence)\n"
     ]
    },
    {
     "name": "stdout",
     "output_type": "stream",
     "text": [
      "\n",
      "=== AptaNetPipeline ===\n",
      "                                 dataset_0__test\n",
      "train_set                                       \n",
      "dataset_0__train accuracy_score              1.0\n",
      "                 f1_score                    1.0\n"
     ]
    },
    {
     "data": {
      "text/plain": [
       "{'AptaNetPipeline':                                  dataset_0__test\n",
       " train_set                                       \n",
       " dataset_0__train accuracy_score              1.0\n",
       "                  f1_score                    1.0}"
      ]
     },
     "execution_count": 6,
     "metadata": {},
     "output_type": "execute_result"
    }
   ],
   "source": [
    "# --- set up the benchmark (auto split + stratify)\n",
    "bench = Benchmarking(\n",
    "    estimators=[clf],\n",
    "    evaluators=[accuracy_score, f1_score],\n",
    "    task=\"classification\",\n",
    "    preprocessor=pre,\n",
    "    datasets=df[:10],  # can also be [df1, df2] or {\"my_ds\": df}\n",
    "    test_size=0.25,\n",
    "    stratify=True,\n",
    "    random_state=1337,\n",
    ")\n",
    "\n",
    "# --- run\n",
    "results = bench.run()"
   ]
  },
  {
   "cell_type": "code",
   "execution_count": null,
   "id": "146556ba",
   "metadata": {},
   "outputs": [],
   "source": []
  }
 ],
 "metadata": {
  "kernelspec": {
   "display_name": "pyaptamer-latest",
   "language": "python",
   "name": "python3"
  },
  "language_info": {
   "codemirror_mode": {
    "name": "ipython",
    "version": 3
   },
   "file_extension": ".py",
   "mimetype": "text/x-python",
   "name": "python",
   "nbconvert_exporter": "python",
   "pygments_lexer": "ipython3",
   "version": "3.12.11"
  }
 },
 "nbformat": 4,
 "nbformat_minor": 5
}
